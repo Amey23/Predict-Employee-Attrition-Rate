{
  "nbformat": 4,
  "nbformat_minor": 0,
  "metadata": {
    "colab": {
      "name": "HCK_emp challenge2.ipynb",
      "provenance": []
    },
    "kernelspec": {
      "name": "python3",
      "display_name": "Python 3"
    }
  },
  "cells": [
    {
      "cell_type": "code",
      "metadata": {
        "id": "IymYDf_ZzzVr",
        "colab": {
          "base_uri": "https://localhost:8080/",
          "height": 51
        },
        "outputId": "e2778845-8dc6-4ce6-e613-aec44093181b"
      },
      "source": [
        "import numpy as np\n",
        "import pandas as pd\n",
        "\n",
        "import matplotlib.pyplot as plt\n",
        "import seaborn as sns"
      ],
      "execution_count": null,
      "outputs": [
        {
          "output_type": "stream",
          "text": [
            "/usr/local/lib/python3.6/dist-packages/statsmodels/tools/_testing.py:19: FutureWarning: pandas.util.testing is deprecated. Use the functions in the public API at pandas.testing instead.\n",
            "  import pandas.util.testing as tm\n"
          ],
          "name": "stderr"
        }
      ]
    },
    {
      "cell_type": "code",
      "metadata": {
        "id": "WyXLpM-E3OFz"
      },
      "source": [
        "train = pd.read_csv(\"Train.csv\")\n",
        "test = pd.read_csv(\"Test.csv\")"
      ],
      "execution_count": null,
      "outputs": []
    },
    {
      "cell_type": "code",
      "metadata": {
        "id": "1KXQf-HI3Ynu",
        "colab": {
          "base_uri": "https://localhost:8080/",
          "height": 34
        },
        "outputId": "b9863d8a-1dec-4a86-b2a7-6dcd219f4bd9"
      },
      "source": [
        "train.shape, test.shape"
      ],
      "execution_count": null,
      "outputs": [
        {
          "output_type": "execute_result",
          "data": {
            "text/plain": [
              "((7000, 24), (3000, 23))"
            ]
          },
          "metadata": {
            "tags": []
          },
          "execution_count": 3
        }
      ]
    },
    {
      "cell_type": "code",
      "metadata": {
        "id": "7euuAcg53bmN",
        "colab": {
          "base_uri": "https://localhost:8080/",
          "height": 442
        },
        "outputId": "42c54c2a-ef9b-40e1-d58c-c0e5d445b9ba"
      },
      "source": [
        "train.isnull().sum()"
      ],
      "execution_count": null,
      "outputs": [
        {
          "output_type": "execute_result",
          "data": {
            "text/plain": [
              "Employee_ID                    0\n",
              "Gender                         0\n",
              "Age                          412\n",
              "Education_Level                0\n",
              "Relationship_Status            0\n",
              "Hometown                       0\n",
              "Unit                           0\n",
              "Decision_skill_possess         0\n",
              "Time_of_service              144\n",
              "Time_since_promotion           0\n",
              "growth_rate                    0\n",
              "Travel_Rate                    0\n",
              "Post_Level                     0\n",
              "Pay_Scale                      9\n",
              "Compensation_and_Benefits      0\n",
              "Work_Life_balance             11\n",
              "VAR1                           0\n",
              "VAR2                         577\n",
              "VAR3                           0\n",
              "VAR4                         656\n",
              "VAR5                           0\n",
              "VAR6                           0\n",
              "VAR7                           0\n",
              "Attrition_rate                 0\n",
              "dtype: int64"
            ]
          },
          "metadata": {
            "tags": []
          },
          "execution_count": 4
        }
      ]
    },
    {
      "cell_type": "code",
      "metadata": {
        "id": "Gk76ZEnF3mSK",
        "colab": {
          "base_uri": "https://localhost:8080/",
          "height": 425
        },
        "outputId": "807ebd85-a7a7-4dac-d6cb-1af07eb94e00"
      },
      "source": [
        "test.isnull().sum()"
      ],
      "execution_count": null,
      "outputs": [
        {
          "output_type": "execute_result",
          "data": {
            "text/plain": [
              "Employee_ID                    0\n",
              "Gender                         0\n",
              "Age                          161\n",
              "Education_Level                0\n",
              "Relationship_Status            0\n",
              "Hometown                       0\n",
              "Unit                           0\n",
              "Decision_skill_possess         0\n",
              "Time_of_service               52\n",
              "Time_since_promotion           0\n",
              "growth_rate                    0\n",
              "Travel_Rate                    0\n",
              "Post_Level                     0\n",
              "Pay_Scale                      3\n",
              "Compensation_and_Benefits      0\n",
              "Work_Life_balance              5\n",
              "VAR1                           0\n",
              "VAR2                         217\n",
              "VAR3                           0\n",
              "VAR4                         298\n",
              "VAR5                           0\n",
              "VAR6                           0\n",
              "VAR7                           0\n",
              "dtype: int64"
            ]
          },
          "metadata": {
            "tags": []
          },
          "execution_count": 5
        }
      ]
    },
    {
      "cell_type": "code",
      "metadata": {
        "id": "G_PASDkUyexD",
        "colab": {
          "base_uri": "https://localhost:8080/",
          "height": 258
        },
        "outputId": "b88d87af-dfd2-445d-d47e-c228e3fecab7"
      },
      "source": [
        "train.head()"
      ],
      "execution_count": null,
      "outputs": [
        {
          "output_type": "execute_result",
          "data": {
            "text/html": [
              "<div>\n",
              "<style scoped>\n",
              "    .dataframe tbody tr th:only-of-type {\n",
              "        vertical-align: middle;\n",
              "    }\n",
              "\n",
              "    .dataframe tbody tr th {\n",
              "        vertical-align: top;\n",
              "    }\n",
              "\n",
              "    .dataframe thead th {\n",
              "        text-align: right;\n",
              "    }\n",
              "</style>\n",
              "<table border=\"1\" class=\"dataframe\">\n",
              "  <thead>\n",
              "    <tr style=\"text-align: right;\">\n",
              "      <th></th>\n",
              "      <th>Employee_ID</th>\n",
              "      <th>Gender</th>\n",
              "      <th>Age</th>\n",
              "      <th>Education_Level</th>\n",
              "      <th>Relationship_Status</th>\n",
              "      <th>Hometown</th>\n",
              "      <th>Unit</th>\n",
              "      <th>Decision_skill_possess</th>\n",
              "      <th>Time_of_service</th>\n",
              "      <th>Time_since_promotion</th>\n",
              "      <th>growth_rate</th>\n",
              "      <th>Travel_Rate</th>\n",
              "      <th>Post_Level</th>\n",
              "      <th>Pay_Scale</th>\n",
              "      <th>Compensation_and_Benefits</th>\n",
              "      <th>Work_Life_balance</th>\n",
              "      <th>VAR1</th>\n",
              "      <th>VAR2</th>\n",
              "      <th>VAR3</th>\n",
              "      <th>VAR4</th>\n",
              "      <th>VAR5</th>\n",
              "      <th>VAR6</th>\n",
              "      <th>VAR7</th>\n",
              "      <th>Attrition_rate</th>\n",
              "    </tr>\n",
              "  </thead>\n",
              "  <tbody>\n",
              "    <tr>\n",
              "      <th>0</th>\n",
              "      <td>EID_23371</td>\n",
              "      <td>F</td>\n",
              "      <td>42.0</td>\n",
              "      <td>4</td>\n",
              "      <td>Married</td>\n",
              "      <td>Franklin</td>\n",
              "      <td>IT</td>\n",
              "      <td>Conceptual</td>\n",
              "      <td>4.0</td>\n",
              "      <td>4</td>\n",
              "      <td>33</td>\n",
              "      <td>1</td>\n",
              "      <td>1</td>\n",
              "      <td>7.0</td>\n",
              "      <td>type2</td>\n",
              "      <td>3.0</td>\n",
              "      <td>4</td>\n",
              "      <td>0.7516</td>\n",
              "      <td>1.8688</td>\n",
              "      <td>2.0</td>\n",
              "      <td>4</td>\n",
              "      <td>5</td>\n",
              "      <td>3</td>\n",
              "      <td>0.1841</td>\n",
              "    </tr>\n",
              "    <tr>\n",
              "      <th>1</th>\n",
              "      <td>EID_18000</td>\n",
              "      <td>M</td>\n",
              "      <td>24.0</td>\n",
              "      <td>3</td>\n",
              "      <td>Single</td>\n",
              "      <td>Springfield</td>\n",
              "      <td>Logistics</td>\n",
              "      <td>Analytical</td>\n",
              "      <td>5.0</td>\n",
              "      <td>4</td>\n",
              "      <td>36</td>\n",
              "      <td>0</td>\n",
              "      <td>3</td>\n",
              "      <td>6.0</td>\n",
              "      <td>type2</td>\n",
              "      <td>4.0</td>\n",
              "      <td>3</td>\n",
              "      <td>-0.9612</td>\n",
              "      <td>-0.4537</td>\n",
              "      <td>2.0</td>\n",
              "      <td>3</td>\n",
              "      <td>5</td>\n",
              "      <td>3</td>\n",
              "      <td>0.0670</td>\n",
              "    </tr>\n",
              "    <tr>\n",
              "      <th>2</th>\n",
              "      <td>EID_3891</td>\n",
              "      <td>F</td>\n",
              "      <td>58.0</td>\n",
              "      <td>3</td>\n",
              "      <td>Married</td>\n",
              "      <td>Clinton</td>\n",
              "      <td>Quality</td>\n",
              "      <td>Conceptual</td>\n",
              "      <td>27.0</td>\n",
              "      <td>3</td>\n",
              "      <td>51</td>\n",
              "      <td>0</td>\n",
              "      <td>2</td>\n",
              "      <td>8.0</td>\n",
              "      <td>type2</td>\n",
              "      <td>1.0</td>\n",
              "      <td>4</td>\n",
              "      <td>-0.9612</td>\n",
              "      <td>-0.4537</td>\n",
              "      <td>3.0</td>\n",
              "      <td>3</td>\n",
              "      <td>8</td>\n",
              "      <td>3</td>\n",
              "      <td>0.0851</td>\n",
              "    </tr>\n",
              "    <tr>\n",
              "      <th>3</th>\n",
              "      <td>EID_17492</td>\n",
              "      <td>F</td>\n",
              "      <td>26.0</td>\n",
              "      <td>3</td>\n",
              "      <td>Single</td>\n",
              "      <td>Lebanon</td>\n",
              "      <td>Human Resource Management</td>\n",
              "      <td>Behavioral</td>\n",
              "      <td>4.0</td>\n",
              "      <td>3</td>\n",
              "      <td>56</td>\n",
              "      <td>1</td>\n",
              "      <td>3</td>\n",
              "      <td>8.0</td>\n",
              "      <td>type2</td>\n",
              "      <td>1.0</td>\n",
              "      <td>3</td>\n",
              "      <td>-1.8176</td>\n",
              "      <td>-0.4537</td>\n",
              "      <td>NaN</td>\n",
              "      <td>3</td>\n",
              "      <td>7</td>\n",
              "      <td>3</td>\n",
              "      <td>0.0668</td>\n",
              "    </tr>\n",
              "    <tr>\n",
              "      <th>4</th>\n",
              "      <td>EID_22534</td>\n",
              "      <td>F</td>\n",
              "      <td>31.0</td>\n",
              "      <td>1</td>\n",
              "      <td>Married</td>\n",
              "      <td>Springfield</td>\n",
              "      <td>Logistics</td>\n",
              "      <td>Conceptual</td>\n",
              "      <td>5.0</td>\n",
              "      <td>4</td>\n",
              "      <td>62</td>\n",
              "      <td>1</td>\n",
              "      <td>3</td>\n",
              "      <td>2.0</td>\n",
              "      <td>type3</td>\n",
              "      <td>3.0</td>\n",
              "      <td>1</td>\n",
              "      <td>0.7516</td>\n",
              "      <td>-0.4537</td>\n",
              "      <td>2.0</td>\n",
              "      <td>2</td>\n",
              "      <td>8</td>\n",
              "      <td>2</td>\n",
              "      <td>0.1827</td>\n",
              "    </tr>\n",
              "  </tbody>\n",
              "</table>\n",
              "</div>"
            ],
            "text/plain": [
              "  Employee_ID Gender   Age  Education_Level  ... VAR5 VAR6 VAR7 Attrition_rate\n",
              "0   EID_23371      F  42.0                4  ...    4    5    3         0.1841\n",
              "1   EID_18000      M  24.0                3  ...    3    5    3         0.0670\n",
              "2    EID_3891      F  58.0                3  ...    3    8    3         0.0851\n",
              "3   EID_17492      F  26.0                3  ...    3    7    3         0.0668\n",
              "4   EID_22534      F  31.0                1  ...    2    8    2         0.1827\n",
              "\n",
              "[5 rows x 24 columns]"
            ]
          },
          "metadata": {
            "tags": []
          },
          "execution_count": 8
        }
      ]
    },
    {
      "cell_type": "code",
      "metadata": {
        "id": "ddb6Zq_oyD9P",
        "colab": {
          "base_uri": "https://localhost:8080/",
          "height": 265
        },
        "outputId": "7ec8fee4-7fa7-459f-a6d1-a89bae541712"
      },
      "source": [
        "plt.scatter(train['growth_rate'], train['Attrition_rate'])\n",
        "plt.show()"
      ],
      "execution_count": null,
      "outputs": [
        {
          "output_type": "display_data",
          "data": {
            "image/png": "[encoded data removed]",
            "text/plain": [
              "<Figure size 432x288 with 1 Axes>"
            ]
          },
          "metadata": {
            "tags": [],
            "needs_background": "light"
          }
        }
      ]
    },
    {
      "cell_type": "code",
      "metadata": {
        "id": "18hcDuiuyD0t",
        "colab": {
          "base_uri": "https://localhost:8080/",
          "height": 265
        },
        "outputId": "22376cc3-e48e-4af1-c998-5e2a3c79ee9d"
      },
      "source": [
        "plt.scatter(train['Time_of_service'], train['Attrition_rate'])\n",
        "plt.show()"
      ],
      "execution_count": null,
      "outputs": [
        {
          "output_type": "display_data",
          "data": {
            "image/png": "[encoded data removed]",
            "text/plain": [
              "<Figure size 432x288 with 1 Axes>"
            ]
          },
          "metadata": {
            "tags": [],
            "needs_background": "light"
          }
        }
      ]
    },
    {
      "cell_type": "code",
      "metadata": {
        "id": "AN5kAvsvyDrR",
        "colab": {
          "base_uri": "https://localhost:8080/",
          "height": 265
        },
        "outputId": "c83fd5cb-5371-4950-82cc-024e522151d4"
      },
      "source": [
        "plt.scatter(train['VAR2'], train['VAR3'])\n",
        "plt.show()"
      ],
      "execution_count": null,
      "outputs": [
        {
          "output_type": "display_data",
          "data": {
            "image/png": "[encoded data removed]",
            "text/plain": [
              "<Figure size 432x288 with 1 Axes>"
            ]
          },
          "metadata": {
            "tags": [],
            "needs_background": "light"
          }
        }
      ]
    },
    {
      "cell_type": "code",
      "metadata": {
        "id": "xBVzRWb6yDjC"
      },
      "source": [
        "df = pd.DataFrame(train[['VAR1','VAR2','VAR3','VAR4','VAR5','VAR6','VAR7']])"
      ],
      "execution_count": null,
      "outputs": []
    },
    {
      "cell_type": "code",
      "metadata": {
        "id": "IE-cZhB7yDaz",
        "colab": {
          "base_uri": "https://localhost:8080/",
          "height": 204
        },
        "outputId": "31d058a3-7c62-4369-bb10-233abca7a661"
      },
      "source": [
        "df.head()"
      ],
      "execution_count": null,
      "outputs": [
        {
          "output_type": "execute_result",
          "data": {
            "text/html": [
              "<div>\n",
              "<style scoped>\n",
              "    .dataframe tbody tr th:only-of-type {\n",
              "        vertical-align: middle;\n",
              "    }\n",
              "\n",
              "    .dataframe tbody tr th {\n",
              "        vertical-align: top;\n",
              "    }\n",
              "\n",
              "    .dataframe thead th {\n",
              "        text-align: right;\n",
              "    }\n",
              "</style>\n",
              "<table border=\"1\" class=\"dataframe\">\n",
              "  <thead>\n",
              "    <tr style=\"text-align: right;\">\n",
              "      <th></th>\n",
              "      <th>VAR1</th>\n",
              "      <th>VAR2</th>\n",
              "      <th>VAR3</th>\n",
              "      <th>VAR4</th>\n",
              "      <th>VAR5</th>\n",
              "      <th>VAR6</th>\n",
              "      <th>VAR7</th>\n",
              "    </tr>\n",
              "  </thead>\n",
              "  <tbody>\n",
              "    <tr>\n",
              "      <th>0</th>\n",
              "      <td>4</td>\n",
              "      <td>0.7516</td>\n",
              "      <td>1.8688</td>\n",
              "      <td>2.0</td>\n",
              "      <td>4</td>\n",
              "      <td>5</td>\n",
              "      <td>3</td>\n",
              "    </tr>\n",
              "    <tr>\n",
              "      <th>1</th>\n",
              "      <td>3</td>\n",
              "      <td>-0.9612</td>\n",
              "      <td>-0.4537</td>\n",
              "      <td>2.0</td>\n",
              "      <td>3</td>\n",
              "      <td>5</td>\n",
              "      <td>3</td>\n",
              "    </tr>\n",
              "    <tr>\n",
              "      <th>2</th>\n",
              "      <td>4</td>\n",
              "      <td>-0.9612</td>\n",
              "      <td>-0.4537</td>\n",
              "      <td>3.0</td>\n",
              "      <td>3</td>\n",
              "      <td>8</td>\n",
              "      <td>3</td>\n",
              "    </tr>\n",
              "    <tr>\n",
              "      <th>3</th>\n",
              "      <td>3</td>\n",
              "      <td>-1.8176</td>\n",
              "      <td>-0.4537</td>\n",
              "      <td>NaN</td>\n",
              "      <td>3</td>\n",
              "      <td>7</td>\n",
              "      <td>3</td>\n",
              "    </tr>\n",
              "    <tr>\n",
              "      <th>4</th>\n",
              "      <td>1</td>\n",
              "      <td>0.7516</td>\n",
              "      <td>-0.4537</td>\n",
              "      <td>2.0</td>\n",
              "      <td>2</td>\n",
              "      <td>8</td>\n",
              "      <td>2</td>\n",
              "    </tr>\n",
              "  </tbody>\n",
              "</table>\n",
              "</div>"
            ],
            "text/plain": [
              "   VAR1    VAR2    VAR3  VAR4  VAR5  VAR6  VAR7\n",
              "0     4  0.7516  1.8688   2.0     4     5     3\n",
              "1     3 -0.9612 -0.4537   2.0     3     5     3\n",
              "2     4 -0.9612 -0.4537   3.0     3     8     3\n",
              "3     3 -1.8176 -0.4537   NaN     3     7     3\n",
              "4     1  0.7516 -0.4537   2.0     2     8     2"
            ]
          },
          "metadata": {
            "tags": []
          },
          "execution_count": 26
        }
      ]
    },
    {
      "cell_type": "code",
      "metadata": {
        "id": "vbIzAGEjyDSb",
        "colab": {
          "base_uri": "https://localhost:8080/",
          "height": 153
        },
        "outputId": "d98869ac-58a7-4e65-defd-392f41349b7a"
      },
      "source": [
        "df.isnull().sum()"
      ],
      "execution_count": null,
      "outputs": [
        {
          "output_type": "execute_result",
          "data": {
            "text/plain": [
              "VAR1      0\n",
              "VAR2    577\n",
              "VAR3      0\n",
              "VAR4    656\n",
              "VAR5      0\n",
              "VAR6      0\n",
              "VAR7      0\n",
              "dtype: int64"
            ]
          },
          "metadata": {
            "tags": []
          },
          "execution_count": 27
        }
      ]
    },
    {
      "cell_type": "code",
      "metadata": {
        "id": "ApdO0n_-0et7"
      },
      "source": [
        "df['VAR2'] = df['VAR2'].fillna(df['VAR2'].mean)\n",
        "df['VAR4'] = df['VAR4'].fillna(df['VAR4'].mean)"
      ],
      "execution_count": null,
      "outputs": []
    },
    {
      "cell_type": "code",
      "metadata": {
        "id": "8Qp7b0Vt1QFl"
      },
      "source": [
        "df['VAR2'] = df['VAR2'].fillna(df['VAR2'].median)\n",
        "df['VAR4'] = df['VAR4'].fillna(df['VAR4'].median)"
      ],
      "execution_count": null,
      "outputs": []
    },
    {
      "cell_type": "code",
      "metadata": {
        "id": "s9DAnrYp1tDp",
        "colab": {
          "base_uri": "https://localhost:8080/",
          "height": 34
        },
        "outputId": "67e9c7f4-dbc2-4ff6-e4ee-77174ee5584b"
      },
      "source": [
        "df.columns"
      ],
      "execution_count": null,
      "outputs": [
        {
          "output_type": "execute_result",
          "data": {
            "text/plain": [
              "Index(['VAR1', 'VAR2', 'VAR3', 'VAR4', 'VAR5', 'VAR6', 'VAR7'], dtype='object')"
            ]
          },
          "metadata": {
            "tags": []
          },
          "execution_count": 31
        }
      ]
    },
    {
      "cell_type": "code",
      "metadata": {
        "id": "hh5ANEG31yjH",
        "colab": {
          "base_uri": "https://localhost:8080/",
          "height": 255
        },
        "outputId": "07992143-bb33-4906-81b5-635c350ceb2c"
      },
      "source": [
        "df.info()"
      ],
      "execution_count": null,
      "outputs": [
        {
          "output_type": "stream",
          "text": [
            "<class 'pandas.core.frame.DataFrame'>\n",
            "RangeIndex: 7000 entries, 0 to 6999\n",
            "Data columns (total 7 columns):\n",
            " #   Column  Non-Null Count  Dtype  \n",
            "---  ------  --------------  -----  \n",
            " 0   VAR1    7000 non-null   int64  \n",
            " 1   VAR2    7000 non-null   object \n",
            " 2   VAR3    7000 non-null   float64\n",
            " 3   VAR4    7000 non-null   object \n",
            " 4   VAR5    7000 non-null   int64  \n",
            " 5   VAR6    7000 non-null   int64  \n",
            " 6   VAR7    7000 non-null   int64  \n",
            "dtypes: float64(1), int64(4), object(2)\n",
            "memory usage: 382.9+ KB\n"
          ],
          "name": "stdout"
        }
      ]
    },
    {
      "cell_type": "code",
      "metadata": {
        "id": "5rBKunF_3xv2"
      },
      "source": [
        "df['VAR2'] = pd.to_numeric(df['VAR2'], errors='coerce')"
      ],
      "execution_count": null,
      "outputs": []
    },
    {
      "cell_type": "code",
      "metadata": {
        "id": "-5-uZbWAyDJa",
        "colab": {
          "base_uri": "https://localhost:8080/",
          "height": 204
        },
        "outputId": "b20d2a79-7c7d-4eca-fb70-d54132faa36e"
      },
      "source": [
        "df.corr()"
      ],
      "execution_count": null,
      "outputs": [
        {
          "output_type": "execute_result",
          "data": {
            "text/html": [
              "<div>\n",
              "<style scoped>\n",
              "    .dataframe tbody tr th:only-of-type {\n",
              "        vertical-align: middle;\n",
              "    }\n",
              "\n",
              "    .dataframe tbody tr th {\n",
              "        vertical-align: top;\n",
              "    }\n",
              "\n",
              "    .dataframe thead th {\n",
              "        text-align: right;\n",
              "    }\n",
              "</style>\n",
              "<table border=\"1\" class=\"dataframe\">\n",
              "  <thead>\n",
              "    <tr style=\"text-align: right;\">\n",
              "      <th></th>\n",
              "      <th>VAR1</th>\n",
              "      <th>VAR3</th>\n",
              "      <th>VAR5</th>\n",
              "      <th>VAR6</th>\n",
              "      <th>VAR7</th>\n",
              "    </tr>\n",
              "  </thead>\n",
              "  <tbody>\n",
              "    <tr>\n",
              "      <th>VAR1</th>\n",
              "      <td>1.000000</td>\n",
              "      <td>-0.003318</td>\n",
              "      <td>0.007904</td>\n",
              "      <td>-0.002771</td>\n",
              "      <td>0.009355</td>\n",
              "    </tr>\n",
              "    <tr>\n",
              "      <th>VAR3</th>\n",
              "      <td>-0.003318</td>\n",
              "      <td>1.000000</td>\n",
              "      <td>-0.003399</td>\n",
              "      <td>0.005096</td>\n",
              "      <td>0.008390</td>\n",
              "    </tr>\n",
              "    <tr>\n",
              "      <th>VAR5</th>\n",
              "      <td>0.007904</td>\n",
              "      <td>-0.003399</td>\n",
              "      <td>1.000000</td>\n",
              "      <td>-0.005412</td>\n",
              "      <td>0.009436</td>\n",
              "    </tr>\n",
              "    <tr>\n",
              "      <th>VAR6</th>\n",
              "      <td>-0.002771</td>\n",
              "      <td>0.005096</td>\n",
              "      <td>-0.005412</td>\n",
              "      <td>1.000000</td>\n",
              "      <td>0.011908</td>\n",
              "    </tr>\n",
              "    <tr>\n",
              "      <th>VAR7</th>\n",
              "      <td>0.009355</td>\n",
              "      <td>0.008390</td>\n",
              "      <td>0.009436</td>\n",
              "      <td>0.011908</td>\n",
              "      <td>1.000000</td>\n",
              "    </tr>\n",
              "  </tbody>\n",
              "</table>\n",
              "</div>"
            ],
            "text/plain": [
              "          VAR1      VAR3      VAR5      VAR6      VAR7\n",
              "VAR1  1.000000 -0.003318  0.007904 -0.002771  0.009355\n",
              "VAR3 -0.003318  1.000000 -0.003399  0.005096  0.008390\n",
              "VAR5  0.007904 -0.003399  1.000000 -0.005412  0.009436\n",
              "VAR6 -0.002771  0.005096 -0.005412  1.000000  0.011908\n",
              "VAR7  0.009355  0.008390  0.009436  0.011908  1.000000"
            ]
          },
          "metadata": {
            "tags": []
          },
          "execution_count": 36
        }
      ]
    },
    {
      "cell_type": "code",
      "metadata": {
        "id": "ejfno-d9yC_p",
        "colab": {
          "base_uri": "https://localhost:8080/",
          "height": 34
        },
        "outputId": "aefac736-984a-4af3-dca6-a3c2f6851503"
      },
      "source": [
        "df['VAR2'].isnull().sum()"
      ],
      "execution_count": null,
      "outputs": [
        {
          "output_type": "execute_result",
          "data": {
            "text/plain": [
              "0"
            ]
          },
          "metadata": {
            "tags": []
          },
          "execution_count": 43
        }
      ]
    },
    {
      "cell_type": "code",
      "metadata": {
        "id": "Gww-EVil06sz"
      },
      "source": [
        ""
      ],
      "execution_count": null,
      "outputs": []
    },
    {
      "cell_type": "code",
      "metadata": {
        "id": "xTQ7mg5306jn"
      },
      "source": [
        ""
      ],
      "execution_count": null,
      "outputs": []
    },
    {
      "cell_type": "code",
      "metadata": {
        "id": "Sv5QQq9506aR"
      },
      "source": [
        ""
      ],
      "execution_count": null,
      "outputs": []
    },
    {
      "cell_type": "code",
      "metadata": {
        "id": "_8-CR11S06RQ"
      },
      "source": [
        ""
      ],
      "execution_count": null,
      "outputs": []
    },
    {
      "cell_type": "code",
      "metadata": {
        "id": "P45SLb2B06Hm"
      },
      "source": [
        ""
      ],
      "execution_count": null,
      "outputs": []
    },
    {
      "cell_type": "code",
      "metadata": {
        "id": "o0-4B71I05-v"
      },
      "source": [
        ""
      ],
      "execution_count": null,
      "outputs": []
    },
    {
      "cell_type": "code",
      "metadata": {
        "id": "k5yXxlev051J"
      },
      "source": [
        ""
      ],
      "execution_count": null,
      "outputs": []
    },
    {
      "cell_type": "code",
      "metadata": {
        "id": "Sud0-ELZ05ra"
      },
      "source": [
        ""
      ],
      "execution_count": null,
      "outputs": []
    },
    {
      "cell_type": "code",
      "metadata": {
        "id": "tvy0vh9n3pJO"
      },
      "source": [
        "frames = [train, test]\n",
        "comb = pd.concat(frames)"
      ],
      "execution_count": null,
      "outputs": []
    },
    {
      "cell_type": "code",
      "metadata": {
        "id": "QsO8fzcD309j",
        "colab": {
          "base_uri": "https://localhost:8080/",
          "height": 258
        },
        "outputId": "a742b045-ca2e-415b-9a6e-8870d041ca9e"
      },
      "source": [
        "comb.head()"
      ],
      "execution_count": null,
      "outputs": [
        {
          "output_type": "execute_result",
          "data": {
            "text/html": [
              "<div>\n",
              "<style scoped>\n",
              "    .dataframe tbody tr th:only-of-type {\n",
              "        vertical-align: middle;\n",
              "    }\n",
              "\n",
              "    .dataframe tbody tr th {\n",
              "        vertical-align: top;\n",
              "    }\n",
              "\n",
              "    .dataframe thead th {\n",
              "        text-align: right;\n",
              "    }\n",
              "</style>\n",
              "<table border=\"1\" class=\"dataframe\">\n",
              "  <thead>\n",
              "    <tr style=\"text-align: right;\">\n",
              "      <th></th>\n",
              "      <th>Employee_ID</th>\n",
              "      <th>Gender</th>\n",
              "      <th>Age</th>\n",
              "      <th>Education_Level</th>\n",
              "      <th>Relationship_Status</th>\n",
              "      <th>Hometown</th>\n",
              "      <th>Unit</th>\n",
              "      <th>Decision_skill_possess</th>\n",
              "      <th>Time_of_service</th>\n",
              "      <th>Time_since_promotion</th>\n",
              "      <th>growth_rate</th>\n",
              "      <th>Travel_Rate</th>\n",
              "      <th>Post_Level</th>\n",
              "      <th>Pay_Scale</th>\n",
              "      <th>Compensation_and_Benefits</th>\n",
              "      <th>Work_Life_balance</th>\n",
              "      <th>VAR1</th>\n",
              "      <th>VAR2</th>\n",
              "      <th>VAR3</th>\n",
              "      <th>VAR4</th>\n",
              "      <th>VAR5</th>\n",
              "      <th>VAR6</th>\n",
              "      <th>VAR7</th>\n",
              "      <th>Attrition_rate</th>\n",
              "    </tr>\n",
              "  </thead>\n",
              "  <tbody>\n",
              "    <tr>\n",
              "      <th>0</th>\n",
              "      <td>EID_23371</td>\n",
              "      <td>F</td>\n",
              "      <td>42.0</td>\n",
              "      <td>4</td>\n",
              "      <td>Married</td>\n",
              "      <td>Franklin</td>\n",
              "      <td>IT</td>\n",
              "      <td>Conceptual</td>\n",
              "      <td>4.0</td>\n",
              "      <td>4</td>\n",
              "      <td>33</td>\n",
              "      <td>1</td>\n",
              "      <td>1</td>\n",
              "      <td>7.0</td>\n",
              "      <td>type2</td>\n",
              "      <td>3.0</td>\n",
              "      <td>4</td>\n",
              "      <td>0.7516</td>\n",
              "      <td>1.8688</td>\n",
              "      <td>2.0</td>\n",
              "      <td>4</td>\n",
              "      <td>5</td>\n",
              "      <td>3</td>\n",
              "      <td>0.1841</td>\n",
              "    </tr>\n",
              "    <tr>\n",
              "      <th>1</th>\n",
              "      <td>EID_18000</td>\n",
              "      <td>M</td>\n",
              "      <td>24.0</td>\n",
              "      <td>3</td>\n",
              "      <td>Single</td>\n",
              "      <td>Springfield</td>\n",
              "      <td>Logistics</td>\n",
              "      <td>Analytical</td>\n",
              "      <td>5.0</td>\n",
              "      <td>4</td>\n",
              "      <td>36</td>\n",
              "      <td>0</td>\n",
              "      <td>3</td>\n",
              "      <td>6.0</td>\n",
              "      <td>type2</td>\n",
              "      <td>4.0</td>\n",
              "      <td>3</td>\n",
              "      <td>-0.9612</td>\n",
              "      <td>-0.4537</td>\n",
              "      <td>2.0</td>\n",
              "      <td>3</td>\n",
              "      <td>5</td>\n",
              "      <td>3</td>\n",
              "      <td>0.0670</td>\n",
              "    </tr>\n",
              "    <tr>\n",
              "      <th>2</th>\n",
              "      <td>EID_3891</td>\n",
              "      <td>F</td>\n",
              "      <td>58.0</td>\n",
              "      <td>3</td>\n",
              "      <td>Married</td>\n",
              "      <td>Clinton</td>\n",
              "      <td>Quality</td>\n",
              "      <td>Conceptual</td>\n",
              "      <td>27.0</td>\n",
              "      <td>3</td>\n",
              "      <td>51</td>\n",
              "      <td>0</td>\n",
              "      <td>2</td>\n",
              "      <td>8.0</td>\n",
              "      <td>type2</td>\n",
              "      <td>1.0</td>\n",
              "      <td>4</td>\n",
              "      <td>-0.9612</td>\n",
              "      <td>-0.4537</td>\n",
              "      <td>3.0</td>\n",
              "      <td>3</td>\n",
              "      <td>8</td>\n",
              "      <td>3</td>\n",
              "      <td>0.0851</td>\n",
              "    </tr>\n",
              "    <tr>\n",
              "      <th>3</th>\n",
              "      <td>EID_17492</td>\n",
              "      <td>F</td>\n",
              "      <td>26.0</td>\n",
              "      <td>3</td>\n",
              "      <td>Single</td>\n",
              "      <td>Lebanon</td>\n",
              "      <td>Human Resource Management</td>\n",
              "      <td>Behavioral</td>\n",
              "      <td>4.0</td>\n",
              "      <td>3</td>\n",
              "      <td>56</td>\n",
              "      <td>1</td>\n",
              "      <td>3</td>\n",
              "      <td>8.0</td>\n",
              "      <td>type2</td>\n",
              "      <td>1.0</td>\n",
              "      <td>3</td>\n",
              "      <td>-1.8176</td>\n",
              "      <td>-0.4537</td>\n",
              "      <td>NaN</td>\n",
              "      <td>3</td>\n",
              "      <td>7</td>\n",
              "      <td>3</td>\n",
              "      <td>0.0668</td>\n",
              "    </tr>\n",
              "    <tr>\n",
              "      <th>4</th>\n",
              "      <td>EID_22534</td>\n",
              "      <td>F</td>\n",
              "      <td>31.0</td>\n",
              "      <td>1</td>\n",
              "      <td>Married</td>\n",
              "      <td>Springfield</td>\n",
              "      <td>Logistics</td>\n",
              "      <td>Conceptual</td>\n",
              "      <td>5.0</td>\n",
              "      <td>4</td>\n",
              "      <td>62</td>\n",
              "      <td>1</td>\n",
              "      <td>3</td>\n",
              "      <td>2.0</td>\n",
              "      <td>type3</td>\n",
              "      <td>3.0</td>\n",
              "      <td>1</td>\n",
              "      <td>0.7516</td>\n",
              "      <td>-0.4537</td>\n",
              "      <td>2.0</td>\n",
              "      <td>2</td>\n",
              "      <td>8</td>\n",
              "      <td>2</td>\n",
              "      <td>0.1827</td>\n",
              "    </tr>\n",
              "  </tbody>\n",
              "</table>\n",
              "</div>"
            ],
            "text/plain": [
              "  Employee_ID Gender   Age  Education_Level  ... VAR5 VAR6 VAR7 Attrition_rate\n",
              "0   EID_23371      F  42.0                4  ...    4    5    3         0.1841\n",
              "1   EID_18000      M  24.0                3  ...    3    5    3         0.0670\n",
              "2    EID_3891      F  58.0                3  ...    3    8    3         0.0851\n",
              "3   EID_17492      F  26.0                3  ...    3    7    3         0.0668\n",
              "4   EID_22534      F  31.0                1  ...    2    8    2         0.1827\n",
              "\n",
              "[5 rows x 24 columns]"
            ]
          },
          "metadata": {
            "tags": []
          },
          "execution_count": 49
        }
      ]
    },
    {
      "cell_type": "code",
      "metadata": {
        "id": "SGt2kjeD33Fg",
        "colab": {
          "base_uri": "https://localhost:8080/",
          "height": 34
        },
        "outputId": "c67f3365-1abb-4669-b5f2-288989e4dff2"
      },
      "source": [
        "comb.shape"
      ],
      "execution_count": null,
      "outputs": [
        {
          "output_type": "execute_result",
          "data": {
            "text/plain": [
              "(10000, 24)"
            ]
          },
          "metadata": {
            "tags": []
          },
          "execution_count": 50
        }
      ]
    },
    {
      "cell_type": "code",
      "metadata": {
        "id": "OMqea0404N8y",
        "colab": {
          "base_uri": "https://localhost:8080/",
          "height": 442
        },
        "outputId": "f5e9b79c-158e-4c81-ca80-c39182816658"
      },
      "source": [
        "comb.isnull().sum()"
      ],
      "execution_count": null,
      "outputs": [
        {
          "output_type": "execute_result",
          "data": {
            "text/plain": [
              "Employee_ID                     0\n",
              "Gender                          0\n",
              "Age                           573\n",
              "Education_Level                 0\n",
              "Relationship_Status             0\n",
              "Hometown                        0\n",
              "Unit                            0\n",
              "Decision_skill_possess          0\n",
              "Time_of_service               196\n",
              "Time_since_promotion            0\n",
              "growth_rate                     0\n",
              "Travel_Rate                     0\n",
              "Post_Level                      0\n",
              "Pay_Scale                      12\n",
              "Compensation_and_Benefits       0\n",
              "Work_Life_balance              16\n",
              "VAR1                            0\n",
              "VAR2                          794\n",
              "VAR3                            0\n",
              "VAR4                          954\n",
              "VAR5                            0\n",
              "VAR6                            0\n",
              "VAR7                            0\n",
              "Attrition_rate               3000\n",
              "dtype: int64"
            ]
          },
          "metadata": {
            "tags": []
          },
          "execution_count": 51
        }
      ]
    },
    {
      "cell_type": "code",
      "metadata": {
        "id": "gJHLn6E74VuK"
      },
      "source": [
        "train_dr = train.dropna()"
      ],
      "execution_count": null,
      "outputs": []
    },
    {
      "cell_type": "code",
      "metadata": {
        "id": "_4EF81Th4XB3",
        "colab": {
          "base_uri": "https://localhost:8080/",
          "height": 265
        },
        "outputId": "d71bf872-5da7-4dd3-de45-9207c489f24b"
      },
      "source": [
        "plt.scatter(comb['Age'], comb['Attrition_rate'])\n",
        "plt.show()"
      ],
      "execution_count": null,
      "outputs": [
        {
          "output_type": "display_data",
          "data": {
            "image/png": "[encoded data removed]",
            "text/plain": [
              "<Figure size 432x288 with 1 Axes>"
            ]
          },
          "metadata": {
            "tags": [],
            "needs_background": "light"
          }
        }
      ]
    },
    {
      "cell_type": "code",
      "metadata": {
        "id": "z3tl-6cL8EIE",
        "colab": {
          "base_uri": "https://localhost:8080/",
          "height": 34
        },
        "outputId": "efccf942-f242-41bf-f151-182c163aa213"
      },
      "source": [
        "comb['Age'].median()"
      ],
      "execution_count": null,
      "outputs": [
        {
          "output_type": "execute_result",
          "data": {
            "text/plain": [
              "38.0"
            ]
          },
          "metadata": {
            "tags": []
          },
          "execution_count": 89
        }
      ]
    },
    {
      "cell_type": "code",
      "metadata": {
        "id": "aGSadMQw8E4c"
      },
      "source": [
        "comb['Age'] = comb['Age'].fillna(comb['Age'].mean())"
      ],
      "execution_count": null,
      "outputs": []
    },
    {
      "cell_type": "code",
      "metadata": {
        "id": "cXTf-IhX8FHj",
        "colab": {
          "base_uri": "https://localhost:8080/",
          "height": 34
        },
        "outputId": "4da4e239-2792-41df-c7c6-f6c57dfe6227"
      },
      "source": [
        "comb['Age'].isnull().sum()"
      ],
      "execution_count": null,
      "outputs": [
        {
          "output_type": "execute_result",
          "data": {
            "text/plain": [
              "0"
            ]
          },
          "metadata": {
            "tags": []
          },
          "execution_count": 54
        }
      ]
    },
    {
      "cell_type": "code",
      "metadata": {
        "id": "iqdGgvwp8FT0"
      },
      "source": [
        ""
      ],
      "execution_count": null,
      "outputs": []
    },
    {
      "cell_type": "code",
      "metadata": {
        "id": "ydKeAruL5DQY",
        "colab": {
          "base_uri": "https://localhost:8080/",
          "height": 265
        },
        "outputId": "f0f5bb07-9a53-4b36-9950-5e91b8e41e4a"
      },
      "source": [
        "plt.scatter(comb['Education_Level'], comb['Attrition_rate'])\n",
        "plt.show()"
      ],
      "execution_count": null,
      "outputs": [
        {
          "output_type": "display_data",
          "data": {
            "image/png": "[encoded data removed]",
            "text/plain": [
              "<Figure size 432x288 with 1 Axes>"
            ]
          },
          "metadata": {
            "tags": [],
            "needs_background": "light"
          }
        }
      ]
    },
    {
      "cell_type": "code",
      "metadata": {
        "id": "mAWHe9N87CAg",
        "colab": {
          "base_uri": "https://localhost:8080/",
          "height": 119
        },
        "outputId": "529e1097-2c81-4f71-9c8b-3e44fb4643ce"
      },
      "source": [
        "comb['Education_Level'].value_counts()"
      ],
      "execution_count": null,
      "outputs": [
        {
          "output_type": "execute_result",
          "data": {
            "text/plain": [
              "3    4063\n",
              "4    3018\n",
              "2     982\n",
              "1     979\n",
              "5     958\n",
              "Name: Education_Level, dtype: int64"
            ]
          },
          "metadata": {
            "tags": []
          },
          "execution_count": 56
        }
      ]
    },
    {
      "cell_type": "code",
      "metadata": {
        "id": "bpvRa5jd5S9y",
        "colab": {
          "base_uri": "https://localhost:8080/",
          "height": 265
        },
        "outputId": "e337d38d-c722-4f68-be33-c8f75573fa32"
      },
      "source": [
        "plt.scatter(comb['Relationship_Status'], comb['Attrition_rate'])\n",
        "plt.show()"
      ],
      "execution_count": null,
      "outputs": [
        {
          "output_type": "display_data",
          "data": {
            "image/png": "[encoded data removed]",
            "text/plain": [
              "<Figure size 432x288 with 1 Axes>"
            ]
          },
          "metadata": {
            "tags": [],
            "needs_background": "light"
          }
        }
      ]
    },
    {
      "cell_type": "code",
      "metadata": {
        "id": "OMjARS6i6kKu",
        "colab": {
          "base_uri": "https://localhost:8080/",
          "height": 68
        },
        "outputId": "9c7cfbac-a0d3-46ab-93d9-2073cd42c330"
      },
      "source": [
        "comb['Relationship_Status'].value_counts()"
      ],
      "execution_count": null,
      "outputs": [
        {
          "output_type": "execute_result",
          "data": {
            "text/plain": [
              "Married    6461\n",
              "Single     3539\n",
              "Name: Relationship_Status, dtype: int64"
            ]
          },
          "metadata": {
            "tags": []
          },
          "execution_count": 58
        }
      ]
    },
    {
      "cell_type": "code",
      "metadata": {
        "id": "pLuy7-qT6-M6",
        "colab": {
          "base_uri": "https://localhost:8080/",
          "height": 119
        },
        "outputId": "1e22de77-4a64-419f-b4b0-65f584d23553"
      },
      "source": [
        "comb['Hometown'].value_counts()"
      ],
      "execution_count": null,
      "outputs": [
        {
          "output_type": "execute_result",
          "data": {
            "text/plain": [
              "Lebanon        2953\n",
              "Springfield    2484\n",
              "Franklin       2181\n",
              "Washington     1570\n",
              "Clinton         812\n",
              "Name: Hometown, dtype: int64"
            ]
          },
          "metadata": {
            "tags": []
          },
          "execution_count": 59
        }
      ]
    },
    {
      "cell_type": "code",
      "metadata": {
        "id": "3APcl-zq7O3R",
        "colab": {
          "base_uri": "https://localhost:8080/",
          "height": 238
        },
        "outputId": "1d543dee-43f3-4190-c382-5777a1e7f44f"
      },
      "source": [
        "comb['Unit'].value_counts()"
      ],
      "execution_count": null,
      "outputs": [
        {
          "output_type": "execute_result",
          "data": {
            "text/plain": [
              "IT                           1963\n",
              "Logistics                    1648\n",
              "Sales                        1389\n",
              "Operarions                   1008\n",
              "R&D                           991\n",
              "Purchasing                    714\n",
              "Accounting and Finance        679\n",
              "Human Resource Management     513\n",
              "Marketing                     319\n",
              "Production                    292\n",
              "Quality                       290\n",
              "Security                      194\n",
              "Name: Unit, dtype: int64"
            ]
          },
          "metadata": {
            "tags": []
          },
          "execution_count": 60
        }
      ]
    },
    {
      "cell_type": "code",
      "metadata": {
        "id": "4pwT8cP07W0z",
        "colab": {
          "base_uri": "https://localhost:8080/",
          "height": 265
        },
        "outputId": "f685a7ad-d3bd-479c-f3c9-b0f0ecf63c99"
      },
      "source": [
        "plt.scatter(train['Time_of_service'], train['Attrition_rate'])\n",
        "plt.show()"
      ],
      "execution_count": null,
      "outputs": [
        {
          "output_type": "display_data",
          "data": {
            "image/png": "[encoded data removed]",
            "text/plain": [
              "<Figure size 432x288 with 1 Axes>"
            ]
          },
          "metadata": {
            "tags": [],
            "needs_background": "light"
          }
        }
      ]
    },
    {
      "cell_type": "code",
      "metadata": {
        "id": "HgdyfiQB7ptW",
        "colab": {
          "base_uri": "https://localhost:8080/",
          "height": 34
        },
        "outputId": "80473f60-d36b-47eb-c1ba-81132996c69d"
      },
      "source": [
        "#train['Time_of_service'].value_counts()\n",
        "#comb['Time_of_service'].value_counts()\n",
        "comb['Time_of_service'].mean()"
      ],
      "execution_count": null,
      "outputs": [
        {
          "output_type": "execute_result",
          "data": {
            "text/plain": [
              "13.390656874745002"
            ]
          },
          "metadata": {
            "tags": []
          },
          "execution_count": 63
        }
      ]
    },
    {
      "cell_type": "code",
      "metadata": {
        "id": "H0lqbIUt774s"
      },
      "source": [
        "comb['Time_of_service'] = comb['Time_of_service'].fillna(comb['Time_of_service'].mean())"
      ],
      "execution_count": null,
      "outputs": []
    },
    {
      "cell_type": "code",
      "metadata": {
        "id": "01xROfS09xA1",
        "colab": {
          "base_uri": "https://localhost:8080/",
          "height": 204
        },
        "outputId": "d35816c8-ecfc-4af9-f872-fdee454c1658"
      },
      "source": [
        "comb['Pay_Scale'].value_counts()"
      ],
      "execution_count": null,
      "outputs": [
        {
          "output_type": "execute_result",
          "data": {
            "text/plain": [
              "8.0     1964\n",
              "6.0     1820\n",
              "5.0     1640\n",
              "4.0     1405\n",
              "7.0     1163\n",
              "9.0      703\n",
              "2.0      383\n",
              "3.0      366\n",
              "10.0     314\n",
              "1.0      230\n",
              "Name: Pay_Scale, dtype: int64"
            ]
          },
          "metadata": {
            "tags": []
          },
          "execution_count": 65
        }
      ]
    },
    {
      "cell_type": "code",
      "metadata": {
        "id": "Rp-noGw794eJ"
      },
      "source": [
        "comb['Pay_Scale'] = comb['Pay_Scale'].fillna(8.0)"
      ],
      "execution_count": null,
      "outputs": []
    },
    {
      "cell_type": "code",
      "metadata": {
        "id": "JOxrIck7-DwA",
        "colab": {
          "base_uri": "https://localhost:8080/",
          "height": 119
        },
        "outputId": "2f93b625-a067-408d-cced-3dc1fa705f1e"
      },
      "source": [
        "comb['Work_Life_balance'].value_counts()"
      ],
      "execution_count": null,
      "outputs": [
        {
          "output_type": "execute_result",
          "data": {
            "text/plain": [
              "1.0    2951\n",
              "3.0    2858\n",
              "2.0    2287\n",
              "4.0    1719\n",
              "5.0     169\n",
              "Name: Work_Life_balance, dtype: int64"
            ]
          },
          "metadata": {
            "tags": []
          },
          "execution_count": 67
        }
      ]
    },
    {
      "cell_type": "code",
      "metadata": {
        "id": "FQ0XuHLy-Nzb"
      },
      "source": [
        "comb['Work_Life_balance'] = comb['Work_Life_balance'].fillna(1.0)"
      ],
      "execution_count": null,
      "outputs": []
    },
    {
      "cell_type": "code",
      "metadata": {
        "id": "OO88QPE_-V2w",
        "colab": {
          "base_uri": "https://localhost:8080/",
          "height": 265
        },
        "outputId": "a125c7e7-0754-4df2-fa82-69796a35afea"
      },
      "source": [
        "plt.scatter(comb['VAR2'], comb['Attrition_rate'])\n",
        "plt.show()"
      ],
      "execution_count": null,
      "outputs": [
        {
          "output_type": "display_data",
          "data": {
            "image/png": "[encoded data removed]",
            "text/plain": [
              "<Figure size 432x288 with 1 Axes>"
            ]
          },
          "metadata": {
            "tags": [],
            "needs_background": "light"
          }
        }
      ]
    },
    {
      "cell_type": "code",
      "metadata": {
        "id": "DpK0XFEB-6-2",
        "colab": {
          "base_uri": "https://localhost:8080/",
          "height": 119
        },
        "outputId": "049e7c24-48cc-4669-fb17-d1a6a4283d5a"
      },
      "source": [
        "comb['VAR2'].value_counts()"
      ],
      "execution_count": null,
      "outputs": [
        {
          "output_type": "execute_result",
          "data": {
            "text/plain": [
              " 0.7516    3582\n",
              "-0.1048    2288\n",
              "-0.9612    1469\n",
              "-1.8176    1173\n",
              " 1.6081     694\n",
              "Name: VAR2, dtype: int64"
            ]
          },
          "metadata": {
            "tags": []
          },
          "execution_count": 74
        }
      ]
    },
    {
      "cell_type": "code",
      "metadata": {
        "id": "2ZdZoSZi_FeH",
        "colab": {
          "base_uri": "https://localhost:8080/",
          "height": 34
        },
        "outputId": "ede2cd47-633e-4cf5-f8f0-49d1c94d9d46"
      },
      "source": [
        "comb['VAR2'].median()"
      ],
      "execution_count": null,
      "outputs": [
        {
          "output_type": "execute_result",
          "data": {
            "text/plain": [
              "-0.1048"
            ]
          },
          "metadata": {
            "tags": []
          },
          "execution_count": 75
        }
      ]
    },
    {
      "cell_type": "code",
      "metadata": {
        "id": "zpS9ABKo_M5a"
      },
      "source": [
        "comb['VAR2'] = comb['VAR2'].fillna(comb['VAR2'].median())"
      ],
      "execution_count": null,
      "outputs": []
    },
    {
      "cell_type": "code",
      "metadata": {
        "id": "IZ2r2dwBDT7j",
        "colab": {
          "base_uri": "https://localhost:8080/",
          "height": 85
        },
        "outputId": "d3e24133-d9d5-4024-f1b4-f56274f4c435"
      },
      "source": [
        "comb['VAR4'].value_counts()"
      ],
      "execution_count": null,
      "outputs": [
        {
          "output_type": "execute_result",
          "data": {
            "text/plain": [
              "2.0    6369\n",
              "1.0    1809\n",
              "3.0     868\n",
              "Name: VAR4, dtype: int64"
            ]
          },
          "metadata": {
            "tags": []
          },
          "execution_count": 77
        }
      ]
    },
    {
      "cell_type": "code",
      "metadata": {
        "id": "5g-g86rsD8SK"
      },
      "source": [
        "comb['VAR4'] = comb['VAR4'].fillna(comb['VAR4'].median())"
      ],
      "execution_count": null,
      "outputs": []
    },
    {
      "cell_type": "code",
      "metadata": {
        "id": "0j6oPEuMEB8P",
        "colab": {
          "base_uri": "https://localhost:8080/",
          "height": 442
        },
        "outputId": "624a02ff-007f-4baa-b31f-e96e863a9ea2"
      },
      "source": [
        "comb.isnull().sum()"
      ],
      "execution_count": null,
      "outputs": [
        {
          "output_type": "execute_result",
          "data": {
            "text/plain": [
              "Employee_ID                     0\n",
              "Gender                          0\n",
              "Age                             0\n",
              "Education_Level                 0\n",
              "Relationship_Status             0\n",
              "Hometown                        0\n",
              "Unit                            0\n",
              "Decision_skill_possess          0\n",
              "Time_of_service                 0\n",
              "Time_since_promotion            0\n",
              "growth_rate                     0\n",
              "Travel_Rate                     0\n",
              "Post_Level                      0\n",
              "Pay_Scale                       0\n",
              "Compensation_and_Benefits       0\n",
              "Work_Life_balance               0\n",
              "VAR1                            0\n",
              "VAR2                            0\n",
              "VAR3                            0\n",
              "VAR4                            0\n",
              "VAR5                            0\n",
              "VAR6                            0\n",
              "VAR7                            0\n",
              "Attrition_rate               3000\n",
              "dtype: int64"
            ]
          },
          "metadata": {
            "tags": []
          },
          "execution_count": 79
        }
      ]
    },
    {
      "cell_type": "code",
      "metadata": {
        "id": "OgZqU-x85GFy",
        "colab": {
          "base_uri": "https://localhost:8080/",
          "height": 544
        },
        "outputId": "e19aedc3-e408-48e9-9d58-919ac9c53843"
      },
      "source": [
        "comb.info()"
      ],
      "execution_count": null,
      "outputs": [
        {
          "output_type": "stream",
          "text": [
            "<class 'pandas.core.frame.DataFrame'>\n",
            "Int64Index: 10000 entries, 0 to 2999\n",
            "Data columns (total 24 columns):\n",
            " #   Column                     Non-Null Count  Dtype  \n",
            "---  ------                     --------------  -----  \n",
            " 0   Employee_ID                10000 non-null  object \n",
            " 1   Gender                     10000 non-null  int64  \n",
            " 2   Age                        10000 non-null  float64\n",
            " 3   Education_Level            10000 non-null  int64  \n",
            " 4   Relationship_Status        10000 non-null  int64  \n",
            " 5   Hometown                   10000 non-null  int64  \n",
            " 6   Unit                       10000 non-null  int64  \n",
            " 7   Decision_skill_possess     10000 non-null  int64  \n",
            " 8   Time_of_service            10000 non-null  float64\n",
            " 9   Time_since_promotion       10000 non-null  int64  \n",
            " 10  growth_rate                10000 non-null  int64  \n",
            " 11  Travel_Rate                10000 non-null  int64  \n",
            " 12  Post_Level                 10000 non-null  int64  \n",
            " 13  Pay_Scale                  10000 non-null  float64\n",
            " 14  Compensation_and_Benefits  10000 non-null  int64  \n",
            " 15  Work_Life_balance          10000 non-null  float64\n",
            " 16  VAR1                       10000 non-null  int64  \n",
            " 17  VAR2                       10000 non-null  float64\n",
            " 18  VAR3                       10000 non-null  float64\n",
            " 19  VAR4                       10000 non-null  float64\n",
            " 20  VAR5                       10000 non-null  int64  \n",
            " 21  VAR6                       10000 non-null  int64  \n",
            " 22  VAR7                       10000 non-null  int64  \n",
            " 23  Attrition_rate             7000 non-null   float64\n",
            "dtypes: float64(8), int64(15), object(1)\n",
            "memory usage: 1.9+ MB\n"
          ],
          "name": "stdout"
        }
      ]
    },
    {
      "cell_type": "code",
      "metadata": {
        "id": "S7BJXe4m5F7I",
        "colab": {
          "base_uri": "https://localhost:8080/",
          "height": 544
        },
        "outputId": "2c75aba5-e0a4-469f-f344-ce2ea84edb6d"
      },
      "source": [
        "train.info()"
      ],
      "execution_count": null,
      "outputs": [
        {
          "output_type": "stream",
          "text": [
            "<class 'pandas.core.frame.DataFrame'>\n",
            "RangeIndex: 7000 entries, 0 to 6999\n",
            "Data columns (total 24 columns):\n",
            " #   Column                     Non-Null Count  Dtype  \n",
            "---  ------                     --------------  -----  \n",
            " 0   Employee_ID                7000 non-null   object \n",
            " 1   Gender                     7000 non-null   object \n",
            " 2   Age                        6588 non-null   float64\n",
            " 3   Education_Level            7000 non-null   int64  \n",
            " 4   Relationship_Status        7000 non-null   object \n",
            " 5   Hometown                   7000 non-null   object \n",
            " 6   Unit                       7000 non-null   object \n",
            " 7   Decision_skill_possess     7000 non-null   object \n",
            " 8   Time_of_service            6856 non-null   float64\n",
            " 9   Time_since_promotion       7000 non-null   int64  \n",
            " 10  growth_rate                7000 non-null   int64  \n",
            " 11  Travel_Rate                7000 non-null   int64  \n",
            " 12  Post_Level                 7000 non-null   int64  \n",
            " 13  Pay_Scale                  6991 non-null   float64\n",
            " 14  Compensation_and_Benefits  7000 non-null   object \n",
            " 15  Work_Life_balance          6989 non-null   float64\n",
            " 16  VAR1                       7000 non-null   int64  \n",
            " 17  VAR2                       6423 non-null   float64\n",
            " 18  VAR3                       7000 non-null   float64\n",
            " 19  VAR4                       6344 non-null   float64\n",
            " 20  VAR5                       7000 non-null   int64  \n",
            " 21  VAR6                       7000 non-null   int64  \n",
            " 22  VAR7                       7000 non-null   int64  \n",
            " 23  Attrition_rate             7000 non-null   float64\n",
            "dtypes: float64(8), int64(9), object(7)\n",
            "memory usage: 1.3+ MB\n"
          ],
          "name": "stdout"
        }
      ]
    },
    {
      "cell_type": "code",
      "metadata": {
        "id": "AIzvpubE5Fws",
        "colab": {
          "base_uri": "https://localhost:8080/",
          "height": 136
        },
        "outputId": "5ae90050-5b83-4317-8826-32ab8c862c0b"
      },
      "source": [
        "comb.columns"
      ],
      "execution_count": null,
      "outputs": [
        {
          "output_type": "execute_result",
          "data": {
            "text/plain": [
              "Index(['Employee_ID', 'Gender', 'Age', 'Education_Level',\n",
              "       'Relationship_Status', 'Hometown', 'Unit', 'Decision_skill_possess',\n",
              "       'Time_of_service', 'Time_since_promotion', 'growth_rate', 'Travel_Rate',\n",
              "       'Post_Level', 'Pay_Scale', 'Compensation_and_Benefits',\n",
              "       'Work_Life_balance', 'VAR1', 'VAR2', 'VAR3', 'VAR4', 'VAR5', 'VAR6',\n",
              "       'VAR7', 'Attrition_rate'],\n",
              "      dtype='object')"
            ]
          },
          "metadata": {
            "tags": []
          },
          "execution_count": 84
        }
      ]
    },
    {
      "cell_type": "code",
      "metadata": {
        "id": "5rkRa-v46BNB"
      },
      "source": [
        "\n",
        "from sklearn.preprocessing import LabelEncoder\n",
        "# creating instance of labelencoder\n",
        "labelencoder = LabelEncoder()\n",
        "\n",
        "# Assigning numerical values and storing in another column\n",
        "comb['Gender'] = labelencoder.fit_transform(comb['Gender'])"
      ],
      "execution_count": null,
      "outputs": []
    },
    {
      "cell_type": "code",
      "metadata": {
        "id": "3kYvy0lj6BB3"
      },
      "source": [
        "comb['Relationship_Status'] = labelencoder.fit_transform(comb['Relationship_Status'])\n",
        "comb['Hometown'] = labelencoder.fit_transform(comb['Hometown'])\n",
        "comb['Unit'] = labelencoder.fit_transform(comb['Unit'])\n",
        "comb['Decision_skill_possess'] = labelencoder.fit_transform(comb['Decision_skill_possess'])\n",
        "comb['Compensation_and_Benefits'] = labelencoder.fit_transform(comb['Compensation_and_Benefits'])"
      ],
      "execution_count": null,
      "outputs": []
    },
    {
      "cell_type": "code",
      "metadata": {
        "id": "eucnZaOW6A3R",
        "colab": {
          "base_uri": "https://localhost:8080/",
          "height": 224
        },
        "outputId": "b8d869c0-152c-4763-a1e5-cbd686825634"
      },
      "source": [
        "comb.head()"
      ],
      "execution_count": null,
      "outputs": [
        {
          "output_type": "execute_result",
          "data": {
            "text/html": [
              "<div>\n",
              "<style scoped>\n",
              "    .dataframe tbody tr th:only-of-type {\n",
              "        vertical-align: middle;\n",
              "    }\n",
              "\n",
              "    .dataframe tbody tr th {\n",
              "        vertical-align: top;\n",
              "    }\n",
              "\n",
              "    .dataframe thead th {\n",
              "        text-align: right;\n",
              "    }\n",
              "</style>\n",
              "<table border=\"1\" class=\"dataframe\">\n",
              "  <thead>\n",
              "    <tr style=\"text-align: right;\">\n",
              "      <th></th>\n",
              "      <th>Employee_ID</th>\n",
              "      <th>Gender</th>\n",
              "      <th>Age</th>\n",
              "      <th>Education_Level</th>\n",
              "      <th>Relationship_Status</th>\n",
              "      <th>Hometown</th>\n",
              "      <th>Unit</th>\n",
              "      <th>Decision_skill_possess</th>\n",
              "      <th>Time_of_service</th>\n",
              "      <th>Time_since_promotion</th>\n",
              "      <th>growth_rate</th>\n",
              "      <th>Travel_Rate</th>\n",
              "      <th>Post_Level</th>\n",
              "      <th>Pay_Scale</th>\n",
              "      <th>Compensation_and_Benefits</th>\n",
              "      <th>Work_Life_balance</th>\n",
              "      <th>VAR1</th>\n",
              "      <th>VAR2</th>\n",
              "      <th>VAR3</th>\n",
              "      <th>VAR4</th>\n",
              "      <th>VAR5</th>\n",
              "      <th>VAR6</th>\n",
              "      <th>VAR7</th>\n",
              "      <th>Attrition_rate</th>\n",
              "    </tr>\n",
              "  </thead>\n",
              "  <tbody>\n",
              "    <tr>\n",
              "      <th>0</th>\n",
              "      <td>EID_23371</td>\n",
              "      <td>0</td>\n",
              "      <td>42.0</td>\n",
              "      <td>4</td>\n",
              "      <td>0</td>\n",
              "      <td>1</td>\n",
              "      <td>2</td>\n",
              "      <td>2</td>\n",
              "      <td>4.0</td>\n",
              "      <td>4</td>\n",
              "      <td>33</td>\n",
              "      <td>1</td>\n",
              "      <td>1</td>\n",
              "      <td>7.0</td>\n",
              "      <td>2</td>\n",
              "      <td>3.0</td>\n",
              "      <td>4</td>\n",
              "      <td>0.7516</td>\n",
              "      <td>1.8688</td>\n",
              "      <td>2.0</td>\n",
              "      <td>4</td>\n",
              "      <td>5</td>\n",
              "      <td>3</td>\n",
              "      <td>0.1841</td>\n",
              "    </tr>\n",
              "    <tr>\n",
              "      <th>1</th>\n",
              "      <td>EID_18000</td>\n",
              "      <td>1</td>\n",
              "      <td>24.0</td>\n",
              "      <td>3</td>\n",
              "      <td>1</td>\n",
              "      <td>3</td>\n",
              "      <td>3</td>\n",
              "      <td>0</td>\n",
              "      <td>5.0</td>\n",
              "      <td>4</td>\n",
              "      <td>36</td>\n",
              "      <td>0</td>\n",
              "      <td>3</td>\n",
              "      <td>6.0</td>\n",
              "      <td>2</td>\n",
              "      <td>4.0</td>\n",
              "      <td>3</td>\n",
              "      <td>-0.9612</td>\n",
              "      <td>-0.4537</td>\n",
              "      <td>2.0</td>\n",
              "      <td>3</td>\n",
              "      <td>5</td>\n",
              "      <td>3</td>\n",
              "      <td>0.0670</td>\n",
              "    </tr>\n",
              "    <tr>\n",
              "      <th>2</th>\n",
              "      <td>EID_3891</td>\n",
              "      <td>0</td>\n",
              "      <td>58.0</td>\n",
              "      <td>3</td>\n",
              "      <td>0</td>\n",
              "      <td>0</td>\n",
              "      <td>8</td>\n",
              "      <td>2</td>\n",
              "      <td>27.0</td>\n",
              "      <td>3</td>\n",
              "      <td>51</td>\n",
              "      <td>0</td>\n",
              "      <td>2</td>\n",
              "      <td>8.0</td>\n",
              "      <td>2</td>\n",
              "      <td>1.0</td>\n",
              "      <td>4</td>\n",
              "      <td>-0.9612</td>\n",
              "      <td>-0.4537</td>\n",
              "      <td>3.0</td>\n",
              "      <td>3</td>\n",
              "      <td>8</td>\n",
              "      <td>3</td>\n",
              "      <td>0.0851</td>\n",
              "    </tr>\n",
              "    <tr>\n",
              "      <th>3</th>\n",
              "      <td>EID_17492</td>\n",
              "      <td>0</td>\n",
              "      <td>26.0</td>\n",
              "      <td>3</td>\n",
              "      <td>1</td>\n",
              "      <td>2</td>\n",
              "      <td>1</td>\n",
              "      <td>1</td>\n",
              "      <td>4.0</td>\n",
              "      <td>3</td>\n",
              "      <td>56</td>\n",
              "      <td>1</td>\n",
              "      <td>3</td>\n",
              "      <td>8.0</td>\n",
              "      <td>2</td>\n",
              "      <td>1.0</td>\n",
              "      <td>3</td>\n",
              "      <td>-1.8176</td>\n",
              "      <td>-0.4537</td>\n",
              "      <td>2.0</td>\n",
              "      <td>3</td>\n",
              "      <td>7</td>\n",
              "      <td>3</td>\n",
              "      <td>0.0668</td>\n",
              "    </tr>\n",
              "    <tr>\n",
              "      <th>4</th>\n",
              "      <td>EID_22534</td>\n",
              "      <td>0</td>\n",
              "      <td>31.0</td>\n",
              "      <td>1</td>\n",
              "      <td>0</td>\n",
              "      <td>3</td>\n",
              "      <td>3</td>\n",
              "      <td>2</td>\n",
              "      <td>5.0</td>\n",
              "      <td>4</td>\n",
              "      <td>62</td>\n",
              "      <td>1</td>\n",
              "      <td>3</td>\n",
              "      <td>2.0</td>\n",
              "      <td>3</td>\n",
              "      <td>3.0</td>\n",
              "      <td>1</td>\n",
              "      <td>0.7516</td>\n",
              "      <td>-0.4537</td>\n",
              "      <td>2.0</td>\n",
              "      <td>2</td>\n",
              "      <td>8</td>\n",
              "      <td>2</td>\n",
              "      <td>0.1827</td>\n",
              "    </tr>\n",
              "  </tbody>\n",
              "</table>\n",
              "</div>"
            ],
            "text/plain": [
              "  Employee_ID  Gender   Age  Education_Level  ...  VAR5  VAR6  VAR7  Attrition_rate\n",
              "0   EID_23371       0  42.0                4  ...     4     5     3          0.1841\n",
              "1   EID_18000       1  24.0                3  ...     3     5     3          0.0670\n",
              "2    EID_3891       0  58.0                3  ...     3     8     3          0.0851\n",
              "3   EID_17492       0  26.0                3  ...     3     7     3          0.0668\n",
              "4   EID_22534       0  31.0                1  ...     2     8     2          0.1827\n",
              "\n",
              "[5 rows x 24 columns]"
            ]
          },
          "metadata": {
            "tags": []
          },
          "execution_count": 89
        }
      ]
    },
    {
      "cell_type": "code",
      "metadata": {
        "id": "XsR7UeKb6Arn"
      },
      "source": [
        ""
      ],
      "execution_count": null,
      "outputs": []
    },
    {
      "cell_type": "code",
      "metadata": {
        "id": "9xZ5yYLV5FlU"
      },
      "source": [
        ""
      ],
      "execution_count": null,
      "outputs": []
    },
    {
      "cell_type": "code",
      "metadata": {
        "id": "gS7t7NcRERuD"
      },
      "source": [
        "train = comb[:7000]\n",
        "test = comb[7000:]"
      ],
      "execution_count": null,
      "outputs": []
    },
    {
      "cell_type": "code",
      "metadata": {
        "id": "ycT62m2PEgqM",
        "colab": {
          "base_uri": "https://localhost:8080/",
          "height": 34
        },
        "outputId": "401b4e8c-fb81-40ba-da4e-2412f7629f97"
      },
      "source": [
        "train.shape, test.shape"
      ],
      "execution_count": null,
      "outputs": [
        {
          "output_type": "execute_result",
          "data": {
            "text/plain": [
              "((7000, 24), (3000, 24))"
            ]
          },
          "metadata": {
            "tags": []
          },
          "execution_count": 91
        }
      ]
    },
    {
      "cell_type": "code",
      "metadata": {
        "id": "GBGHhB25EkW_"
      },
      "source": [
        "ids = test['Employee_ID']"
      ],
      "execution_count": null,
      "outputs": []
    },
    {
      "cell_type": "code",
      "metadata": {
        "id": "9ggbaXp7ErO2"
      },
      "source": [
        "train = train.drop(['Employee_ID'],axis=1)\n",
        "test = test.drop(['Employee_ID','Attrition_rate'],axis=1)"
      ],
      "execution_count": null,
      "outputs": []
    },
    {
      "cell_type": "code",
      "metadata": {
        "id": "kp9KDrKWE_F8"
      },
      "source": [
        "one_hot = pd.get_dummies(train[['Gender','Relationship_Status', 'Hometown', 'Unit', 'Decision_skill_possess','Compensation_and_Benefits']])\n",
        "one_test_hot = pd.get_dummies(test[['Gender','Relationship_Status', 'Hometown', 'Unit', 'Decision_skill_possess','Compensation_and_Benefits']])"
      ],
      "execution_count": null,
      "outputs": []
    },
    {
      "cell_type": "code",
      "metadata": {
        "id": "h83rsQajFM8S",
        "colab": {
          "base_uri": "https://localhost:8080/",
          "height": 473
        },
        "outputId": "a78a0037-2c09-4db4-8f86-f80393ebb864"
      },
      "source": [
        "one_hot"
      ],
      "execution_count": null,
      "outputs": [
        {
          "output_type": "execute_result",
          "data": {
            "text/html": [
              "<div>\n",
              "<style scoped>\n",
              "    .dataframe tbody tr th:only-of-type {\n",
              "        vertical-align: middle;\n",
              "    }\n",
              "\n",
              "    .dataframe tbody tr th {\n",
              "        vertical-align: top;\n",
              "    }\n",
              "\n",
              "    .dataframe thead th {\n",
              "        text-align: right;\n",
              "    }\n",
              "</style>\n",
              "<table border=\"1\" class=\"dataframe\">\n",
              "  <thead>\n",
              "    <tr style=\"text-align: right;\">\n",
              "      <th></th>\n",
              "      <th>Gender_F</th>\n",
              "      <th>Gender_M</th>\n",
              "      <th>Relationship_Status_Married</th>\n",
              "      <th>Relationship_Status_Single</th>\n",
              "      <th>Hometown_Clinton</th>\n",
              "      <th>Hometown_Franklin</th>\n",
              "      <th>Hometown_Lebanon</th>\n",
              "      <th>Hometown_Springfield</th>\n",
              "      <th>Hometown_Washington</th>\n",
              "      <th>Unit_Accounting and Finance</th>\n",
              "      <th>Unit_Human Resource Management</th>\n",
              "      <th>Unit_IT</th>\n",
              "      <th>Unit_Logistics</th>\n",
              "      <th>Unit_Marketing</th>\n",
              "      <th>Unit_Operarions</th>\n",
              "      <th>Unit_Production</th>\n",
              "      <th>Unit_Purchasing</th>\n",
              "      <th>Unit_Quality</th>\n",
              "      <th>Unit_R&amp;D</th>\n",
              "      <th>Unit_Sales</th>\n",
              "      <th>Unit_Security</th>\n",
              "      <th>Decision_skill_possess_Analytical</th>\n",
              "      <th>Decision_skill_possess_Behavioral</th>\n",
              "      <th>Decision_skill_possess_Conceptual</th>\n",
              "      <th>Decision_skill_possess_Directive</th>\n",
              "      <th>Compensation_and_Benefits_type0</th>\n",
              "      <th>Compensation_and_Benefits_type1</th>\n",
              "      <th>Compensation_and_Benefits_type2</th>\n",
              "      <th>Compensation_and_Benefits_type3</th>\n",
              "      <th>Compensation_and_Benefits_type4</th>\n",
              "    </tr>\n",
              "  </thead>\n",
              "  <tbody>\n",
              "    <tr>\n",
              "      <th>0</th>\n",
              "      <td>1</td>\n",
              "      <td>0</td>\n",
              "      <td>1</td>\n",
              "      <td>0</td>\n",
              "      <td>0</td>\n",
              "      <td>1</td>\n",
              "      <td>0</td>\n",
              "      <td>0</td>\n",
              "      <td>0</td>\n",
              "      <td>0</td>\n",
              "      <td>0</td>\n",
              "      <td>1</td>\n",
              "      <td>0</td>\n",
              "      <td>0</td>\n",
              "      <td>0</td>\n",
              "      <td>0</td>\n",
              "      <td>0</td>\n",
              "      <td>0</td>\n",
              "      <td>0</td>\n",
              "      <td>0</td>\n",
              "      <td>0</td>\n",
              "      <td>0</td>\n",
              "      <td>0</td>\n",
              "      <td>1</td>\n",
              "      <td>0</td>\n",
              "      <td>0</td>\n",
              "      <td>0</td>\n",
              "      <td>1</td>\n",
              "      <td>0</td>\n",
              "      <td>0</td>\n",
              "    </tr>\n",
              "    <tr>\n",
              "      <th>1</th>\n",
              "      <td>0</td>\n",
              "      <td>1</td>\n",
              "      <td>0</td>\n",
              "      <td>1</td>\n",
              "      <td>0</td>\n",
              "      <td>0</td>\n",
              "      <td>0</td>\n",
              "      <td>1</td>\n",
              "      <td>0</td>\n",
              "      <td>0</td>\n",
              "      <td>0</td>\n",
              "      <td>0</td>\n",
              "      <td>1</td>\n",
              "      <td>0</td>\n",
              "      <td>0</td>\n",
              "      <td>0</td>\n",
              "      <td>0</td>\n",
              "      <td>0</td>\n",
              "      <td>0</td>\n",
              "      <td>0</td>\n",
              "      <td>0</td>\n",
              "      <td>1</td>\n",
              "      <td>0</td>\n",
              "      <td>0</td>\n",
              "      <td>0</td>\n",
              "      <td>0</td>\n",
              "      <td>0</td>\n",
              "      <td>1</td>\n",
              "      <td>0</td>\n",
              "      <td>0</td>\n",
              "    </tr>\n",
              "    <tr>\n",
              "      <th>2</th>\n",
              "      <td>1</td>\n",
              "      <td>0</td>\n",
              "      <td>1</td>\n",
              "      <td>0</td>\n",
              "      <td>1</td>\n",
              "      <td>0</td>\n",
              "      <td>0</td>\n",
              "      <td>0</td>\n",
              "      <td>0</td>\n",
              "      <td>0</td>\n",
              "      <td>0</td>\n",
              "      <td>0</td>\n",
              "      <td>0</td>\n",
              "      <td>0</td>\n",
              "      <td>0</td>\n",
              "      <td>0</td>\n",
              "      <td>0</td>\n",
              "      <td>1</td>\n",
              "      <td>0</td>\n",
              "      <td>0</td>\n",
              "      <td>0</td>\n",
              "      <td>0</td>\n",
              "      <td>0</td>\n",
              "      <td>1</td>\n",
              "      <td>0</td>\n",
              "      <td>0</td>\n",
              "      <td>0</td>\n",
              "      <td>1</td>\n",
              "      <td>0</td>\n",
              "      <td>0</td>\n",
              "    </tr>\n",
              "    <tr>\n",
              "      <th>3</th>\n",
              "      <td>1</td>\n",
              "      <td>0</td>\n",
              "      <td>0</td>\n",
              "      <td>1</td>\n",
              "      <td>0</td>\n",
              "      <td>0</td>\n",
              "      <td>1</td>\n",
              "      <td>0</td>\n",
              "      <td>0</td>\n",
              "      <td>0</td>\n",
              "      <td>1</td>\n",
              "      <td>0</td>\n",
              "      <td>0</td>\n",
              "      <td>0</td>\n",
              "      <td>0</td>\n",
              "      <td>0</td>\n",
              "      <td>0</td>\n",
              "      <td>0</td>\n",
              "      <td>0</td>\n",
              "      <td>0</td>\n",
              "      <td>0</td>\n",
              "      <td>0</td>\n",
              "      <td>1</td>\n",
              "      <td>0</td>\n",
              "      <td>0</td>\n",
              "      <td>0</td>\n",
              "      <td>0</td>\n",
              "      <td>1</td>\n",
              "      <td>0</td>\n",
              "      <td>0</td>\n",
              "    </tr>\n",
              "    <tr>\n",
              "      <th>4</th>\n",
              "      <td>1</td>\n",
              "      <td>0</td>\n",
              "      <td>1</td>\n",
              "      <td>0</td>\n",
              "      <td>0</td>\n",
              "      <td>0</td>\n",
              "      <td>0</td>\n",
              "      <td>1</td>\n",
              "      <td>0</td>\n",
              "      <td>0</td>\n",
              "      <td>0</td>\n",
              "      <td>0</td>\n",
              "      <td>1</td>\n",
              "      <td>0</td>\n",
              "      <td>0</td>\n",
              "      <td>0</td>\n",
              "      <td>0</td>\n",
              "      <td>0</td>\n",
              "      <td>0</td>\n",
              "      <td>0</td>\n",
              "      <td>0</td>\n",
              "      <td>0</td>\n",
              "      <td>0</td>\n",
              "      <td>1</td>\n",
              "      <td>0</td>\n",
              "      <td>0</td>\n",
              "      <td>0</td>\n",
              "      <td>0</td>\n",
              "      <td>1</td>\n",
              "      <td>0</td>\n",
              "    </tr>\n",
              "    <tr>\n",
              "      <th>...</th>\n",
              "      <td>...</td>\n",
              "      <td>...</td>\n",
              "      <td>...</td>\n",
              "      <td>...</td>\n",
              "      <td>...</td>\n",
              "      <td>...</td>\n",
              "      <td>...</td>\n",
              "      <td>...</td>\n",
              "      <td>...</td>\n",
              "      <td>...</td>\n",
              "      <td>...</td>\n",
              "      <td>...</td>\n",
              "      <td>...</td>\n",
              "      <td>...</td>\n",
              "      <td>...</td>\n",
              "      <td>...</td>\n",
              "      <td>...</td>\n",
              "      <td>...</td>\n",
              "      <td>...</td>\n",
              "      <td>...</td>\n",
              "      <td>...</td>\n",
              "      <td>...</td>\n",
              "      <td>...</td>\n",
              "      <td>...</td>\n",
              "      <td>...</td>\n",
              "      <td>...</td>\n",
              "      <td>...</td>\n",
              "      <td>...</td>\n",
              "      <td>...</td>\n",
              "      <td>...</td>\n",
              "    </tr>\n",
              "    <tr>\n",
              "      <th>6995</th>\n",
              "      <td>1</td>\n",
              "      <td>0</td>\n",
              "      <td>1</td>\n",
              "      <td>0</td>\n",
              "      <td>0</td>\n",
              "      <td>1</td>\n",
              "      <td>0</td>\n",
              "      <td>0</td>\n",
              "      <td>0</td>\n",
              "      <td>0</td>\n",
              "      <td>0</td>\n",
              "      <td>0</td>\n",
              "      <td>0</td>\n",
              "      <td>0</td>\n",
              "      <td>1</td>\n",
              "      <td>0</td>\n",
              "      <td>0</td>\n",
              "      <td>0</td>\n",
              "      <td>0</td>\n",
              "      <td>0</td>\n",
              "      <td>0</td>\n",
              "      <td>0</td>\n",
              "      <td>1</td>\n",
              "      <td>0</td>\n",
              "      <td>0</td>\n",
              "      <td>0</td>\n",
              "      <td>0</td>\n",
              "      <td>0</td>\n",
              "      <td>1</td>\n",
              "      <td>0</td>\n",
              "    </tr>\n",
              "    <tr>\n",
              "      <th>6996</th>\n",
              "      <td>1</td>\n",
              "      <td>0</td>\n",
              "      <td>1</td>\n",
              "      <td>0</td>\n",
              "      <td>0</td>\n",
              "      <td>0</td>\n",
              "      <td>1</td>\n",
              "      <td>0</td>\n",
              "      <td>0</td>\n",
              "      <td>0</td>\n",
              "      <td>0</td>\n",
              "      <td>0</td>\n",
              "      <td>0</td>\n",
              "      <td>0</td>\n",
              "      <td>0</td>\n",
              "      <td>0</td>\n",
              "      <td>0</td>\n",
              "      <td>0</td>\n",
              "      <td>1</td>\n",
              "      <td>0</td>\n",
              "      <td>0</td>\n",
              "      <td>1</td>\n",
              "      <td>0</td>\n",
              "      <td>0</td>\n",
              "      <td>0</td>\n",
              "      <td>0</td>\n",
              "      <td>0</td>\n",
              "      <td>0</td>\n",
              "      <td>1</td>\n",
              "      <td>0</td>\n",
              "    </tr>\n",
              "    <tr>\n",
              "      <th>6997</th>\n",
              "      <td>1</td>\n",
              "      <td>0</td>\n",
              "      <td>0</td>\n",
              "      <td>1</td>\n",
              "      <td>0</td>\n",
              "      <td>0</td>\n",
              "      <td>0</td>\n",
              "      <td>1</td>\n",
              "      <td>0</td>\n",
              "      <td>0</td>\n",
              "      <td>0</td>\n",
              "      <td>1</td>\n",
              "      <td>0</td>\n",
              "      <td>0</td>\n",
              "      <td>0</td>\n",
              "      <td>0</td>\n",
              "      <td>0</td>\n",
              "      <td>0</td>\n",
              "      <td>0</td>\n",
              "      <td>0</td>\n",
              "      <td>0</td>\n",
              "      <td>0</td>\n",
              "      <td>0</td>\n",
              "      <td>0</td>\n",
              "      <td>1</td>\n",
              "      <td>0</td>\n",
              "      <td>0</td>\n",
              "      <td>1</td>\n",
              "      <td>0</td>\n",
              "      <td>0</td>\n",
              "    </tr>\n",
              "    <tr>\n",
              "      <th>6998</th>\n",
              "      <td>1</td>\n",
              "      <td>0</td>\n",
              "      <td>1</td>\n",
              "      <td>0</td>\n",
              "      <td>0</td>\n",
              "      <td>0</td>\n",
              "      <td>0</td>\n",
              "      <td>0</td>\n",
              "      <td>1</td>\n",
              "      <td>0</td>\n",
              "      <td>0</td>\n",
              "      <td>0</td>\n",
              "      <td>0</td>\n",
              "      <td>0</td>\n",
              "      <td>0</td>\n",
              "      <td>0</td>\n",
              "      <td>0</td>\n",
              "      <td>0</td>\n",
              "      <td>0</td>\n",
              "      <td>1</td>\n",
              "      <td>0</td>\n",
              "      <td>0</td>\n",
              "      <td>1</td>\n",
              "      <td>0</td>\n",
              "      <td>0</td>\n",
              "      <td>1</td>\n",
              "      <td>0</td>\n",
              "      <td>0</td>\n",
              "      <td>0</td>\n",
              "      <td>0</td>\n",
              "    </tr>\n",
              "    <tr>\n",
              "      <th>6999</th>\n",
              "      <td>1</td>\n",
              "      <td>0</td>\n",
              "      <td>1</td>\n",
              "      <td>0</td>\n",
              "      <td>0</td>\n",
              "      <td>1</td>\n",
              "      <td>0</td>\n",
              "      <td>0</td>\n",
              "      <td>0</td>\n",
              "      <td>0</td>\n",
              "      <td>0</td>\n",
              "      <td>1</td>\n",
              "      <td>0</td>\n",
              "      <td>0</td>\n",
              "      <td>0</td>\n",
              "      <td>0</td>\n",
              "      <td>0</td>\n",
              "      <td>0</td>\n",
              "      <td>0</td>\n",
              "      <td>0</td>\n",
              "      <td>0</td>\n",
              "      <td>0</td>\n",
              "      <td>0</td>\n",
              "      <td>0</td>\n",
              "      <td>1</td>\n",
              "      <td>0</td>\n",
              "      <td>0</td>\n",
              "      <td>1</td>\n",
              "      <td>0</td>\n",
              "      <td>0</td>\n",
              "    </tr>\n",
              "  </tbody>\n",
              "</table>\n",
              "<p>7000 rows × 30 columns</p>\n",
              "</div>"
            ],
            "text/plain": [
              "      Gender_F  ...  Compensation_and_Benefits_type4\n",
              "0            1  ...                                0\n",
              "1            0  ...                                0\n",
              "2            1  ...                                0\n",
              "3            1  ...                                0\n",
              "4            1  ...                                0\n",
              "...        ...  ...                              ...\n",
              "6995         1  ...                                0\n",
              "6996         1  ...                                0\n",
              "6997         1  ...                                0\n",
              "6998         1  ...                                0\n",
              "6999         1  ...                                0\n",
              "\n",
              "[7000 rows x 30 columns]"
            ]
          },
          "metadata": {
            "tags": []
          },
          "execution_count": 123
        }
      ]
    },
    {
      "cell_type": "code",
      "metadata": {
        "id": "e43coEKzFOXn",
        "colab": {
          "base_uri": "https://localhost:8080/",
          "height": 473
        },
        "outputId": "b392c0ed-ef25-41dd-d1b7-e3ec0ad78fa7"
      },
      "source": [
        "one_test_hot"
      ],
      "execution_count": null,
      "outputs": [
        {
          "output_type": "execute_result",
          "data": {
            "text/html": [
              "<div>\n",
              "<style scoped>\n",
              "    .dataframe tbody tr th:only-of-type {\n",
              "        vertical-align: middle;\n",
              "    }\n",
              "\n",
              "    .dataframe tbody tr th {\n",
              "        vertical-align: top;\n",
              "    }\n",
              "\n",
              "    .dataframe thead th {\n",
              "        text-align: right;\n",
              "    }\n",
              "</style>\n",
              "<table border=\"1\" class=\"dataframe\">\n",
              "  <thead>\n",
              "    <tr style=\"text-align: right;\">\n",
              "      <th></th>\n",
              "      <th>Gender_F</th>\n",
              "      <th>Gender_M</th>\n",
              "      <th>Relationship_Status_Married</th>\n",
              "      <th>Relationship_Status_Single</th>\n",
              "      <th>Hometown_Clinton</th>\n",
              "      <th>Hometown_Franklin</th>\n",
              "      <th>Hometown_Lebanon</th>\n",
              "      <th>Hometown_Springfield</th>\n",
              "      <th>Hometown_Washington</th>\n",
              "      <th>Unit_Accounting and Finance</th>\n",
              "      <th>Unit_Human Resource Management</th>\n",
              "      <th>Unit_IT</th>\n",
              "      <th>Unit_Logistics</th>\n",
              "      <th>Unit_Marketing</th>\n",
              "      <th>Unit_Operarions</th>\n",
              "      <th>Unit_Production</th>\n",
              "      <th>Unit_Purchasing</th>\n",
              "      <th>Unit_Quality</th>\n",
              "      <th>Unit_R&amp;D</th>\n",
              "      <th>Unit_Sales</th>\n",
              "      <th>Unit_Security</th>\n",
              "      <th>Decision_skill_possess_Analytical</th>\n",
              "      <th>Decision_skill_possess_Behavioral</th>\n",
              "      <th>Decision_skill_possess_Conceptual</th>\n",
              "      <th>Decision_skill_possess_Directive</th>\n",
              "      <th>Compensation_and_Benefits_type0</th>\n",
              "      <th>Compensation_and_Benefits_type1</th>\n",
              "      <th>Compensation_and_Benefits_type2</th>\n",
              "      <th>Compensation_and_Benefits_type3</th>\n",
              "      <th>Compensation_and_Benefits_type4</th>\n",
              "    </tr>\n",
              "  </thead>\n",
              "  <tbody>\n",
              "    <tr>\n",
              "      <th>0</th>\n",
              "      <td>1</td>\n",
              "      <td>0</td>\n",
              "      <td>0</td>\n",
              "      <td>1</td>\n",
              "      <td>0</td>\n",
              "      <td>0</td>\n",
              "      <td>0</td>\n",
              "      <td>1</td>\n",
              "      <td>0</td>\n",
              "      <td>0</td>\n",
              "      <td>0</td>\n",
              "      <td>0</td>\n",
              "      <td>0</td>\n",
              "      <td>0</td>\n",
              "      <td>0</td>\n",
              "      <td>0</td>\n",
              "      <td>0</td>\n",
              "      <td>0</td>\n",
              "      <td>1</td>\n",
              "      <td>0</td>\n",
              "      <td>0</td>\n",
              "      <td>0</td>\n",
              "      <td>0</td>\n",
              "      <td>1</td>\n",
              "      <td>0</td>\n",
              "      <td>0</td>\n",
              "      <td>0</td>\n",
              "      <td>1</td>\n",
              "      <td>0</td>\n",
              "      <td>0</td>\n",
              "    </tr>\n",
              "    <tr>\n",
              "      <th>1</th>\n",
              "      <td>0</td>\n",
              "      <td>1</td>\n",
              "      <td>0</td>\n",
              "      <td>1</td>\n",
              "      <td>0</td>\n",
              "      <td>0</td>\n",
              "      <td>1</td>\n",
              "      <td>0</td>\n",
              "      <td>0</td>\n",
              "      <td>0</td>\n",
              "      <td>0</td>\n",
              "      <td>1</td>\n",
              "      <td>0</td>\n",
              "      <td>0</td>\n",
              "      <td>0</td>\n",
              "      <td>0</td>\n",
              "      <td>0</td>\n",
              "      <td>0</td>\n",
              "      <td>0</td>\n",
              "      <td>0</td>\n",
              "      <td>0</td>\n",
              "      <td>0</td>\n",
              "      <td>0</td>\n",
              "      <td>0</td>\n",
              "      <td>1</td>\n",
              "      <td>0</td>\n",
              "      <td>0</td>\n",
              "      <td>1</td>\n",
              "      <td>0</td>\n",
              "      <td>0</td>\n",
              "    </tr>\n",
              "    <tr>\n",
              "      <th>2</th>\n",
              "      <td>0</td>\n",
              "      <td>1</td>\n",
              "      <td>1</td>\n",
              "      <td>0</td>\n",
              "      <td>0</td>\n",
              "      <td>0</td>\n",
              "      <td>0</td>\n",
              "      <td>1</td>\n",
              "      <td>0</td>\n",
              "      <td>0</td>\n",
              "      <td>0</td>\n",
              "      <td>0</td>\n",
              "      <td>0</td>\n",
              "      <td>0</td>\n",
              "      <td>0</td>\n",
              "      <td>0</td>\n",
              "      <td>0</td>\n",
              "      <td>0</td>\n",
              "      <td>0</td>\n",
              "      <td>1</td>\n",
              "      <td>0</td>\n",
              "      <td>0</td>\n",
              "      <td>0</td>\n",
              "      <td>0</td>\n",
              "      <td>1</td>\n",
              "      <td>0</td>\n",
              "      <td>0</td>\n",
              "      <td>0</td>\n",
              "      <td>1</td>\n",
              "      <td>0</td>\n",
              "    </tr>\n",
              "    <tr>\n",
              "      <th>3</th>\n",
              "      <td>0</td>\n",
              "      <td>1</td>\n",
              "      <td>0</td>\n",
              "      <td>1</td>\n",
              "      <td>0</td>\n",
              "      <td>0</td>\n",
              "      <td>0</td>\n",
              "      <td>0</td>\n",
              "      <td>1</td>\n",
              "      <td>0</td>\n",
              "      <td>0</td>\n",
              "      <td>0</td>\n",
              "      <td>0</td>\n",
              "      <td>1</td>\n",
              "      <td>0</td>\n",
              "      <td>0</td>\n",
              "      <td>0</td>\n",
              "      <td>0</td>\n",
              "      <td>0</td>\n",
              "      <td>0</td>\n",
              "      <td>0</td>\n",
              "      <td>1</td>\n",
              "      <td>0</td>\n",
              "      <td>0</td>\n",
              "      <td>0</td>\n",
              "      <td>1</td>\n",
              "      <td>0</td>\n",
              "      <td>0</td>\n",
              "      <td>0</td>\n",
              "      <td>0</td>\n",
              "    </tr>\n",
              "    <tr>\n",
              "      <th>4</th>\n",
              "      <td>1</td>\n",
              "      <td>0</td>\n",
              "      <td>1</td>\n",
              "      <td>0</td>\n",
              "      <td>0</td>\n",
              "      <td>1</td>\n",
              "      <td>0</td>\n",
              "      <td>0</td>\n",
              "      <td>0</td>\n",
              "      <td>0</td>\n",
              "      <td>0</td>\n",
              "      <td>0</td>\n",
              "      <td>0</td>\n",
              "      <td>0</td>\n",
              "      <td>0</td>\n",
              "      <td>0</td>\n",
              "      <td>0</td>\n",
              "      <td>0</td>\n",
              "      <td>1</td>\n",
              "      <td>0</td>\n",
              "      <td>0</td>\n",
              "      <td>0</td>\n",
              "      <td>0</td>\n",
              "      <td>1</td>\n",
              "      <td>0</td>\n",
              "      <td>0</td>\n",
              "      <td>0</td>\n",
              "      <td>1</td>\n",
              "      <td>0</td>\n",
              "      <td>0</td>\n",
              "    </tr>\n",
              "    <tr>\n",
              "      <th>...</th>\n",
              "      <td>...</td>\n",
              "      <td>...</td>\n",
              "      <td>...</td>\n",
              "      <td>...</td>\n",
              "      <td>...</td>\n",
              "      <td>...</td>\n",
              "      <td>...</td>\n",
              "      <td>...</td>\n",
              "      <td>...</td>\n",
              "      <td>...</td>\n",
              "      <td>...</td>\n",
              "      <td>...</td>\n",
              "      <td>...</td>\n",
              "      <td>...</td>\n",
              "      <td>...</td>\n",
              "      <td>...</td>\n",
              "      <td>...</td>\n",
              "      <td>...</td>\n",
              "      <td>...</td>\n",
              "      <td>...</td>\n",
              "      <td>...</td>\n",
              "      <td>...</td>\n",
              "      <td>...</td>\n",
              "      <td>...</td>\n",
              "      <td>...</td>\n",
              "      <td>...</td>\n",
              "      <td>...</td>\n",
              "      <td>...</td>\n",
              "      <td>...</td>\n",
              "      <td>...</td>\n",
              "    </tr>\n",
              "    <tr>\n",
              "      <th>2995</th>\n",
              "      <td>1</td>\n",
              "      <td>0</td>\n",
              "      <td>0</td>\n",
              "      <td>1</td>\n",
              "      <td>0</td>\n",
              "      <td>1</td>\n",
              "      <td>0</td>\n",
              "      <td>0</td>\n",
              "      <td>0</td>\n",
              "      <td>0</td>\n",
              "      <td>0</td>\n",
              "      <td>0</td>\n",
              "      <td>0</td>\n",
              "      <td>0</td>\n",
              "      <td>0</td>\n",
              "      <td>0</td>\n",
              "      <td>0</td>\n",
              "      <td>0</td>\n",
              "      <td>0</td>\n",
              "      <td>1</td>\n",
              "      <td>0</td>\n",
              "      <td>0</td>\n",
              "      <td>0</td>\n",
              "      <td>0</td>\n",
              "      <td>1</td>\n",
              "      <td>0</td>\n",
              "      <td>0</td>\n",
              "      <td>1</td>\n",
              "      <td>0</td>\n",
              "      <td>0</td>\n",
              "    </tr>\n",
              "    <tr>\n",
              "      <th>2996</th>\n",
              "      <td>1</td>\n",
              "      <td>0</td>\n",
              "      <td>0</td>\n",
              "      <td>1</td>\n",
              "      <td>0</td>\n",
              "      <td>1</td>\n",
              "      <td>0</td>\n",
              "      <td>0</td>\n",
              "      <td>0</td>\n",
              "      <td>0</td>\n",
              "      <td>0</td>\n",
              "      <td>0</td>\n",
              "      <td>0</td>\n",
              "      <td>1</td>\n",
              "      <td>0</td>\n",
              "      <td>0</td>\n",
              "      <td>0</td>\n",
              "      <td>0</td>\n",
              "      <td>0</td>\n",
              "      <td>0</td>\n",
              "      <td>0</td>\n",
              "      <td>0</td>\n",
              "      <td>0</td>\n",
              "      <td>1</td>\n",
              "      <td>0</td>\n",
              "      <td>0</td>\n",
              "      <td>0</td>\n",
              "      <td>1</td>\n",
              "      <td>0</td>\n",
              "      <td>0</td>\n",
              "    </tr>\n",
              "    <tr>\n",
              "      <th>2997</th>\n",
              "      <td>1</td>\n",
              "      <td>0</td>\n",
              "      <td>0</td>\n",
              "      <td>1</td>\n",
              "      <td>0</td>\n",
              "      <td>0</td>\n",
              "      <td>1</td>\n",
              "      <td>0</td>\n",
              "      <td>0</td>\n",
              "      <td>0</td>\n",
              "      <td>0</td>\n",
              "      <td>0</td>\n",
              "      <td>1</td>\n",
              "      <td>0</td>\n",
              "      <td>0</td>\n",
              "      <td>0</td>\n",
              "      <td>0</td>\n",
              "      <td>0</td>\n",
              "      <td>0</td>\n",
              "      <td>0</td>\n",
              "      <td>0</td>\n",
              "      <td>1</td>\n",
              "      <td>0</td>\n",
              "      <td>0</td>\n",
              "      <td>0</td>\n",
              "      <td>0</td>\n",
              "      <td>0</td>\n",
              "      <td>0</td>\n",
              "      <td>1</td>\n",
              "      <td>0</td>\n",
              "    </tr>\n",
              "    <tr>\n",
              "      <th>2998</th>\n",
              "      <td>1</td>\n",
              "      <td>0</td>\n",
              "      <td>1</td>\n",
              "      <td>0</td>\n",
              "      <td>0</td>\n",
              "      <td>0</td>\n",
              "      <td>0</td>\n",
              "      <td>1</td>\n",
              "      <td>0</td>\n",
              "      <td>0</td>\n",
              "      <td>0</td>\n",
              "      <td>1</td>\n",
              "      <td>0</td>\n",
              "      <td>0</td>\n",
              "      <td>0</td>\n",
              "      <td>0</td>\n",
              "      <td>0</td>\n",
              "      <td>0</td>\n",
              "      <td>0</td>\n",
              "      <td>0</td>\n",
              "      <td>0</td>\n",
              "      <td>0</td>\n",
              "      <td>1</td>\n",
              "      <td>0</td>\n",
              "      <td>0</td>\n",
              "      <td>0</td>\n",
              "      <td>0</td>\n",
              "      <td>0</td>\n",
              "      <td>1</td>\n",
              "      <td>0</td>\n",
              "    </tr>\n",
              "    <tr>\n",
              "      <th>2999</th>\n",
              "      <td>1</td>\n",
              "      <td>0</td>\n",
              "      <td>0</td>\n",
              "      <td>1</td>\n",
              "      <td>0</td>\n",
              "      <td>1</td>\n",
              "      <td>0</td>\n",
              "      <td>0</td>\n",
              "      <td>0</td>\n",
              "      <td>0</td>\n",
              "      <td>0</td>\n",
              "      <td>0</td>\n",
              "      <td>0</td>\n",
              "      <td>0</td>\n",
              "      <td>0</td>\n",
              "      <td>0</td>\n",
              "      <td>0</td>\n",
              "      <td>0</td>\n",
              "      <td>0</td>\n",
              "      <td>1</td>\n",
              "      <td>0</td>\n",
              "      <td>0</td>\n",
              "      <td>0</td>\n",
              "      <td>0</td>\n",
              "      <td>1</td>\n",
              "      <td>0</td>\n",
              "      <td>0</td>\n",
              "      <td>0</td>\n",
              "      <td>0</td>\n",
              "      <td>1</td>\n",
              "    </tr>\n",
              "  </tbody>\n",
              "</table>\n",
              "<p>3000 rows × 30 columns</p>\n",
              "</div>"
            ],
            "text/plain": [
              "      Gender_F  ...  Compensation_and_Benefits_type4\n",
              "0            1  ...                                0\n",
              "1            0  ...                                0\n",
              "2            0  ...                                0\n",
              "3            0  ...                                0\n",
              "4            1  ...                                0\n",
              "...        ...  ...                              ...\n",
              "2995         1  ...                                0\n",
              "2996         1  ...                                0\n",
              "2997         1  ...                                0\n",
              "2998         1  ...                                0\n",
              "2999         1  ...                                1\n",
              "\n",
              "[3000 rows x 30 columns]"
            ]
          },
          "metadata": {
            "tags": []
          },
          "execution_count": 124
        }
      ]
    },
    {
      "cell_type": "code",
      "metadata": {
        "id": "25AAYEn5FQ6X"
      },
      "source": [
        "train = train.drop(['Gender','Relationship_Status', 'Hometown', 'Unit', 'Decision_skill_possess','Compensation_and_Benefits'],axis = 1)\n",
        "test = test.drop(['Gender','Relationship_Status', 'Hometown', 'Unit', 'Decision_skill_possess','Compensation_and_Benefits'],axis = 1)\n"
      ],
      "execution_count": null,
      "outputs": []
    },
    {
      "cell_type": "code",
      "metadata": {
        "id": "QFQcnWDcFWPe"
      },
      "source": [
        "# Join the encoded df\n",
        "train = train.join(one_hot)\n",
        "test = test.join(one_test_hot)"
      ],
      "execution_count": null,
      "outputs": []
    },
    {
      "cell_type": "code",
      "metadata": {
        "id": "077mAkZOFYpi",
        "colab": {
          "base_uri": "https://localhost:8080/",
          "height": 782
        },
        "outputId": "7f3b76fd-6203-40ca-f45f-47a8d513a781"
      },
      "source": [
        "train.corr()"
      ],
      "execution_count": null,
      "outputs": [
        {
          "output_type": "execute_result",
          "data": {
            "text/html": [
              "<div>\n",
              "<style scoped>\n",
              "    .dataframe tbody tr th:only-of-type {\n",
              "        vertical-align: middle;\n",
              "    }\n",
              "\n",
              "    .dataframe tbody tr th {\n",
              "        vertical-align: top;\n",
              "    }\n",
              "\n",
              "    .dataframe thead th {\n",
              "        text-align: right;\n",
              "    }\n",
              "</style>\n",
              "<table border=\"1\" class=\"dataframe\">\n",
              "  <thead>\n",
              "    <tr style=\"text-align: right;\">\n",
              "      <th></th>\n",
              "      <th>Gender</th>\n",
              "      <th>Age</th>\n",
              "      <th>Education_Level</th>\n",
              "      <th>Relationship_Status</th>\n",
              "      <th>Hometown</th>\n",
              "      <th>Unit</th>\n",
              "      <th>Decision_skill_possess</th>\n",
              "      <th>Time_of_service</th>\n",
              "      <th>Time_since_promotion</th>\n",
              "      <th>growth_rate</th>\n",
              "      <th>Travel_Rate</th>\n",
              "      <th>Post_Level</th>\n",
              "      <th>Pay_Scale</th>\n",
              "      <th>Compensation_and_Benefits</th>\n",
              "      <th>Work_Life_balance</th>\n",
              "      <th>VAR1</th>\n",
              "      <th>VAR2</th>\n",
              "      <th>VAR3</th>\n",
              "      <th>VAR4</th>\n",
              "      <th>VAR5</th>\n",
              "      <th>VAR6</th>\n",
              "      <th>VAR7</th>\n",
              "      <th>Attrition_rate</th>\n",
              "    </tr>\n",
              "  </thead>\n",
              "  <tbody>\n",
              "    <tr>\n",
              "      <th>Gender</th>\n",
              "      <td>1.000000</td>\n",
              "      <td>0.001838</td>\n",
              "      <td>-0.007127</td>\n",
              "      <td>0.008817</td>\n",
              "      <td>-0.030297</td>\n",
              "      <td>-0.009876</td>\n",
              "      <td>-0.000748</td>\n",
              "      <td>-0.000559</td>\n",
              "      <td>-0.020346</td>\n",
              "      <td>-0.011666</td>\n",
              "      <td>0.006566</td>\n",
              "      <td>0.003734</td>\n",
              "      <td>-0.004027</td>\n",
              "      <td>0.004732</td>\n",
              "      <td>-0.003145</td>\n",
              "      <td>-0.005024</td>\n",
              "      <td>0.002907</td>\n",
              "      <td>-0.000272</td>\n",
              "      <td>-0.002937</td>\n",
              "      <td>0.015351</td>\n",
              "      <td>0.009894</td>\n",
              "      <td>0.002916</td>\n",
              "      <td>0.028544</td>\n",
              "    </tr>\n",
              "    <tr>\n",
              "      <th>Age</th>\n",
              "      <td>0.001838</td>\n",
              "      <td>1.000000</td>\n",
              "      <td>-0.005604</td>\n",
              "      <td>-0.002088</td>\n",
              "      <td>-0.015215</td>\n",
              "      <td>-0.000070</td>\n",
              "      <td>0.022104</td>\n",
              "      <td>0.883420</td>\n",
              "      <td>0.141400</td>\n",
              "      <td>0.001226</td>\n",
              "      <td>0.011901</td>\n",
              "      <td>0.002387</td>\n",
              "      <td>0.012265</td>\n",
              "      <td>-0.012852</td>\n",
              "      <td>0.002946</td>\n",
              "      <td>0.005547</td>\n",
              "      <td>0.005120</td>\n",
              "      <td>0.007355</td>\n",
              "      <td>0.000224</td>\n",
              "      <td>0.000012</td>\n",
              "      <td>-0.000791</td>\n",
              "      <td>0.008481</td>\n",
              "      <td>-0.015092</td>\n",
              "    </tr>\n",
              "    <tr>\n",
              "      <th>Education_Level</th>\n",
              "      <td>-0.007127</td>\n",
              "      <td>-0.005604</td>\n",
              "      <td>1.000000</td>\n",
              "      <td>-0.000529</td>\n",
              "      <td>-0.003221</td>\n",
              "      <td>-0.001808</td>\n",
              "      <td>-0.015201</td>\n",
              "      <td>-0.012657</td>\n",
              "      <td>-0.002077</td>\n",
              "      <td>0.002991</td>\n",
              "      <td>-0.017690</td>\n",
              "      <td>0.009986</td>\n",
              "      <td>0.006866</td>\n",
              "      <td>0.008854</td>\n",
              "      <td>-0.014715</td>\n",
              "      <td>-0.002185</td>\n",
              "      <td>-0.010076</td>\n",
              "      <td>-0.009689</td>\n",
              "      <td>0.004731</td>\n",
              "      <td>0.005444</td>\n",
              "      <td>0.009195</td>\n",
              "      <td>0.012909</td>\n",
              "      <td>-0.008143</td>\n",
              "    </tr>\n",
              "    <tr>\n",
              "      <th>Relationship_Status</th>\n",
              "      <td>0.008817</td>\n",
              "      <td>-0.002088</td>\n",
              "      <td>-0.000529</td>\n",
              "      <td>1.000000</td>\n",
              "      <td>0.000558</td>\n",
              "      <td>0.004963</td>\n",
              "      <td>0.006011</td>\n",
              "      <td>0.001348</td>\n",
              "      <td>-0.005071</td>\n",
              "      <td>0.008672</td>\n",
              "      <td>0.004016</td>\n",
              "      <td>0.015647</td>\n",
              "      <td>0.007986</td>\n",
              "      <td>0.021127</td>\n",
              "      <td>-0.006268</td>\n",
              "      <td>0.008051</td>\n",
              "      <td>-0.016682</td>\n",
              "      <td>0.011275</td>\n",
              "      <td>0.021183</td>\n",
              "      <td>-0.012621</td>\n",
              "      <td>-0.001844</td>\n",
              "      <td>0.020221</td>\n",
              "      <td>0.009107</td>\n",
              "    </tr>\n",
              "    <tr>\n",
              "      <th>Hometown</th>\n",
              "      <td>-0.030297</td>\n",
              "      <td>-0.015215</td>\n",
              "      <td>-0.003221</td>\n",
              "      <td>0.000558</td>\n",
              "      <td>1.000000</td>\n",
              "      <td>0.002469</td>\n",
              "      <td>-0.004965</td>\n",
              "      <td>-0.016009</td>\n",
              "      <td>0.011038</td>\n",
              "      <td>0.013009</td>\n",
              "      <td>-0.011630</td>\n",
              "      <td>0.012366</td>\n",
              "      <td>-0.007986</td>\n",
              "      <td>0.016723</td>\n",
              "      <td>-0.019067</td>\n",
              "      <td>-0.001835</td>\n",
              "      <td>-0.002095</td>\n",
              "      <td>0.018874</td>\n",
              "      <td>-0.005566</td>\n",
              "      <td>0.006434</td>\n",
              "      <td>-0.003769</td>\n",
              "      <td>0.000680</td>\n",
              "      <td>0.006784</td>\n",
              "    </tr>\n",
              "    <tr>\n",
              "      <th>Unit</th>\n",
              "      <td>-0.009876</td>\n",
              "      <td>-0.000070</td>\n",
              "      <td>-0.001808</td>\n",
              "      <td>0.004963</td>\n",
              "      <td>0.002469</td>\n",
              "      <td>1.000000</td>\n",
              "      <td>0.009010</td>\n",
              "      <td>0.001127</td>\n",
              "      <td>-0.003842</td>\n",
              "      <td>0.002381</td>\n",
              "      <td>0.005390</td>\n",
              "      <td>0.013499</td>\n",
              "      <td>-0.002017</td>\n",
              "      <td>0.010266</td>\n",
              "      <td>-0.007975</td>\n",
              "      <td>-0.023901</td>\n",
              "      <td>-0.013919</td>\n",
              "      <td>-0.016866</td>\n",
              "      <td>0.010342</td>\n",
              "      <td>-0.008282</td>\n",
              "      <td>-0.011236</td>\n",
              "      <td>0.006817</td>\n",
              "      <td>0.024324</td>\n",
              "    </tr>\n",
              "    <tr>\n",
              "      <th>Decision_skill_possess</th>\n",
              "      <td>-0.000748</td>\n",
              "      <td>0.022104</td>\n",
              "      <td>-0.015201</td>\n",
              "      <td>0.006011</td>\n",
              "      <td>-0.004965</td>\n",
              "      <td>0.009010</td>\n",
              "      <td>1.000000</td>\n",
              "      <td>0.021517</td>\n",
              "      <td>0.007712</td>\n",
              "      <td>0.007926</td>\n",
              "      <td>-0.004180</td>\n",
              "      <td>-0.006427</td>\n",
              "      <td>0.007935</td>\n",
              "      <td>-0.001239</td>\n",
              "      <td>0.004126</td>\n",
              "      <td>0.010122</td>\n",
              "      <td>-0.001640</td>\n",
              "      <td>-0.001375</td>\n",
              "      <td>-0.009306</td>\n",
              "      <td>0.023749</td>\n",
              "      <td>-0.019980</td>\n",
              "      <td>0.001890</td>\n",
              "      <td>0.018104</td>\n",
              "    </tr>\n",
              "    <tr>\n",
              "      <th>Time_of_service</th>\n",
              "      <td>-0.000559</td>\n",
              "      <td>0.883420</td>\n",
              "      <td>-0.012657</td>\n",
              "      <td>0.001348</td>\n",
              "      <td>-0.016009</td>\n",
              "      <td>0.001127</td>\n",
              "      <td>0.021517</td>\n",
              "      <td>1.000000</td>\n",
              "      <td>0.135672</td>\n",
              "      <td>-0.003451</td>\n",
              "      <td>0.004793</td>\n",
              "      <td>-0.002262</td>\n",
              "      <td>0.019676</td>\n",
              "      <td>-0.012430</td>\n",
              "      <td>-0.002836</td>\n",
              "      <td>0.004715</td>\n",
              "      <td>0.003480</td>\n",
              "      <td>0.006804</td>\n",
              "      <td>-0.006422</td>\n",
              "      <td>0.003158</td>\n",
              "      <td>0.007543</td>\n",
              "      <td>0.006973</td>\n",
              "      <td>-0.016211</td>\n",
              "    </tr>\n",
              "    <tr>\n",
              "      <th>Time_since_promotion</th>\n",
              "      <td>-0.020346</td>\n",
              "      <td>0.141400</td>\n",
              "      <td>-0.002077</td>\n",
              "      <td>-0.005071</td>\n",
              "      <td>0.011038</td>\n",
              "      <td>-0.003842</td>\n",
              "      <td>0.007712</td>\n",
              "      <td>0.135672</td>\n",
              "      <td>1.000000</td>\n",
              "      <td>0.014147</td>\n",
              "      <td>-0.012061</td>\n",
              "      <td>-0.008851</td>\n",
              "      <td>-0.010011</td>\n",
              "      <td>0.009443</td>\n",
              "      <td>-0.007557</td>\n",
              "      <td>-0.002873</td>\n",
              "      <td>0.004133</td>\n",
              "      <td>-0.002783</td>\n",
              "      <td>-0.003029</td>\n",
              "      <td>0.000563</td>\n",
              "      <td>0.017264</td>\n",
              "      <td>0.005173</td>\n",
              "      <td>0.013880</td>\n",
              "    </tr>\n",
              "    <tr>\n",
              "      <th>growth_rate</th>\n",
              "      <td>-0.011666</td>\n",
              "      <td>0.001226</td>\n",
              "      <td>0.002991</td>\n",
              "      <td>0.008672</td>\n",
              "      <td>0.013009</td>\n",
              "      <td>0.002381</td>\n",
              "      <td>0.007926</td>\n",
              "      <td>-0.003451</td>\n",
              "      <td>0.014147</td>\n",
              "      <td>1.000000</td>\n",
              "      <td>0.008460</td>\n",
              "      <td>-0.006887</td>\n",
              "      <td>-0.004681</td>\n",
              "      <td>-0.007009</td>\n",
              "      <td>-0.017525</td>\n",
              "      <td>0.001351</td>\n",
              "      <td>0.010594</td>\n",
              "      <td>0.010991</td>\n",
              "      <td>0.020005</td>\n",
              "      <td>-0.015122</td>\n",
              "      <td>-0.005860</td>\n",
              "      <td>-0.017993</td>\n",
              "      <td>0.014247</td>\n",
              "    </tr>\n",
              "    <tr>\n",
              "      <th>Travel_Rate</th>\n",
              "      <td>0.006566</td>\n",
              "      <td>0.011901</td>\n",
              "      <td>-0.017690</td>\n",
              "      <td>0.004016</td>\n",
              "      <td>-0.011630</td>\n",
              "      <td>0.005390</td>\n",
              "      <td>-0.004180</td>\n",
              "      <td>0.004793</td>\n",
              "      <td>-0.012061</td>\n",
              "      <td>0.008460</td>\n",
              "      <td>1.000000</td>\n",
              "      <td>0.021299</td>\n",
              "      <td>-0.012605</td>\n",
              "      <td>-0.014775</td>\n",
              "      <td>0.004668</td>\n",
              "      <td>0.023898</td>\n",
              "      <td>0.007772</td>\n",
              "      <td>-0.009019</td>\n",
              "      <td>-0.005177</td>\n",
              "      <td>-0.003866</td>\n",
              "      <td>-0.012280</td>\n",
              "      <td>-0.006271</td>\n",
              "      <td>-0.012608</td>\n",
              "    </tr>\n",
              "    <tr>\n",
              "      <th>Post_Level</th>\n",
              "      <td>0.003734</td>\n",
              "      <td>0.002387</td>\n",
              "      <td>0.009986</td>\n",
              "      <td>0.015647</td>\n",
              "      <td>0.012366</td>\n",
              "      <td>0.013499</td>\n",
              "      <td>-0.006427</td>\n",
              "      <td>-0.002262</td>\n",
              "      <td>-0.008851</td>\n",
              "      <td>-0.006887</td>\n",
              "      <td>0.021299</td>\n",
              "      <td>1.000000</td>\n",
              "      <td>0.022817</td>\n",
              "      <td>0.010161</td>\n",
              "      <td>-0.014931</td>\n",
              "      <td>-0.008458</td>\n",
              "      <td>-0.006379</td>\n",
              "      <td>0.010387</td>\n",
              "      <td>-0.012055</td>\n",
              "      <td>0.013008</td>\n",
              "      <td>0.002765</td>\n",
              "      <td>-0.003397</td>\n",
              "      <td>0.016402</td>\n",
              "    </tr>\n",
              "    <tr>\n",
              "      <th>Pay_Scale</th>\n",
              "      <td>-0.004027</td>\n",
              "      <td>0.012265</td>\n",
              "      <td>0.006866</td>\n",
              "      <td>0.007986</td>\n",
              "      <td>-0.007986</td>\n",
              "      <td>-0.002017</td>\n",
              "      <td>0.007935</td>\n",
              "      <td>0.019676</td>\n",
              "      <td>-0.010011</td>\n",
              "      <td>-0.004681</td>\n",
              "      <td>-0.012605</td>\n",
              "      <td>0.022817</td>\n",
              "      <td>1.000000</td>\n",
              "      <td>0.016192</td>\n",
              "      <td>-0.023230</td>\n",
              "      <td>0.010531</td>\n",
              "      <td>0.006304</td>\n",
              "      <td>0.003309</td>\n",
              "      <td>-0.010843</td>\n",
              "      <td>0.017690</td>\n",
              "      <td>-0.011821</td>\n",
              "      <td>0.002330</td>\n",
              "      <td>-0.015043</td>\n",
              "    </tr>\n",
              "    <tr>\n",
              "      <th>Compensation_and_Benefits</th>\n",
              "      <td>0.004732</td>\n",
              "      <td>-0.012852</td>\n",
              "      <td>0.008854</td>\n",
              "      <td>0.021127</td>\n",
              "      <td>0.016723</td>\n",
              "      <td>0.010266</td>\n",
              "      <td>-0.001239</td>\n",
              "      <td>-0.012430</td>\n",
              "      <td>0.009443</td>\n",
              "      <td>-0.007009</td>\n",
              "      <td>-0.014775</td>\n",
              "      <td>0.010161</td>\n",
              "      <td>0.016192</td>\n",
              "      <td>1.000000</td>\n",
              "      <td>-0.020148</td>\n",
              "      <td>-0.024689</td>\n",
              "      <td>0.016569</td>\n",
              "      <td>-0.017333</td>\n",
              "      <td>0.011165</td>\n",
              "      <td>-0.005825</td>\n",
              "      <td>0.012212</td>\n",
              "      <td>0.003320</td>\n",
              "      <td>-0.025175</td>\n",
              "    </tr>\n",
              "    <tr>\n",
              "      <th>Work_Life_balance</th>\n",
              "      <td>-0.003145</td>\n",
              "      <td>0.002946</td>\n",
              "      <td>-0.014715</td>\n",
              "      <td>-0.006268</td>\n",
              "      <td>-0.019067</td>\n",
              "      <td>-0.007975</td>\n",
              "      <td>0.004126</td>\n",
              "      <td>-0.002836</td>\n",
              "      <td>-0.007557</td>\n",
              "      <td>-0.017525</td>\n",
              "      <td>0.004668</td>\n",
              "      <td>-0.014931</td>\n",
              "      <td>-0.023230</td>\n",
              "      <td>-0.020148</td>\n",
              "      <td>1.000000</td>\n",
              "      <td>-0.021770</td>\n",
              "      <td>-0.002601</td>\n",
              "      <td>0.004295</td>\n",
              "      <td>-0.026315</td>\n",
              "      <td>0.021244</td>\n",
              "      <td>0.003882</td>\n",
              "      <td>0.023108</td>\n",
              "      <td>0.020975</td>\n",
              "    </tr>\n",
              "    <tr>\n",
              "      <th>VAR1</th>\n",
              "      <td>-0.005024</td>\n",
              "      <td>0.005547</td>\n",
              "      <td>-0.002185</td>\n",
              "      <td>0.008051</td>\n",
              "      <td>-0.001835</td>\n",
              "      <td>-0.023901</td>\n",
              "      <td>0.010122</td>\n",
              "      <td>0.004715</td>\n",
              "      <td>-0.002873</td>\n",
              "      <td>0.001351</td>\n",
              "      <td>0.023898</td>\n",
              "      <td>-0.008458</td>\n",
              "      <td>0.010531</td>\n",
              "      <td>-0.024689</td>\n",
              "      <td>-0.021770</td>\n",
              "      <td>1.000000</td>\n",
              "      <td>0.001934</td>\n",
              "      <td>-0.003318</td>\n",
              "      <td>0.001391</td>\n",
              "      <td>0.007904</td>\n",
              "      <td>-0.002771</td>\n",
              "      <td>0.009355</td>\n",
              "      <td>-0.008073</td>\n",
              "    </tr>\n",
              "    <tr>\n",
              "      <th>VAR2</th>\n",
              "      <td>0.002907</td>\n",
              "      <td>0.005120</td>\n",
              "      <td>-0.010076</td>\n",
              "      <td>-0.016682</td>\n",
              "      <td>-0.002095</td>\n",
              "      <td>-0.013919</td>\n",
              "      <td>-0.001640</td>\n",
              "      <td>0.003480</td>\n",
              "      <td>0.004133</td>\n",
              "      <td>0.010594</td>\n",
              "      <td>0.007772</td>\n",
              "      <td>-0.006379</td>\n",
              "      <td>0.006304</td>\n",
              "      <td>0.016569</td>\n",
              "      <td>-0.002601</td>\n",
              "      <td>0.001934</td>\n",
              "      <td>1.000000</td>\n",
              "      <td>0.011873</td>\n",
              "      <td>0.012662</td>\n",
              "      <td>0.001820</td>\n",
              "      <td>0.004384</td>\n",
              "      <td>0.003021</td>\n",
              "      <td>-0.022751</td>\n",
              "    </tr>\n",
              "    <tr>\n",
              "      <th>VAR3</th>\n",
              "      <td>-0.000272</td>\n",
              "      <td>0.007355</td>\n",
              "      <td>-0.009689</td>\n",
              "      <td>0.011275</td>\n",
              "      <td>0.018874</td>\n",
              "      <td>-0.016866</td>\n",
              "      <td>-0.001375</td>\n",
              "      <td>0.006804</td>\n",
              "      <td>-0.002783</td>\n",
              "      <td>0.010991</td>\n",
              "      <td>-0.009019</td>\n",
              "      <td>0.010387</td>\n",
              "      <td>0.003309</td>\n",
              "      <td>-0.017333</td>\n",
              "      <td>0.004295</td>\n",
              "      <td>-0.003318</td>\n",
              "      <td>0.011873</td>\n",
              "      <td>1.000000</td>\n",
              "      <td>-0.007694</td>\n",
              "      <td>-0.003399</td>\n",
              "      <td>0.005096</td>\n",
              "      <td>0.008390</td>\n",
              "      <td>0.001245</td>\n",
              "    </tr>\n",
              "    <tr>\n",
              "      <th>VAR4</th>\n",
              "      <td>-0.002937</td>\n",
              "      <td>0.000224</td>\n",
              "      <td>0.004731</td>\n",
              "      <td>0.021183</td>\n",
              "      <td>-0.005566</td>\n",
              "      <td>0.010342</td>\n",
              "      <td>-0.009306</td>\n",
              "      <td>-0.006422</td>\n",
              "      <td>-0.003029</td>\n",
              "      <td>0.020005</td>\n",
              "      <td>-0.005177</td>\n",
              "      <td>-0.012055</td>\n",
              "      <td>-0.010843</td>\n",
              "      <td>0.011165</td>\n",
              "      <td>-0.026315</td>\n",
              "      <td>0.001391</td>\n",
              "      <td>0.012662</td>\n",
              "      <td>-0.007694</td>\n",
              "      <td>1.000000</td>\n",
              "      <td>-0.004703</td>\n",
              "      <td>0.001698</td>\n",
              "      <td>-0.016638</td>\n",
              "      <td>-0.013364</td>\n",
              "    </tr>\n",
              "    <tr>\n",
              "      <th>VAR5</th>\n",
              "      <td>0.015351</td>\n",
              "      <td>0.000012</td>\n",
              "      <td>0.005444</td>\n",
              "      <td>-0.012621</td>\n",
              "      <td>0.006434</td>\n",
              "      <td>-0.008282</td>\n",
              "      <td>0.023749</td>\n",
              "      <td>0.003158</td>\n",
              "      <td>0.000563</td>\n",
              "      <td>-0.015122</td>\n",
              "      <td>-0.003866</td>\n",
              "      <td>0.013008</td>\n",
              "      <td>0.017690</td>\n",
              "      <td>-0.005825</td>\n",
              "      <td>0.021244</td>\n",
              "      <td>0.007904</td>\n",
              "      <td>0.001820</td>\n",
              "      <td>-0.003399</td>\n",
              "      <td>-0.004703</td>\n",
              "      <td>1.000000</td>\n",
              "      <td>-0.005412</td>\n",
              "      <td>0.009436</td>\n",
              "      <td>-0.004770</td>\n",
              "    </tr>\n",
              "    <tr>\n",
              "      <th>VAR6</th>\n",
              "      <td>0.009894</td>\n",
              "      <td>-0.000791</td>\n",
              "      <td>0.009195</td>\n",
              "      <td>-0.001844</td>\n",
              "      <td>-0.003769</td>\n",
              "      <td>-0.011236</td>\n",
              "      <td>-0.019980</td>\n",
              "      <td>0.007543</td>\n",
              "      <td>0.017264</td>\n",
              "      <td>-0.005860</td>\n",
              "      <td>-0.012280</td>\n",
              "      <td>0.002765</td>\n",
              "      <td>-0.011821</td>\n",
              "      <td>0.012212</td>\n",
              "      <td>0.003882</td>\n",
              "      <td>-0.002771</td>\n",
              "      <td>0.004384</td>\n",
              "      <td>0.005096</td>\n",
              "      <td>0.001698</td>\n",
              "      <td>-0.005412</td>\n",
              "      <td>1.000000</td>\n",
              "      <td>0.011908</td>\n",
              "      <td>-0.003130</td>\n",
              "    </tr>\n",
              "    <tr>\n",
              "      <th>VAR7</th>\n",
              "      <td>0.002916</td>\n",
              "      <td>0.008481</td>\n",
              "      <td>0.012909</td>\n",
              "      <td>0.020221</td>\n",
              "      <td>0.000680</td>\n",
              "      <td>0.006817</td>\n",
              "      <td>0.001890</td>\n",
              "      <td>0.006973</td>\n",
              "      <td>0.005173</td>\n",
              "      <td>-0.017993</td>\n",
              "      <td>-0.006271</td>\n",
              "      <td>-0.003397</td>\n",
              "      <td>0.002330</td>\n",
              "      <td>0.003320</td>\n",
              "      <td>0.023108</td>\n",
              "      <td>0.009355</td>\n",
              "      <td>0.003021</td>\n",
              "      <td>0.008390</td>\n",
              "      <td>-0.016638</td>\n",
              "      <td>0.009436</td>\n",
              "      <td>0.011908</td>\n",
              "      <td>1.000000</td>\n",
              "      <td>-0.015299</td>\n",
              "    </tr>\n",
              "    <tr>\n",
              "      <th>Attrition_rate</th>\n",
              "      <td>0.028544</td>\n",
              "      <td>-0.015092</td>\n",
              "      <td>-0.008143</td>\n",
              "      <td>0.009107</td>\n",
              "      <td>0.006784</td>\n",
              "      <td>0.024324</td>\n",
              "      <td>0.018104</td>\n",
              "      <td>-0.016211</td>\n",
              "      <td>0.013880</td>\n",
              "      <td>0.014247</td>\n",
              "      <td>-0.012608</td>\n",
              "      <td>0.016402</td>\n",
              "      <td>-0.015043</td>\n",
              "      <td>-0.025175</td>\n",
              "      <td>0.020975</td>\n",
              "      <td>-0.008073</td>\n",
              "      <td>-0.022751</td>\n",
              "      <td>0.001245</td>\n",
              "      <td>-0.013364</td>\n",
              "      <td>-0.004770</td>\n",
              "      <td>-0.003130</td>\n",
              "      <td>-0.015299</td>\n",
              "      <td>1.000000</td>\n",
              "    </tr>\n",
              "  </tbody>\n",
              "</table>\n",
              "</div>"
            ],
            "text/plain": [
              "                             Gender       Age  ...      VAR7  Attrition_rate\n",
              "Gender                     1.000000  0.001838  ...  0.002916        0.028544\n",
              "Age                        0.001838  1.000000  ...  0.008481       -0.015092\n",
              "Education_Level           -0.007127 -0.005604  ...  0.012909       -0.008143\n",
              "Relationship_Status        0.008817 -0.002088  ...  0.020221        0.009107\n",
              "Hometown                  -0.030297 -0.015215  ...  0.000680        0.006784\n",
              "Unit                      -0.009876 -0.000070  ...  0.006817        0.024324\n",
              "Decision_skill_possess    -0.000748  0.022104  ...  0.001890        0.018104\n",
              "Time_of_service           -0.000559  0.883420  ...  0.006973       -0.016211\n",
              "Time_since_promotion      -0.020346  0.141400  ...  0.005173        0.013880\n",
              "growth_rate               -0.011666  0.001226  ... -0.017993        0.014247\n",
              "Travel_Rate                0.006566  0.011901  ... -0.006271       -0.012608\n",
              "Post_Level                 0.003734  0.002387  ... -0.003397        0.016402\n",
              "Pay_Scale                 -0.004027  0.012265  ...  0.002330       -0.015043\n",
              "Compensation_and_Benefits  0.004732 -0.012852  ...  0.003320       -0.025175\n",
              "Work_Life_balance         -0.003145  0.002946  ...  0.023108        0.020975\n",
              "VAR1                      -0.005024  0.005547  ...  0.009355       -0.008073\n",
              "VAR2                       0.002907  0.005120  ...  0.003021       -0.022751\n",
              "VAR3                      -0.000272  0.007355  ...  0.008390        0.001245\n",
              "VAR4                      -0.002937  0.000224  ... -0.016638       -0.013364\n",
              "VAR5                       0.015351  0.000012  ...  0.009436       -0.004770\n",
              "VAR6                       0.009894 -0.000791  ...  0.011908       -0.003130\n",
              "VAR7                       0.002916  0.008481  ...  1.000000       -0.015299\n",
              "Attrition_rate             0.028544 -0.015092  ... -0.015299        1.000000\n",
              "\n",
              "[23 rows x 23 columns]"
            ]
          },
          "metadata": {
            "tags": []
          },
          "execution_count": 94
        }
      ]
    },
    {
      "cell_type": "code",
      "metadata": {
        "id": "EWfXQLFtFcLy",
        "colab": {
          "base_uri": "https://localhost:8080/",
          "height": 34
        },
        "outputId": "a15d336b-e464-4943-e2cb-4b8e67919026"
      },
      "source": [
        "train['Attrition_rate'].skew()"
      ],
      "execution_count": null,
      "outputs": [
        {
          "output_type": "execute_result",
          "data": {
            "text/plain": [
              "2.056875960544357"
            ]
          },
          "metadata": {
            "tags": []
          },
          "execution_count": 95
        }
      ]
    },
    {
      "cell_type": "code",
      "metadata": {
        "id": "xfz3M7ZZFnNz"
      },
      "source": [
        "X = train.drop(['Attrition_rate'], axis=1)\n",
        "y = train['Attrition_rate']"
      ],
      "execution_count": null,
      "outputs": []
    },
    {
      "cell_type": "code",
      "metadata": {
        "id": "dOY_maORA2vA"
      },
      "source": [
        "frames = [X,test]\n",
        "X_new = pd.concat(frames)"
      ],
      "execution_count": null,
      "outputs": []
    },
    {
      "cell_type": "code",
      "metadata": {
        "id": "b4yDpfrYBWtf",
        "colab": {
          "base_uri": "https://localhost:8080/",
          "height": 439
        },
        "outputId": "e58a97b0-b746-4c22-9d65-b79b1b6831e6"
      },
      "source": [
        "X_new"
      ],
      "execution_count": null,
      "outputs": [
        {
          "output_type": "execute_result",
          "data": {
            "text/html": [
              "<div>\n",
              "<style scoped>\n",
              "    .dataframe tbody tr th:only-of-type {\n",
              "        vertical-align: middle;\n",
              "    }\n",
              "\n",
              "    .dataframe tbody tr th {\n",
              "        vertical-align: top;\n",
              "    }\n",
              "\n",
              "    .dataframe thead th {\n",
              "        text-align: right;\n",
              "    }\n",
              "</style>\n",
              "<table border=\"1\" class=\"dataframe\">\n",
              "  <thead>\n",
              "    <tr style=\"text-align: right;\">\n",
              "      <th></th>\n",
              "      <th>Gender</th>\n",
              "      <th>Age</th>\n",
              "      <th>Education_Level</th>\n",
              "      <th>Relationship_Status</th>\n",
              "      <th>Hometown</th>\n",
              "      <th>Unit</th>\n",
              "      <th>Decision_skill_possess</th>\n",
              "      <th>Time_of_service</th>\n",
              "      <th>Time_since_promotion</th>\n",
              "      <th>growth_rate</th>\n",
              "      <th>Travel_Rate</th>\n",
              "      <th>Post_Level</th>\n",
              "      <th>Pay_Scale</th>\n",
              "      <th>Compensation_and_Benefits</th>\n",
              "      <th>Work_Life_balance</th>\n",
              "      <th>VAR1</th>\n",
              "      <th>VAR2</th>\n",
              "      <th>VAR3</th>\n",
              "      <th>VAR4</th>\n",
              "      <th>VAR5</th>\n",
              "      <th>VAR6</th>\n",
              "      <th>VAR7</th>\n",
              "    </tr>\n",
              "  </thead>\n",
              "  <tbody>\n",
              "    <tr>\n",
              "      <th>0</th>\n",
              "      <td>0</td>\n",
              "      <td>42.000000</td>\n",
              "      <td>4</td>\n",
              "      <td>0</td>\n",
              "      <td>1</td>\n",
              "      <td>2</td>\n",
              "      <td>2</td>\n",
              "      <td>4.0</td>\n",
              "      <td>4</td>\n",
              "      <td>33</td>\n",
              "      <td>1</td>\n",
              "      <td>1</td>\n",
              "      <td>7.0</td>\n",
              "      <td>2</td>\n",
              "      <td>3.0</td>\n",
              "      <td>4</td>\n",
              "      <td>0.7516</td>\n",
              "      <td>1.8688</td>\n",
              "      <td>2.0</td>\n",
              "      <td>4</td>\n",
              "      <td>5</td>\n",
              "      <td>3</td>\n",
              "    </tr>\n",
              "    <tr>\n",
              "      <th>1</th>\n",
              "      <td>1</td>\n",
              "      <td>24.000000</td>\n",
              "      <td>3</td>\n",
              "      <td>1</td>\n",
              "      <td>3</td>\n",
              "      <td>3</td>\n",
              "      <td>0</td>\n",
              "      <td>5.0</td>\n",
              "      <td>4</td>\n",
              "      <td>36</td>\n",
              "      <td>0</td>\n",
              "      <td>3</td>\n",
              "      <td>6.0</td>\n",
              "      <td>2</td>\n",
              "      <td>4.0</td>\n",
              "      <td>3</td>\n",
              "      <td>-0.9612</td>\n",
              "      <td>-0.4537</td>\n",
              "      <td>2.0</td>\n",
              "      <td>3</td>\n",
              "      <td>5</td>\n",
              "      <td>3</td>\n",
              "    </tr>\n",
              "    <tr>\n",
              "      <th>2</th>\n",
              "      <td>0</td>\n",
              "      <td>58.000000</td>\n",
              "      <td>3</td>\n",
              "      <td>0</td>\n",
              "      <td>0</td>\n",
              "      <td>8</td>\n",
              "      <td>2</td>\n",
              "      <td>27.0</td>\n",
              "      <td>3</td>\n",
              "      <td>51</td>\n",
              "      <td>0</td>\n",
              "      <td>2</td>\n",
              "      <td>8.0</td>\n",
              "      <td>2</td>\n",
              "      <td>1.0</td>\n",
              "      <td>4</td>\n",
              "      <td>-0.9612</td>\n",
              "      <td>-0.4537</td>\n",
              "      <td>3.0</td>\n",
              "      <td>3</td>\n",
              "      <td>8</td>\n",
              "      <td>3</td>\n",
              "    </tr>\n",
              "    <tr>\n",
              "      <th>3</th>\n",
              "      <td>0</td>\n",
              "      <td>26.000000</td>\n",
              "      <td>3</td>\n",
              "      <td>1</td>\n",
              "      <td>2</td>\n",
              "      <td>1</td>\n",
              "      <td>1</td>\n",
              "      <td>4.0</td>\n",
              "      <td>3</td>\n",
              "      <td>56</td>\n",
              "      <td>1</td>\n",
              "      <td>3</td>\n",
              "      <td>8.0</td>\n",
              "      <td>2</td>\n",
              "      <td>1.0</td>\n",
              "      <td>3</td>\n",
              "      <td>-1.8176</td>\n",
              "      <td>-0.4537</td>\n",
              "      <td>2.0</td>\n",
              "      <td>3</td>\n",
              "      <td>7</td>\n",
              "      <td>3</td>\n",
              "    </tr>\n",
              "    <tr>\n",
              "      <th>4</th>\n",
              "      <td>0</td>\n",
              "      <td>31.000000</td>\n",
              "      <td>1</td>\n",
              "      <td>0</td>\n",
              "      <td>3</td>\n",
              "      <td>3</td>\n",
              "      <td>2</td>\n",
              "      <td>5.0</td>\n",
              "      <td>4</td>\n",
              "      <td>62</td>\n",
              "      <td>1</td>\n",
              "      <td>3</td>\n",
              "      <td>2.0</td>\n",
              "      <td>3</td>\n",
              "      <td>3.0</td>\n",
              "      <td>1</td>\n",
              "      <td>0.7516</td>\n",
              "      <td>-0.4537</td>\n",
              "      <td>2.0</td>\n",
              "      <td>2</td>\n",
              "      <td>8</td>\n",
              "      <td>2</td>\n",
              "    </tr>\n",
              "    <tr>\n",
              "      <th>...</th>\n",
              "      <td>...</td>\n",
              "      <td>...</td>\n",
              "      <td>...</td>\n",
              "      <td>...</td>\n",
              "      <td>...</td>\n",
              "      <td>...</td>\n",
              "      <td>...</td>\n",
              "      <td>...</td>\n",
              "      <td>...</td>\n",
              "      <td>...</td>\n",
              "      <td>...</td>\n",
              "      <td>...</td>\n",
              "      <td>...</td>\n",
              "      <td>...</td>\n",
              "      <td>...</td>\n",
              "      <td>...</td>\n",
              "      <td>...</td>\n",
              "      <td>...</td>\n",
              "      <td>...</td>\n",
              "      <td>...</td>\n",
              "      <td>...</td>\n",
              "      <td>...</td>\n",
              "    </tr>\n",
              "    <tr>\n",
              "      <th>2995</th>\n",
              "      <td>0</td>\n",
              "      <td>32.000000</td>\n",
              "      <td>3</td>\n",
              "      <td>1</td>\n",
              "      <td>1</td>\n",
              "      <td>10</td>\n",
              "      <td>3</td>\n",
              "      <td>3.0</td>\n",
              "      <td>3</td>\n",
              "      <td>38</td>\n",
              "      <td>1</td>\n",
              "      <td>3</td>\n",
              "      <td>6.0</td>\n",
              "      <td>2</td>\n",
              "      <td>2.0</td>\n",
              "      <td>1</td>\n",
              "      <td>-0.1048</td>\n",
              "      <td>0.7075</td>\n",
              "      <td>1.0</td>\n",
              "      <td>4</td>\n",
              "      <td>7</td>\n",
              "      <td>4</td>\n",
              "    </tr>\n",
              "    <tr>\n",
              "      <th>2996</th>\n",
              "      <td>0</td>\n",
              "      <td>39.675507</td>\n",
              "      <td>2</td>\n",
              "      <td>1</td>\n",
              "      <td>1</td>\n",
              "      <td>4</td>\n",
              "      <td>2</td>\n",
              "      <td>10.0</td>\n",
              "      <td>2</td>\n",
              "      <td>57</td>\n",
              "      <td>1</td>\n",
              "      <td>4</td>\n",
              "      <td>9.0</td>\n",
              "      <td>2</td>\n",
              "      <td>1.0</td>\n",
              "      <td>3</td>\n",
              "      <td>0.7516</td>\n",
              "      <td>0.7075</td>\n",
              "      <td>3.0</td>\n",
              "      <td>4</td>\n",
              "      <td>8</td>\n",
              "      <td>3</td>\n",
              "    </tr>\n",
              "    <tr>\n",
              "      <th>2997</th>\n",
              "      <td>0</td>\n",
              "      <td>60.000000</td>\n",
              "      <td>4</td>\n",
              "      <td>1</td>\n",
              "      <td>2</td>\n",
              "      <td>3</td>\n",
              "      <td>0</td>\n",
              "      <td>35.0</td>\n",
              "      <td>1</td>\n",
              "      <td>69</td>\n",
              "      <td>0</td>\n",
              "      <td>2</td>\n",
              "      <td>9.0</td>\n",
              "      <td>3</td>\n",
              "      <td>3.0</td>\n",
              "      <td>3</td>\n",
              "      <td>-1.8176</td>\n",
              "      <td>-0.4537</td>\n",
              "      <td>2.0</td>\n",
              "      <td>4</td>\n",
              "      <td>8</td>\n",
              "      <td>4</td>\n",
              "    </tr>\n",
              "    <tr>\n",
              "      <th>2998</th>\n",
              "      <td>0</td>\n",
              "      <td>51.000000</td>\n",
              "      <td>1</td>\n",
              "      <td>0</td>\n",
              "      <td>3</td>\n",
              "      <td>2</td>\n",
              "      <td>1</td>\n",
              "      <td>23.0</td>\n",
              "      <td>1</td>\n",
              "      <td>30</td>\n",
              "      <td>0</td>\n",
              "      <td>2</td>\n",
              "      <td>6.0</td>\n",
              "      <td>3</td>\n",
              "      <td>1.0</td>\n",
              "      <td>5</td>\n",
              "      <td>0.7516</td>\n",
              "      <td>-0.4537</td>\n",
              "      <td>2.0</td>\n",
              "      <td>3</td>\n",
              "      <td>9</td>\n",
              "      <td>2</td>\n",
              "    </tr>\n",
              "    <tr>\n",
              "      <th>2999</th>\n",
              "      <td>0</td>\n",
              "      <td>45.000000</td>\n",
              "      <td>1</td>\n",
              "      <td>1</td>\n",
              "      <td>1</td>\n",
              "      <td>10</td>\n",
              "      <td>3</td>\n",
              "      <td>12.0</td>\n",
              "      <td>4</td>\n",
              "      <td>70</td>\n",
              "      <td>1</td>\n",
              "      <td>2</td>\n",
              "      <td>8.0</td>\n",
              "      <td>4</td>\n",
              "      <td>4.0</td>\n",
              "      <td>3</td>\n",
              "      <td>0.7516</td>\n",
              "      <td>-0.4537</td>\n",
              "      <td>2.0</td>\n",
              "      <td>2</td>\n",
              "      <td>8</td>\n",
              "      <td>5</td>\n",
              "    </tr>\n",
              "  </tbody>\n",
              "</table>\n",
              "<p>10000 rows × 22 columns</p>\n",
              "</div>"
            ],
            "text/plain": [
              "      Gender        Age  Education_Level  ...  VAR5  VAR6  VAR7\n",
              "0          0  42.000000                4  ...     4     5     3\n",
              "1          1  24.000000                3  ...     3     5     3\n",
              "2          0  58.000000                3  ...     3     8     3\n",
              "3          0  26.000000                3  ...     3     7     3\n",
              "4          0  31.000000                1  ...     2     8     2\n",
              "...      ...        ...              ...  ...   ...   ...   ...\n",
              "2995       0  32.000000                3  ...     4     7     4\n",
              "2996       0  39.675507                2  ...     4     8     3\n",
              "2997       0  60.000000                4  ...     4     8     4\n",
              "2998       0  51.000000                1  ...     3     9     2\n",
              "2999       0  45.000000                1  ...     2     8     5\n",
              "\n",
              "[10000 rows x 22 columns]"
            ]
          },
          "metadata": {
            "tags": []
          },
          "execution_count": 127
        }
      ]
    },
    {
      "cell_type": "code",
      "metadata": {
        "id": "F55fIkamBZVz"
      },
      "source": [
        "xgb_preds = pd.DataFrame(xgb_preds)\n",
        "fms = [y,xgb_preds]\n",
        "y_new = pd.concat(fms)"
      ],
      "execution_count": null,
      "outputs": []
    },
    {
      "cell_type": "code",
      "metadata": {
        "id": "KIQ8Vp5MA2ga",
        "colab": {
          "base_uri": "https://localhost:8080/",
          "height": 34
        },
        "outputId": "41adc522-8b33-49ee-e8cb-7da7188a76ed"
      },
      "source": [
        "X.shape, test.shape, X_new.shape, y_new.shape"
      ],
      "execution_count": null,
      "outputs": [
        {
          "output_type": "execute_result",
          "data": {
            "text/plain": [
              "((7000, 22), (3000, 22), (10000, 22), (10000, 1))"
            ]
          },
          "metadata": {
            "tags": []
          },
          "execution_count": 132
        }
      ]
    },
    {
      "cell_type": "code",
      "metadata": {
        "id": "1qMf6g39Fyq-",
        "colab": {
          "base_uri": "https://localhost:8080/",
          "height": 439
        },
        "outputId": "150a4830-6774-4fd4-d527-43eed530cebb"
      },
      "source": [
        "X"
      ],
      "execution_count": null,
      "outputs": [
        {
          "output_type": "execute_result",
          "data": {
            "text/html": [
              "<div>\n",
              "<style scoped>\n",
              "    .dataframe tbody tr th:only-of-type {\n",
              "        vertical-align: middle;\n",
              "    }\n",
              "\n",
              "    .dataframe tbody tr th {\n",
              "        vertical-align: top;\n",
              "    }\n",
              "\n",
              "    .dataframe thead th {\n",
              "        text-align: right;\n",
              "    }\n",
              "</style>\n",
              "<table border=\"1\" class=\"dataframe\">\n",
              "  <thead>\n",
              "    <tr style=\"text-align: right;\">\n",
              "      <th></th>\n",
              "      <th>Gender</th>\n",
              "      <th>Age</th>\n",
              "      <th>Education_Level</th>\n",
              "      <th>Relationship_Status</th>\n",
              "      <th>Hometown</th>\n",
              "      <th>Unit</th>\n",
              "      <th>Decision_skill_possess</th>\n",
              "      <th>Time_of_service</th>\n",
              "      <th>Time_since_promotion</th>\n",
              "      <th>growth_rate</th>\n",
              "      <th>Travel_Rate</th>\n",
              "      <th>Post_Level</th>\n",
              "      <th>Pay_Scale</th>\n",
              "      <th>Compensation_and_Benefits</th>\n",
              "      <th>Work_Life_balance</th>\n",
              "      <th>VAR1</th>\n",
              "      <th>VAR2</th>\n",
              "      <th>VAR3</th>\n",
              "      <th>VAR4</th>\n",
              "      <th>VAR5</th>\n",
              "      <th>VAR6</th>\n",
              "      <th>VAR7</th>\n",
              "    </tr>\n",
              "  </thead>\n",
              "  <tbody>\n",
              "    <tr>\n",
              "      <th>0</th>\n",
              "      <td>0</td>\n",
              "      <td>42.0</td>\n",
              "      <td>4</td>\n",
              "      <td>0</td>\n",
              "      <td>1</td>\n",
              "      <td>2</td>\n",
              "      <td>2</td>\n",
              "      <td>4.0</td>\n",
              "      <td>4</td>\n",
              "      <td>33</td>\n",
              "      <td>1</td>\n",
              "      <td>1</td>\n",
              "      <td>7.0</td>\n",
              "      <td>2</td>\n",
              "      <td>3.0</td>\n",
              "      <td>4</td>\n",
              "      <td>0.7516</td>\n",
              "      <td>1.8688</td>\n",
              "      <td>2.0</td>\n",
              "      <td>4</td>\n",
              "      <td>5</td>\n",
              "      <td>3</td>\n",
              "    </tr>\n",
              "    <tr>\n",
              "      <th>1</th>\n",
              "      <td>1</td>\n",
              "      <td>24.0</td>\n",
              "      <td>3</td>\n",
              "      <td>1</td>\n",
              "      <td>3</td>\n",
              "      <td>3</td>\n",
              "      <td>0</td>\n",
              "      <td>5.0</td>\n",
              "      <td>4</td>\n",
              "      <td>36</td>\n",
              "      <td>0</td>\n",
              "      <td>3</td>\n",
              "      <td>6.0</td>\n",
              "      <td>2</td>\n",
              "      <td>4.0</td>\n",
              "      <td>3</td>\n",
              "      <td>-0.9612</td>\n",
              "      <td>-0.4537</td>\n",
              "      <td>2.0</td>\n",
              "      <td>3</td>\n",
              "      <td>5</td>\n",
              "      <td>3</td>\n",
              "    </tr>\n",
              "    <tr>\n",
              "      <th>2</th>\n",
              "      <td>0</td>\n",
              "      <td>58.0</td>\n",
              "      <td>3</td>\n",
              "      <td>0</td>\n",
              "      <td>0</td>\n",
              "      <td>8</td>\n",
              "      <td>2</td>\n",
              "      <td>27.0</td>\n",
              "      <td>3</td>\n",
              "      <td>51</td>\n",
              "      <td>0</td>\n",
              "      <td>2</td>\n",
              "      <td>8.0</td>\n",
              "      <td>2</td>\n",
              "      <td>1.0</td>\n",
              "      <td>4</td>\n",
              "      <td>-0.9612</td>\n",
              "      <td>-0.4537</td>\n",
              "      <td>3.0</td>\n",
              "      <td>3</td>\n",
              "      <td>8</td>\n",
              "      <td>3</td>\n",
              "    </tr>\n",
              "    <tr>\n",
              "      <th>3</th>\n",
              "      <td>0</td>\n",
              "      <td>26.0</td>\n",
              "      <td>3</td>\n",
              "      <td>1</td>\n",
              "      <td>2</td>\n",
              "      <td>1</td>\n",
              "      <td>1</td>\n",
              "      <td>4.0</td>\n",
              "      <td>3</td>\n",
              "      <td>56</td>\n",
              "      <td>1</td>\n",
              "      <td>3</td>\n",
              "      <td>8.0</td>\n",
              "      <td>2</td>\n",
              "      <td>1.0</td>\n",
              "      <td>3</td>\n",
              "      <td>-1.8176</td>\n",
              "      <td>-0.4537</td>\n",
              "      <td>2.0</td>\n",
              "      <td>3</td>\n",
              "      <td>7</td>\n",
              "      <td>3</td>\n",
              "    </tr>\n",
              "    <tr>\n",
              "      <th>4</th>\n",
              "      <td>0</td>\n",
              "      <td>31.0</td>\n",
              "      <td>1</td>\n",
              "      <td>0</td>\n",
              "      <td>3</td>\n",
              "      <td>3</td>\n",
              "      <td>2</td>\n",
              "      <td>5.0</td>\n",
              "      <td>4</td>\n",
              "      <td>62</td>\n",
              "      <td>1</td>\n",
              "      <td>3</td>\n",
              "      <td>2.0</td>\n",
              "      <td>3</td>\n",
              "      <td>3.0</td>\n",
              "      <td>1</td>\n",
              "      <td>0.7516</td>\n",
              "      <td>-0.4537</td>\n",
              "      <td>2.0</td>\n",
              "      <td>2</td>\n",
              "      <td>8</td>\n",
              "      <td>2</td>\n",
              "    </tr>\n",
              "    <tr>\n",
              "      <th>...</th>\n",
              "      <td>...</td>\n",
              "      <td>...</td>\n",
              "      <td>...</td>\n",
              "      <td>...</td>\n",
              "      <td>...</td>\n",
              "      <td>...</td>\n",
              "      <td>...</td>\n",
              "      <td>...</td>\n",
              "      <td>...</td>\n",
              "      <td>...</td>\n",
              "      <td>...</td>\n",
              "      <td>...</td>\n",
              "      <td>...</td>\n",
              "      <td>...</td>\n",
              "      <td>...</td>\n",
              "      <td>...</td>\n",
              "      <td>...</td>\n",
              "      <td>...</td>\n",
              "      <td>...</td>\n",
              "      <td>...</td>\n",
              "      <td>...</td>\n",
              "      <td>...</td>\n",
              "    </tr>\n",
              "    <tr>\n",
              "      <th>6995</th>\n",
              "      <td>0</td>\n",
              "      <td>23.0</td>\n",
              "      <td>5</td>\n",
              "      <td>0</td>\n",
              "      <td>1</td>\n",
              "      <td>5</td>\n",
              "      <td>1</td>\n",
              "      <td>4.0</td>\n",
              "      <td>1</td>\n",
              "      <td>20</td>\n",
              "      <td>1</td>\n",
              "      <td>2</td>\n",
              "      <td>6.0</td>\n",
              "      <td>3</td>\n",
              "      <td>3.0</td>\n",
              "      <td>1</td>\n",
              "      <td>0.7516</td>\n",
              "      <td>-0.4537</td>\n",
              "      <td>2.0</td>\n",
              "      <td>3</td>\n",
              "      <td>7</td>\n",
              "      <td>3</td>\n",
              "    </tr>\n",
              "    <tr>\n",
              "      <th>6996</th>\n",
              "      <td>0</td>\n",
              "      <td>44.0</td>\n",
              "      <td>1</td>\n",
              "      <td>0</td>\n",
              "      <td>2</td>\n",
              "      <td>9</td>\n",
              "      <td>0</td>\n",
              "      <td>16.0</td>\n",
              "      <td>2</td>\n",
              "      <td>59</td>\n",
              "      <td>0</td>\n",
              "      <td>2</td>\n",
              "      <td>4.0</td>\n",
              "      <td>3</td>\n",
              "      <td>3.0</td>\n",
              "      <td>2</td>\n",
              "      <td>-0.1048</td>\n",
              "      <td>-2.7762</td>\n",
              "      <td>2.0</td>\n",
              "      <td>4</td>\n",
              "      <td>8</td>\n",
              "      <td>4</td>\n",
              "    </tr>\n",
              "    <tr>\n",
              "      <th>6997</th>\n",
              "      <td>0</td>\n",
              "      <td>49.0</td>\n",
              "      <td>3</td>\n",
              "      <td>1</td>\n",
              "      <td>3</td>\n",
              "      <td>2</td>\n",
              "      <td>3</td>\n",
              "      <td>10.0</td>\n",
              "      <td>1</td>\n",
              "      <td>59</td>\n",
              "      <td>1</td>\n",
              "      <td>2</td>\n",
              "      <td>3.0</td>\n",
              "      <td>2</td>\n",
              "      <td>4.0</td>\n",
              "      <td>2</td>\n",
              "      <td>-0.1048</td>\n",
              "      <td>-0.4537</td>\n",
              "      <td>2.0</td>\n",
              "      <td>4</td>\n",
              "      <td>8</td>\n",
              "      <td>3</td>\n",
              "    </tr>\n",
              "    <tr>\n",
              "      <th>6998</th>\n",
              "      <td>0</td>\n",
              "      <td>47.0</td>\n",
              "      <td>3</td>\n",
              "      <td>0</td>\n",
              "      <td>4</td>\n",
              "      <td>10</td>\n",
              "      <td>1</td>\n",
              "      <td>24.0</td>\n",
              "      <td>1</td>\n",
              "      <td>21</td>\n",
              "      <td>1</td>\n",
              "      <td>5</td>\n",
              "      <td>8.0</td>\n",
              "      <td>0</td>\n",
              "      <td>2.0</td>\n",
              "      <td>4</td>\n",
              "      <td>0.7516</td>\n",
              "      <td>1.8688</td>\n",
              "      <td>2.0</td>\n",
              "      <td>3</td>\n",
              "      <td>6</td>\n",
              "      <td>3</td>\n",
              "    </tr>\n",
              "    <tr>\n",
              "      <th>6999</th>\n",
              "      <td>0</td>\n",
              "      <td>58.0</td>\n",
              "      <td>3</td>\n",
              "      <td>0</td>\n",
              "      <td>1</td>\n",
              "      <td>2</td>\n",
              "      <td>3</td>\n",
              "      <td>22.0</td>\n",
              "      <td>2</td>\n",
              "      <td>74</td>\n",
              "      <td>0</td>\n",
              "      <td>4</td>\n",
              "      <td>5.0</td>\n",
              "      <td>2</td>\n",
              "      <td>3.0</td>\n",
              "      <td>3</td>\n",
              "      <td>-0.1048</td>\n",
              "      <td>-1.6150</td>\n",
              "      <td>3.0</td>\n",
              "      <td>4</td>\n",
              "      <td>5</td>\n",
              "      <td>3</td>\n",
              "    </tr>\n",
              "  </tbody>\n",
              "</table>\n",
              "<p>7000 rows × 22 columns</p>\n",
              "</div>"
            ],
            "text/plain": [
              "      Gender   Age  Education_Level  ...  VAR5  VAR6  VAR7\n",
              "0          0  42.0                4  ...     4     5     3\n",
              "1          1  24.0                3  ...     3     5     3\n",
              "2          0  58.0                3  ...     3     8     3\n",
              "3          0  26.0                3  ...     3     7     3\n",
              "4          0  31.0                1  ...     2     8     2\n",
              "...      ...   ...              ...  ...   ...   ...   ...\n",
              "6995       0  23.0                5  ...     3     7     3\n",
              "6996       0  44.0                1  ...     4     8     4\n",
              "6997       0  49.0                3  ...     4     8     3\n",
              "6998       0  47.0                3  ...     3     6     3\n",
              "6999       0  58.0                3  ...     4     5     3\n",
              "\n",
              "[7000 rows x 22 columns]"
            ]
          },
          "metadata": {
            "tags": []
          },
          "execution_count": 97
        }
      ]
    },
    {
      "cell_type": "code",
      "metadata": {
        "id": "6PjHi0vdF63Y",
        "colab": {
          "base_uri": "https://localhost:8080/",
          "height": 221
        },
        "outputId": "86c51c91-26f3-40a1-c68a-527e79accd77"
      },
      "source": [
        "y"
      ],
      "execution_count": null,
      "outputs": [
        {
          "output_type": "execute_result",
          "data": {
            "text/plain": [
              "0       0.1841\n",
              "1       0.0670\n",
              "2       0.0851\n",
              "3       0.0668\n",
              "4       0.1827\n",
              "         ...  \n",
              "6995    0.7839\n",
              "6996    0.1055\n",
              "6997    0.7847\n",
              "6998    0.4162\n",
              "6999    0.0910\n",
              "Name: Attrition_rate, Length: 7000, dtype: float64"
            ]
          },
          "metadata": {
            "tags": []
          },
          "execution_count": 98
        }
      ]
    },
    {
      "cell_type": "code",
      "metadata": {
        "id": "XebeJxEEF69c"
      },
      "source": [
        ""
      ],
      "execution_count": null,
      "outputs": []
    },
    {
      "cell_type": "code",
      "metadata": {
        "id": "04H13IhgGBoR",
        "colab": {
          "base_uri": "https://localhost:8080/",
          "height": 1000
        },
        "outputId": "98b911a9-1912-4aa0-c21b-4b66ed9cfa57"
      },
      "source": [
        "## Correlation\n",
        "import seaborn as sns\n",
        "import matplotlib.pyplot as plt\n",
        "#get correlations of each features in dataset\n",
        "corrmat = train.corr()\n",
        "top_corr_features = corrmat.index\n",
        "plt.figure(figsize=(20,20))\n",
        "#plot heat map\n",
        "g=sns.heatmap(train[top_corr_features].corr(),annot=True,cmap=\"RdYlGn\")"
      ],
      "execution_count": null,
      "outputs": [
        {
          "output_type": "display_data",
          "data": {
            "image/png": "[encoded data removed]",
            "text/plain": [
              "<Figure size 1440x1440 with 2 Axes>"
            ]
          },
          "metadata": {
            "tags": [],
            "needs_background": "light"
          }
        }
      ]
    },
    {
      "cell_type": "code",
      "metadata": {
        "id": "9uLQhHRyGBrx"
      },
      "source": [
        ""
      ],
      "execution_count": null,
      "outputs": []
    },
    {
      "cell_type": "code",
      "metadata": {
        "id": "xRBuyhE8HecT"
      },
      "source": [
        ""
      ],
      "execution_count": null,
      "outputs": []
    },
    {
      "cell_type": "code",
      "metadata": {
        "id": "Xt0lfs3_NfJq"
      },
      "source": [
        "from sklearn.preprocessing import StandardScaler\n",
        "sc = StandardScaler()\n",
        "X_ss = sc.fit_transform(X)\n",
        "test_ss = sc.fit_transform(test)"
      ],
      "execution_count": null,
      "outputs": []
    },
    {
      "cell_type": "code",
      "metadata": {
        "id": "sMCcLF-oyR6W"
      },
      "source": [
        ""
      ],
      "execution_count": null,
      "outputs": []
    },
    {
      "cell_type": "code",
      "metadata": {
        "id": "AJnQbOS-yR1q"
      },
      "source": [
        ""
      ],
      "execution_count": null,
      "outputs": []
    },
    {
      "cell_type": "code",
      "metadata": {
        "id": "e7f8fKPIyRvJ"
      },
      "source": [
        ""
      ],
      "execution_count": null,
      "outputs": []
    },
    {
      "cell_type": "code",
      "metadata": {
        "id": "s9zTa0uqNfGO"
      },
      "source": [
        "from sklearn.metrics import mean_squared_error"
      ],
      "execution_count": null,
      "outputs": []
    },
    {
      "cell_type": "code",
      "metadata": {
        "id": "YIDSPkIQHege"
      },
      "source": [
        "import xgboost\n",
        "regressor=xgboost.XGBRegressor()"
      ],
      "execution_count": null,
      "outputs": []
    },
    {
      "cell_type": "code",
      "metadata": {
        "id": "CeKTfKvcHeY6"
      },
      "source": [
        "\n",
        "booster=['gbtree','gblinear']\n",
        "base_score=[0.25,0.5,0.75,1]"
      ],
      "execution_count": null,
      "outputs": []
    },
    {
      "cell_type": "code",
      "metadata": {
        "id": "zlLDGKRkGCEC"
      },
      "source": [
        "\n",
        "## Hyper Parameter Optimization\n",
        "\n",
        "\n",
        "n_estimators = [100,200,300,400,500,600, 700,800, 900,1000, 1100,1200, 1300,1400,1500]\n",
        "max_depth = [2, 3,4, 5, 6,7, 8,9, 10,11,12,13,14, 15]\n",
        "booster=['gbtree','gblinear']\n",
        "learning_rate=[0.05,0.1,0.15,0.20,0.30, 0.40]\n",
        "min_child_weight=[1,2,3,4,5]\n",
        "\n",
        "# Define the grid of hyperparameters to search\n",
        "hyperparameter_grid = {\n",
        "    'n_estimators': n_estimators,\n",
        "    'max_depth':max_depth,\n",
        "    'learning_rate':learning_rate,\n",
        "    'min_child_weight':min_child_weight,\n",
        "    'booster':booster,\n",
        "    'base_score':base_score\n",
        "    }"
      ],
      "execution_count": null,
      "outputs": []
    },
    {
      "cell_type": "code",
      "metadata": {
        "id": "729b9B5_HiVX"
      },
      "source": [
        "from sklearn.model_selection import RandomizedSearchCV\n",
        "# Set up the random search with 4-fold cross validation\n",
        "random_cv = RandomizedSearchCV(estimator=regressor,\n",
        "            param_distributions=hyperparameter_grid,\n",
        "            cv=5, n_iter=50,\n",
        "            scoring = 'neg_mean_absolute_error',n_jobs = 6,\n",
        "            verbose = 5, \n",
        "            return_train_score = True,\n",
        "            random_state=42)"
      ],
      "execution_count": null,
      "outputs": []
    },
    {
      "cell_type": "code",
      "metadata": {
        "id": "pT5HywrmHmHQ",
        "colab": {
          "base_uri": "https://localhost:8080/",
          "height": 561
        },
        "outputId": "7d3cbc2b-36bb-4390-d52f-c8aad33870ee"
      },
      "source": [
        "random_cv.fit(bf,y)"
      ],
      "execution_count": null,
      "outputs": [
        {
          "output_type": "stream",
          "text": [
            "Fitting 5 folds for each of 50 candidates, totalling 250 fits\n"
          ],
          "name": "stdout"
        },
        {
          "output_type": "stream",
          "text": [
            "[Parallel(n_jobs=6)]: Using backend LokyBackend with 6 concurrent workers.\n",
            "[Parallel(n_jobs=6)]: Done   6 tasks      | elapsed:    9.9s\n",
            "[Parallel(n_jobs=6)]: Done  60 tasks      | elapsed:   40.1s\n",
            "[Parallel(n_jobs=6)]: Done 150 tasks      | elapsed:  1.8min\n",
            "[Parallel(n_jobs=6)]: Done 250 out of 250 | elapsed:  2.8min finished\n"
          ],
          "name": "stderr"
        },
        {
          "output_type": "stream",
          "text": [
            "[05:03:31] WARNING: /workspace/src/objective/regression_obj.cu:152: reg:linear is now deprecated in favor of reg:squarederror.\n"
          ],
          "name": "stdout"
        },
        {
          "output_type": "execute_result",
          "data": {
            "text/plain": [
              "RandomizedSearchCV(cv=5, error_score=nan,\n",
              "                   estimator=XGBRegressor(base_score=0.5, booster='gbtree',\n",
              "                                          colsample_bylevel=1,\n",
              "                                          colsample_bynode=1,\n",
              "                                          colsample_bytree=1, gamma=0,\n",
              "                                          importance_type='gain',\n",
              "                                          learning_rate=0.1, max_delta_step=0,\n",
              "                                          max_depth=3, min_child_weight=1,\n",
              "                                          missing=None, n_estimators=100,\n",
              "                                          n_jobs=1, nthread=None,\n",
              "                                          objective='reg:linear',\n",
              "                                          random_state=0, reg_alpha=...\n",
              "                                        'booster': ['gbtree', 'gblinear'],\n",
              "                                        'learning_rate': [0.05, 0.1, 0.15, 0.2,\n",
              "                                                          0.3, 0.4],\n",
              "                                        'max_depth': [2, 3, 4, 5, 6, 7, 8, 9,\n",
              "                                                      10, 11, 12, 13, 14, 15],\n",
              "                                        'min_child_weight': [1, 2, 3, 4, 5],\n",
              "                                        'n_estimators': [100, 200, 300, 400,\n",
              "                                                         500, 600, 700, 800,\n",
              "                                                         900, 1000, 1100, 1200,\n",
              "                                                         1300, 1400, 1500]},\n",
              "                   pre_dispatch='2*n_jobs', random_state=42, refit=True,\n",
              "                   return_train_score=True, scoring='neg_mean_absolute_error',\n",
              "                   verbose=5)"
            ]
          },
          "metadata": {
            "tags": []
          },
          "execution_count": 170
        }
      ]
    },
    {
      "cell_type": "code",
      "metadata": {
        "id": "SKnhQqc4HyjR",
        "colab": {
          "base_uri": "https://localhost:8080/",
          "height": 136
        },
        "outputId": "f6cd4ae5-7583-42d5-a282-567224939ce5"
      },
      "source": [
        "random_cv.best_estimator_"
      ],
      "execution_count": null,
      "outputs": [
        {
          "output_type": "execute_result",
          "data": {
            "text/plain": [
              "XGBRegressor(base_score=0.25, booster='gblinear', colsample_bylevel=1,\n",
              "             colsample_bynode=1, colsample_bytree=1, gamma=0,\n",
              "             importance_type='gain', learning_rate=0.3, max_delta_step=0,\n",
              "             max_depth=12, min_child_weight=3, missing=None, n_estimators=500,\n",
              "             n_jobs=1, nthread=None, objective='reg:linear', random_state=0,\n",
              "             reg_alpha=0, reg_lambda=1, scale_pos_weight=1, seed=None,\n",
              "             silent=None, subsample=1, verbosity=1)"
            ]
          },
          "metadata": {
            "tags": []
          },
          "execution_count": 171
        }
      ]
    },
    {
      "cell_type": "code",
      "metadata": {
        "id": "Fb-yGpOrH2A9"
      },
      "source": [
        "regressor=xgboost.XGBRegressor(base_score=0.25, booster='gblinear', colsample_bylevel=1,\n",
        "             colsample_bynode=1, colsample_bytree=1, gamma=0,\n",
        "             importance_type='gain', learning_rate=0.3, max_delta_step=0,\n",
        "             max_depth=12, min_child_weight=3, missing=None, n_estimators=500,\n",
        "             n_jobs=1, nthread=None, objective='reg:linear', random_state=0,\n",
        "             reg_alpha=0, reg_lambda=1, scale_pos_weight=1, seed=None,\n",
        "             silent=None, subsample=1, verbosity=1)"
      ],
      "execution_count": null,
      "outputs": []
    },
    {
      "cell_type": "code",
      "metadata": {
        "id": "DjtWKUatH8o7",
        "colab": {
          "base_uri": "https://localhost:8080/",
          "height": 153
        },
        "outputId": "b9e535e7-9141-433d-8788-a7552e012958"
      },
      "source": [
        "regressor.fit(bf,y)"
      ],
      "execution_count": null,
      "outputs": [
        {
          "output_type": "stream",
          "text": [
            "[05:05:41] WARNING: /workspace/src/objective/regression_obj.cu:152: reg:linear is now deprecated in favor of reg:squarederror.\n"
          ],
          "name": "stdout"
        },
        {
          "output_type": "execute_result",
          "data": {
            "text/plain": [
              "XGBRegressor(base_score=0.25, booster='gblinear', colsample_bylevel=1,\n",
              "             colsample_bynode=1, colsample_bytree=1, gamma=0,\n",
              "             importance_type='gain', learning_rate=0.3, max_delta_step=0,\n",
              "             max_depth=12, min_child_weight=3, missing=None, n_estimators=500,\n",
              "             n_jobs=1, nthread=None, objective='reg:linear', random_state=0,\n",
              "             reg_alpha=0, reg_lambda=1, scale_pos_weight=1, seed=None,\n",
              "             silent=None, subsample=1, verbosity=1)"
            ]
          },
          "metadata": {
            "tags": []
          },
          "execution_count": 173
        }
      ]
    },
    {
      "cell_type": "code",
      "metadata": {
        "id": "OyDpyP7GNLT-",
        "colab": {
          "base_uri": "https://localhost:8080/",
          "height": 51
        },
        "outputId": "c7beee3b-653c-475f-c0fc-d452b349c984"
      },
      "source": [
        "preds_tr = regressor.predict(bf)\n",
        "rmse = np.sqrt(mean_squared_error(y, preds_tr))\n",
        "print(\"RMSE: %f\" % (rmse))\n",
        "score = 100*max(0,1-rmse)\n",
        "score"
      ],
      "execution_count": null,
      "outputs": [
        {
          "output_type": "stream",
          "text": [
            "RMSE: 0.185624\n"
          ],
          "name": "stdout"
        },
        {
          "output_type": "execute_result",
          "data": {
            "text/plain": [
              "81.43762213272372"
            ]
          },
          "metadata": {
            "tags": []
          },
          "execution_count": 174
        }
      ]
    },
    {
      "cell_type": "code",
      "metadata": {
        "id": "jylT8y0XNRUj"
      },
      "source": [
        "xgb_preds = regressor.predict(tf)"
      ],
      "execution_count": null,
      "outputs": []
    },
    {
      "cell_type": "code",
      "metadata": {
        "id": "YbK8KqfANwnv",
        "colab": {
          "base_uri": "https://localhost:8080/",
          "height": 51
        },
        "outputId": "0b5446d4-aeef-486d-a998-7309f6e5596a"
      },
      "source": [
        "xgb_preds"
      ],
      "execution_count": null,
      "outputs": [
        {
          "output_type": "execute_result",
          "data": {
            "text/plain": [
              "array([0.19439329, 0.18780997, 0.19550785, ..., 0.18468422, 0.18344086,\n",
              "       0.19113874], dtype=float32)"
            ]
          },
          "metadata": {
            "tags": []
          },
          "execution_count": 177
        }
      ]
    },
    {
      "cell_type": "code",
      "metadata": {
        "id": "IoCgXTItNyTA",
        "colab": {
          "base_uri": "https://localhost:8080/",
          "height": 204
        },
        "outputId": "a117274a-2038-47c3-e27e-ef29fa80148e"
      },
      "source": [
        "sam = pd.DataFrame()\n",
        "sam['Employee_ID'] = ids\n",
        "sam['Attrition_rate'] = xgb_preds\n",
        "sam.head()"
      ],
      "execution_count": null,
      "outputs": [
        {
          "output_type": "execute_result",
          "data": {
            "text/html": [
              "<div>\n",
              "<style scoped>\n",
              "    .dataframe tbody tr th:only-of-type {\n",
              "        vertical-align: middle;\n",
              "    }\n",
              "\n",
              "    .dataframe tbody tr th {\n",
              "        vertical-align: top;\n",
              "    }\n",
              "\n",
              "    .dataframe thead th {\n",
              "        text-align: right;\n",
              "    }\n",
              "</style>\n",
              "<table border=\"1\" class=\"dataframe\">\n",
              "  <thead>\n",
              "    <tr style=\"text-align: right;\">\n",
              "      <th></th>\n",
              "      <th>Employee_ID</th>\n",
              "      <th>Attrition_rate</th>\n",
              "    </tr>\n",
              "  </thead>\n",
              "  <tbody>\n",
              "    <tr>\n",
              "      <th>0</th>\n",
              "      <td>EID_22713</td>\n",
              "      <td>0.194393</td>\n",
              "    </tr>\n",
              "    <tr>\n",
              "      <th>1</th>\n",
              "      <td>EID_9658</td>\n",
              "      <td>0.187810</td>\n",
              "    </tr>\n",
              "    <tr>\n",
              "      <th>2</th>\n",
              "      <td>EID_22203</td>\n",
              "      <td>0.195508</td>\n",
              "    </tr>\n",
              "    <tr>\n",
              "      <th>3</th>\n",
              "      <td>EID_7652</td>\n",
              "      <td>0.194795</td>\n",
              "    </tr>\n",
              "    <tr>\n",
              "      <th>4</th>\n",
              "      <td>EID_6516</td>\n",
              "      <td>0.194393</td>\n",
              "    </tr>\n",
              "  </tbody>\n",
              "</table>\n",
              "</div>"
            ],
            "text/plain": [
              "  Employee_ID  Attrition_rate\n",
              "0   EID_22713        0.194393\n",
              "1    EID_9658        0.187810\n",
              "2   EID_22203        0.195508\n",
              "3    EID_7652        0.194795\n",
              "4    EID_6516        0.194393"
            ]
          },
          "metadata": {
            "tags": []
          },
          "execution_count": 178
        }
      ]
    },
    {
      "cell_type": "code",
      "metadata": {
        "id": "VTCwl-kLOAae"
      },
      "source": [
        "sam.to_csv(\"hck_xgbht_bf_1.csv\", index=False)"
      ],
      "execution_count": null,
      "outputs": []
    },
    {
      "cell_type": "code",
      "metadata": {
        "id": "gTMqguFPOHzn",
        "colab": {
          "base_uri": "https://localhost:8080/",
          "height": 34
        },
        "outputId": "4b5be3ca-3a12-4aaa-c833-c73c6db6b4b9"
      },
      "source": [
        "joblib.dump(regressor,'xgb_model3')"
      ],
      "execution_count": null,
      "outputs": [
        {
          "output_type": "execute_result",
          "data": {
            "text/plain": [
              "['xgb_model3']"
            ]
          },
          "metadata": {
            "tags": []
          },
          "execution_count": 134
        }
      ]
    },
    {
      "cell_type": "code",
      "metadata": {
        "id": "YVbpMxcg_fY6",
        "colab": {
          "base_uri": "https://localhost:8080/",
          "height": 34
        },
        "outputId": "ff4c3186-c57a-4a3d-ec23-ad66cb34aaa4"
      },
      "source": [
        "xm = joblib.load('xgb_model3')"
      ],
      "execution_count": null,
      "outputs": [
        {
          "output_type": "stream",
          "text": [
            "[03:58:58] WARNING: /workspace/src/objective/regression_obj.cu:152: reg:linear is now deprecated in favor of reg:squarederror.\n"
          ],
          "name": "stdout"
        }
      ]
    },
    {
      "cell_type": "code",
      "metadata": {
        "id": "Z5fiR1Zl_fOi",
        "colab": {
          "base_uri": "https://localhost:8080/",
          "height": 153
        },
        "outputId": "8dd18de7-8dd4-4c3c-f8aa-485ee248cda1"
      },
      "source": [
        "xm.fit(X_new,y_new)"
      ],
      "execution_count": null,
      "outputs": [
        {
          "output_type": "stream",
          "text": [
            "[03:59:19] WARNING: /workspace/src/objective/regression_obj.cu:152: reg:linear is now deprecated in favor of reg:squarederror.\n"
          ],
          "name": "stdout"
        },
        {
          "output_type": "execute_result",
          "data": {
            "text/plain": [
              "XGBRegressor(base_score=0.25, booster='gblinear', colsample_bylevel=1,\n",
              "             colsample_bynode=1, colsample_bytree=1, gamma=0,\n",
              "             importance_type='gain', learning_rate=0.3, max_delta_step=0,\n",
              "             max_depth=12, min_child_weight=3, missing=nan, n_estimators=500,\n",
              "             n_jobs=1, nthread=None, objective='reg:linear', random_state=0,\n",
              "             reg_alpha=0, reg_lambda=1, scale_pos_weight=1, seed=None,\n",
              "             silent=None, subsample=1, verbosity=1)"
            ]
          },
          "metadata": {
            "tags": []
          },
          "execution_count": 136
        }
      ]
    },
    {
      "cell_type": "code",
      "metadata": {
        "id": "5f74PSXz_fCs",
        "colab": {
          "base_uri": "https://localhost:8080/",
          "height": 51
        },
        "outputId": "f7b0f3ef-a963-4f6d-f8d4-e0c2b5015911"
      },
      "source": [
        "preds_tr = xm.predict(X_new)\n",
        "rmse = np.sqrt(mean_squared_error(y_new, preds_tr))\n",
        "print(\"RMSE: %f\" % (rmse))\n",
        "score = 100*max(0,1-rmse)\n",
        "score"
      ],
      "execution_count": null,
      "outputs": [
        {
          "output_type": "stream",
          "text": [
            "RMSE: 0.155137\n"
          ],
          "name": "stdout"
        },
        {
          "output_type": "execute_result",
          "data": {
            "text/plain": [
              "84.4863024691464"
            ]
          },
          "metadata": {
            "tags": []
          },
          "execution_count": 137
        }
      ]
    },
    {
      "cell_type": "code",
      "metadata": {
        "id": "3lv6YMugFGSI"
      },
      "source": [
        "preds = xm.predict(test)\n"
      ],
      "execution_count": null,
      "outputs": []
    },
    {
      "cell_type": "code",
      "metadata": {
        "id": "tS0PrqgnFGhv",
        "colab": {
          "base_uri": "https://localhost:8080/",
          "height": 51
        },
        "outputId": "44043765-ecc0-42fd-9f4e-d1a04a44d11b"
      },
      "source": [
        "preds"
      ],
      "execution_count": null,
      "outputs": [
        {
          "output_type": "execute_result",
          "data": {
            "text/plain": [
              "array([0.19873305, 0.19114658, 0.18633349, ..., 0.17737097, 0.17440066,\n",
              "       0.19384804], dtype=float32)"
            ]
          },
          "metadata": {
            "tags": []
          },
          "execution_count": 141
        }
      ]
    },
    {
      "cell_type": "code",
      "metadata": {
        "id": "j9LLAEG9FGvL",
        "colab": {
          "base_uri": "https://localhost:8080/",
          "height": 204
        },
        "outputId": "27a30113-4f0a-4a05-884c-01fd706741b4"
      },
      "source": [
        "sam = pd.DataFrame()\n",
        "sam['Employee_ID'] = ids\n",
        "sam['Attrition_rate'] = preds\n",
        "sam.head()"
      ],
      "execution_count": null,
      "outputs": [
        {
          "output_type": "execute_result",
          "data": {
            "text/html": [
              "<div>\n",
              "<style scoped>\n",
              "    .dataframe tbody tr th:only-of-type {\n",
              "        vertical-align: middle;\n",
              "    }\n",
              "\n",
              "    .dataframe tbody tr th {\n",
              "        vertical-align: top;\n",
              "    }\n",
              "\n",
              "    .dataframe thead th {\n",
              "        text-align: right;\n",
              "    }\n",
              "</style>\n",
              "<table border=\"1\" class=\"dataframe\">\n",
              "  <thead>\n",
              "    <tr style=\"text-align: right;\">\n",
              "      <th></th>\n",
              "      <th>Employee_ID</th>\n",
              "      <th>Attrition_rate</th>\n",
              "    </tr>\n",
              "  </thead>\n",
              "  <tbody>\n",
              "    <tr>\n",
              "      <th>0</th>\n",
              "      <td>EID_22713</td>\n",
              "      <td>0.198733</td>\n",
              "    </tr>\n",
              "    <tr>\n",
              "      <th>1</th>\n",
              "      <td>EID_9658</td>\n",
              "      <td>0.191147</td>\n",
              "    </tr>\n",
              "    <tr>\n",
              "      <th>2</th>\n",
              "      <td>EID_22203</td>\n",
              "      <td>0.186333</td>\n",
              "    </tr>\n",
              "    <tr>\n",
              "      <th>3</th>\n",
              "      <td>EID_7652</td>\n",
              "      <td>0.195286</td>\n",
              "    </tr>\n",
              "    <tr>\n",
              "      <th>4</th>\n",
              "      <td>EID_6516</td>\n",
              "      <td>0.197741</td>\n",
              "    </tr>\n",
              "  </tbody>\n",
              "</table>\n",
              "</div>"
            ],
            "text/plain": [
              "  Employee_ID  Attrition_rate\n",
              "0   EID_22713        0.198733\n",
              "1    EID_9658        0.191147\n",
              "2   EID_22203        0.186333\n",
              "3    EID_7652        0.195286\n",
              "4    EID_6516        0.197741"
            ]
          },
          "metadata": {
            "tags": []
          },
          "execution_count": 142
        }
      ]
    },
    {
      "cell_type": "code",
      "metadata": {
        "id": "6LIrJGAmFG_i"
      },
      "source": [
        "sam.to_csv(\"hck_xgbht_21.csv\", index=False)"
      ],
      "execution_count": null,
      "outputs": []
    },
    {
      "cell_type": "code",
      "metadata": {
        "id": "68lP5z_8RSKM",
        "colab": {
          "base_uri": "https://localhost:8080/",
          "height": 34
        },
        "outputId": "c7b5da10-af3a-43da-9276-b98b60bfe69c"
      },
      "source": [
        "X.shape, y.shape"
      ],
      "execution_count": null,
      "outputs": [
        {
          "output_type": "execute_result",
          "data": {
            "text/plain": [
              "((7000, 22), (7000,))"
            ]
          },
          "metadata": {
            "tags": []
          },
          "execution_count": 164
        }
      ]
    },
    {
      "cell_type": "code",
      "metadata": {
        "id": "d7yOFw3mRR-l"
      },
      "source": [
        "bf = pd.DataFrame(X[['Gender','Unit','Compensation_and_Benefits']])"
      ],
      "execution_count": null,
      "outputs": []
    },
    {
      "cell_type": "code",
      "metadata": {
        "id": "0AuUEx4LSfUk"
      },
      "source": [
        "tf = pd.DataFrame(test[['Gender','Unit','Compensation_and_Benefits']])"
      ],
      "execution_count": null,
      "outputs": []
    },
    {
      "cell_type": "code",
      "metadata": {
        "id": "eLmpGnGLSfH0"
      },
      "source": [
        ""
      ],
      "execution_count": null,
      "outputs": []
    },
    {
      "cell_type": "code",
      "metadata": {
        "id": "xAVmUPVXRRyD"
      },
      "source": [
        ""
      ],
      "execution_count": null,
      "outputs": []
    },
    {
      "cell_type": "code",
      "metadata": {
        "id": "bU-dlZZK_e1W"
      },
      "source": [
        "xgb_preds = pd.DataFrame(preds)\n",
        "\n",
        "fms = [y,xgb_preds]\n",
        "y_new = pd.concat(fms)"
      ],
      "execution_count": null,
      "outputs": []
    },
    {
      "cell_type": "code",
      "metadata": {
        "id": "Fin6siTmHKST"
      },
      "source": [
        "import statsmodels.api as sm"
      ],
      "execution_count": null,
      "outputs": []
    },
    {
      "cell_type": "code",
      "metadata": {
        "id": "5tE4wJnpPenH"
      },
      "source": [
        "def forward_selection(data, target, significance_level=0.05):\n",
        "    initial_features = data.columns.tolist()\n",
        "    best_features = []\n",
        "    while (len(initial_features)>0):\n",
        "        remaining_features = list(set(initial_features)-set(best_features))\n",
        "        new_pval = pd.Series(index=remaining_features)\n",
        "        for new_column in remaining_features:\n",
        "            model = sm.OLS(target, sm.add_constant(data[best_features+[new_column]])).fit()\n",
        "            new_pval[new_column] = model.pvalues[new_column]\n",
        "        min_p_value = new_pval.min()\n",
        "        if(min_p_value<significance_level):\n",
        "            best_features.append(new_pval.idxmin())\n",
        "        else:\n",
        "            break\n",
        "    return best_features"
      ],
      "execution_count": null,
      "outputs": []
    },
    {
      "cell_type": "code",
      "metadata": {
        "id": "CELwLd1WPftk",
        "colab": {
          "base_uri": "https://localhost:8080/",
          "height": 88
        },
        "outputId": "81a42f9d-f344-4345-9044-36f46fe7b427"
      },
      "source": [
        "forward_selection(X,y)"
      ],
      "execution_count": null,
      "outputs": [
        {
          "output_type": "stream",
          "text": [
            "/usr/local/lib/python3.6/dist-packages/ipykernel_launcher.py:6: DeprecationWarning: The default dtype for empty Series will be 'object' instead of 'float64' in a future version. Specify a dtype explicitly to silence this warning.\n",
            "  \n"
          ],
          "name": "stderr"
        },
        {
          "output_type": "execute_result",
          "data": {
            "text/plain": [
              "['Gender', 'Compensation_and_Benefits', 'Unit']"
            ]
          },
          "metadata": {
            "tags": []
          },
          "execution_count": 156
        }
      ]
    },
    {
      "cell_type": "code",
      "metadata": {
        "id": "lMMpBePPPfiV",
        "colab": {
          "base_uri": "https://localhost:8080/",
          "height": 34
        },
        "outputId": "c34d87b7-2fd9-4790-da0c-30912f6a83ab"
      },
      "source": [
        "X.shape,y.shape"
      ],
      "execution_count": null,
      "outputs": [
        {
          "output_type": "execute_result",
          "data": {
            "text/plain": [
              "((7000, 22), (7000,))"
            ]
          },
          "metadata": {
            "tags": []
          },
          "execution_count": 149
        }
      ]
    },
    {
      "cell_type": "code",
      "metadata": {
        "id": "xgHh_naCPfXU"
      },
      "source": [
        ""
      ],
      "execution_count": null,
      "outputs": []
    },
    {
      "cell_type": "code",
      "metadata": {
        "id": "CbkS_PWmPfMZ"
      },
      "source": [
        ""
      ],
      "execution_count": null,
      "outputs": []
    },
    {
      "cell_type": "code",
      "metadata": {
        "id": "bXJ86RiOPfBT"
      },
      "source": [
        "def backward_elimination(data, target,significance_level = 0.05):\n",
        "    features = data.columns.tolist()\n",
        "    while(len(features)>0):\n",
        "        features_with_constant = sm.add_constant(data[features])\n",
        "        p_values = sm.OLS(target, features_with_constant).fit().pvalues[1:]\n",
        "        max_p_value = p_values.max()\n",
        "        if(max_p_value >= significance_level):\n",
        "            excluded_feature = p_values.idxmax()\n",
        "            features.remove(excluded_feature)\n",
        "        else:\n",
        "            break \n",
        "    return features"
      ],
      "execution_count": null,
      "outputs": []
    },
    {
      "cell_type": "code",
      "metadata": {
        "id": "5P0P0vaBPe1f",
        "colab": {
          "base_uri": "https://localhost:8080/",
          "height": 34
        },
        "outputId": "0fa651be-02ab-4e98-888e-3a4a82eb82e5"
      },
      "source": [
        "backward_elimination(X,y)"
      ],
      "execution_count": null,
      "outputs": [
        {
          "output_type": "execute_result",
          "data": {
            "text/plain": [
              "['Gender', 'Unit', 'Compensation_and_Benefits']"
            ]
          },
          "metadata": {
            "tags": []
          },
          "execution_count": 158
        }
      ]
    },
    {
      "cell_type": "code",
      "metadata": {
        "id": "ok1n8vY7Pebr"
      },
      "source": [
        ""
      ],
      "execution_count": null,
      "outputs": []
    },
    {
      "cell_type": "code",
      "metadata": {
        "id": "RXCjlTPWRrHk"
      },
      "source": [
        ""
      ],
      "execution_count": null,
      "outputs": []
    },
    {
      "cell_type": "code",
      "metadata": {
        "id": "gSCfoVB-Rr04"
      },
      "source": [
        "def stepwise_selection(data, target,SL_in=0.05,SL_out = 0.05):\n",
        "    initial_features = data.columns.tolist()\n",
        "    best_features = []\n",
        "    while (len(initial_features)>0):\n",
        "        remaining_features = list(set(initial_features)-set(best_features))\n",
        "        new_pval = pd.Series(index=remaining_features)\n",
        "        for new_column in remaining_features:\n",
        "            model = sm.OLS(target, sm.add_constant(data[best_features+[new_column]])).fit()\n",
        "            new_pval[new_column] = model.pvalues[new_column]\n",
        "        min_p_value = new_pval.min()\n",
        "        if(min_p_value<SL_in):\n",
        "            best_features.append(new_pval.idxmin())\n",
        "            while(len(best_features)>0):\n",
        "                best_features_with_constant = sm.add_constant(data[best_features])\n",
        "                p_values = sm.OLS(target, best_features_with_constant).fit().pvalues[1:]\n",
        "                max_p_value = p_values.max()\n",
        "                if(max_p_value >= SL_out):\n",
        "                    excluded_feature = p_values.idxmax()\n",
        "                    best_features.remove(excluded_feature)\n",
        "                else:\n",
        "                    break \n",
        "        else:\n",
        "            break\n",
        "    return best_features"
      ],
      "execution_count": null,
      "outputs": []
    },
    {
      "cell_type": "code",
      "metadata": {
        "id": "y6Bwg948Rror",
        "colab": {
          "base_uri": "https://localhost:8080/",
          "height": 88
        },
        "outputId": "59022a07-d3d2-4343-a267-5d9bab7c1539"
      },
      "source": [
        "stepwise_selection(X,y)"
      ],
      "execution_count": null,
      "outputs": [
        {
          "output_type": "stream",
          "text": [
            "/usr/local/lib/python3.6/dist-packages/ipykernel_launcher.py:6: DeprecationWarning: The default dtype for empty Series will be 'object' instead of 'float64' in a future version. Specify a dtype explicitly to silence this warning.\n",
            "  \n"
          ],
          "name": "stderr"
        },
        {
          "output_type": "execute_result",
          "data": {
            "text/plain": [
              "['Gender', 'Compensation_and_Benefits', 'Unit']"
            ]
          },
          "metadata": {
            "tags": []
          },
          "execution_count": 160
        }
      ]
    },
    {
      "cell_type": "code",
      "metadata": {
        "id": "A_pl0odhRq7y"
      },
      "source": [
        ""
      ],
      "execution_count": null,
      "outputs": []
    },
    {
      "cell_type": "code",
      "metadata": {
        "id": "kRagO3_jRqvh"
      },
      "source": [
        ""
      ],
      "execution_count": null,
      "outputs": []
    },
    {
      "cell_type": "code",
      "metadata": {
        "id": "7Lh5KUkmGdPX"
      },
      "source": [
        "frames = [X_new,test]\n",
        "X_new = pd.concat(frames)"
      ],
      "execution_count": null,
      "outputs": []
    },
    {
      "cell_type": "code",
      "metadata": {
        "id": "NdIZbKM9GdDN",
        "colab": {
          "base_uri": "https://localhost:8080/",
          "height": 34
        },
        "outputId": "3c50469a-23c0-4495-f8a1-db54f9c4e543"
      },
      "source": [
        "X_new.shape, y_new.shape"
      ],
      "execution_count": null,
      "outputs": [
        {
          "output_type": "execute_result",
          "data": {
            "text/plain": [
              "((13000, 22), (10000, 1))"
            ]
          },
          "metadata": {
            "tags": []
          },
          "execution_count": 146
        }
      ]
    },
    {
      "cell_type": "code",
      "metadata": {
        "id": "O-iuQG3qGc3R"
      },
      "source": [
        ""
      ],
      "execution_count": null,
      "outputs": []
    },
    {
      "cell_type": "code",
      "metadata": {
        "id": "U20O-GntPQSx"
      },
      "source": [
        ""
      ],
      "execution_count": null,
      "outputs": []
    },
    {
      "cell_type": "code",
      "metadata": {
        "id": "ZU8PSnPUPQgm",
        "colab": {
          "base_uri": "https://localhost:8080/",
          "height": 71
        },
        "outputId": "b52a997f-d236-4ef2-ed35-4fd954f8f416"
      },
      "source": [
        "from sklearn.externals import joblib"
      ],
      "execution_count": null,
      "outputs": [
        {
          "output_type": "stream",
          "text": [
            "/usr/local/lib/python3.6/dist-packages/sklearn/externals/joblib/__init__.py:15: FutureWarning: sklearn.externals.joblib is deprecated in 0.21 and will be removed in 0.23. Please import this functionality directly from joblib, which can be installed with: pip install joblib. If this warning is raised when loading pickled models, you may need to re-serialize those models with scikit-learn 0.21+.\n",
            "  warnings.warn(msg, category=FutureWarning)\n"
          ],
          "name": "stderr"
        }
      ]
    },
    {
      "cell_type": "code",
      "metadata": {
        "id": "BpVyIXkLPZwG",
        "colab": {
          "base_uri": "https://localhost:8080/",
          "height": 34
        },
        "outputId": "a793de4e-573e-43bd-c768-39197a1e8d62"
      },
      "source": [
        "joblib.dump(regressor,'xgb_model3')"
      ],
      "execution_count": null,
      "outputs": [
        {
          "output_type": "execute_result",
          "data": {
            "text/plain": [
              "['xgb_model3']"
            ]
          },
          "metadata": {
            "tags": []
          },
          "execution_count": 190
        }
      ]
    },
    {
      "cell_type": "code",
      "metadata": {
        "id": "qJ_MaQ9VPqzP",
        "colab": {
          "base_uri": "https://localhost:8080/",
          "height": 34
        },
        "outputId": "a1b6863a-993f-4869-90b0-c5e7d5f41b3c"
      },
      "source": [
        "xm = joblib.load('xgb_model3')"
      ],
      "execution_count": null,
      "outputs": [
        {
          "output_type": "stream",
          "text": [
            "[07:59:56] WARNING: /workspace/src/objective/regression_obj.cu:152: reg:linear is now deprecated in favor of reg:squarederror.\n"
          ],
          "name": "stdout"
        }
      ]
    },
    {
      "cell_type": "code",
      "metadata": {
        "id": "eSIqbV1Ug6BV",
        "colab": {
          "base_uri": "https://localhost:8080/",
          "height": 153
        },
        "outputId": "ba42863a-c22d-45c6-95a5-7713c05a37f6"
      },
      "source": [
        "xm.fit(X_ss,y)"
      ],
      "execution_count": null,
      "outputs": [
        {
          "output_type": "stream",
          "text": [
            "[08:00:18] WARNING: /workspace/src/objective/regression_obj.cu:152: reg:linear is now deprecated in favor of reg:squarederror.\n"
          ],
          "name": "stdout"
        },
        {
          "output_type": "execute_result",
          "data": {
            "text/plain": [
              "XGBRegressor(base_score=0.25, booster='gblinear', colsample_bylevel=1,\n",
              "             colsample_bynode=1, colsample_bytree=1, gamma=0,\n",
              "             importance_type='gain', learning_rate=0.3, max_delta_step=0,\n",
              "             max_depth=13, min_child_weight=5, missing=nan, n_estimators=1000,\n",
              "             n_jobs=1, nthread=None, objective='reg:linear', random_state=0,\n",
              "             reg_alpha=0, reg_lambda=1, scale_pos_weight=1, seed=None,\n",
              "             silent=None, subsample=1, verbosity=1)"
            ]
          },
          "metadata": {
            "tags": []
          },
          "execution_count": 219
        }
      ]
    },
    {
      "cell_type": "code",
      "metadata": {
        "id": "f-ZlMjW1g6SA",
        "colab": {
          "base_uri": "https://localhost:8080/",
          "height": 51
        },
        "outputId": "0808970a-a874-41de-8f43-11d31f7323e0"
      },
      "source": [
        "preds_tr = xm.predict(X_ss)\n",
        "rmse = np.sqrt(mean_squared_error(y, preds_tr))\n",
        "print(\"RMSE: %f\" % (rmse))\n",
        "score = 100*max(0,1-rmse)\n",
        "score"
      ],
      "execution_count": null,
      "outputs": [
        {
          "output_type": "stream",
          "text": [
            "RMSE: 0.185195\n"
          ],
          "name": "stdout"
        },
        {
          "output_type": "execute_result",
          "data": {
            "text/plain": [
              "81.48047455970308"
            ]
          },
          "metadata": {
            "tags": []
          },
          "execution_count": 220
        }
      ]
    },
    {
      "cell_type": "code",
      "metadata": {
        "id": "74Du8g5HysIT"
      },
      "source": [
        "preds = xm.predict(test_ss)"
      ],
      "execution_count": null,
      "outputs": []
    },
    {
      "cell_type": "code",
      "metadata": {
        "id": "JNmCmcFYysCz",
        "colab": {
          "base_uri": "https://localhost:8080/",
          "height": 51
        },
        "outputId": "a93a89ff-8814-4028-cb96-7dcd8f743b03"
      },
      "source": [
        "preds"
      ],
      "execution_count": null,
      "outputs": [
        {
          "output_type": "execute_result",
          "data": {
            "text/plain": [
              "array([0.20233649, 0.1932063 , 0.19028193, ..., 0.17670542, 0.1679674 ,\n",
              "       0.19267493], dtype=float32)"
            ]
          },
          "metadata": {
            "tags": []
          },
          "execution_count": 222
        }
      ]
    },
    {
      "cell_type": "code",
      "metadata": {
        "id": "MMvahiAAyr70",
        "colab": {
          "base_uri": "https://localhost:8080/",
          "height": 204
        },
        "outputId": "d431b95e-968a-4b4e-ffbf-eae6cf12148e"
      },
      "source": [
        "sam = pd.DataFrame()\n",
        "sam['Employee_ID'] = ids\n",
        "sam['Attrition_rate'] = preds\n",
        "sam.head()"
      ],
      "execution_count": null,
      "outputs": [
        {
          "output_type": "execute_result",
          "data": {
            "text/html": [
              "<div>\n",
              "<style scoped>\n",
              "    .dataframe tbody tr th:only-of-type {\n",
              "        vertical-align: middle;\n",
              "    }\n",
              "\n",
              "    .dataframe tbody tr th {\n",
              "        vertical-align: top;\n",
              "    }\n",
              "\n",
              "    .dataframe thead th {\n",
              "        text-align: right;\n",
              "    }\n",
              "</style>\n",
              "<table border=\"1\" class=\"dataframe\">\n",
              "  <thead>\n",
              "    <tr style=\"text-align: right;\">\n",
              "      <th></th>\n",
              "      <th>Employee_ID</th>\n",
              "      <th>Attrition_rate</th>\n",
              "    </tr>\n",
              "  </thead>\n",
              "  <tbody>\n",
              "    <tr>\n",
              "      <th>0</th>\n",
              "      <td>EID_22713</td>\n",
              "      <td>0.202336</td>\n",
              "    </tr>\n",
              "    <tr>\n",
              "      <th>1</th>\n",
              "      <td>EID_9658</td>\n",
              "      <td>0.193206</td>\n",
              "    </tr>\n",
              "    <tr>\n",
              "      <th>2</th>\n",
              "      <td>EID_22203</td>\n",
              "      <td>0.190282</td>\n",
              "    </tr>\n",
              "    <tr>\n",
              "      <th>3</th>\n",
              "      <td>EID_7652</td>\n",
              "      <td>0.213129</td>\n",
              "    </tr>\n",
              "    <tr>\n",
              "      <th>4</th>\n",
              "      <td>EID_6516</td>\n",
              "      <td>0.194747</td>\n",
              "    </tr>\n",
              "  </tbody>\n",
              "</table>\n",
              "</div>"
            ],
            "text/plain": [
              "  Employee_ID  Attrition_rate\n",
              "0   EID_22713        0.202336\n",
              "1    EID_9658        0.193206\n",
              "2   EID_22203        0.190282\n",
              "3    EID_7652        0.213129\n",
              "4    EID_6516        0.194747"
            ]
          },
          "metadata": {
            "tags": []
          },
          "execution_count": 223
        }
      ]
    },
    {
      "cell_type": "code",
      "metadata": {
        "id": "DVCqs23myr1Y"
      },
      "source": [
        "sam.to_csv(\"hck_ss_xgbht_1.csv\", index=False)"
      ],
      "execution_count": null,
      "outputs": []
    },
    {
      "cell_type": "code",
      "metadata": {
        "id": "fcG_WQjRyrvo"
      },
      "source": [
        ""
      ],
      "execution_count": null,
      "outputs": []
    },
    {
      "cell_type": "code",
      "metadata": {
        "id": "RGmdW1R3zMID"
      },
      "source": [
        ""
      ],
      "execution_count": null,
      "outputs": []
    },
    {
      "cell_type": "code",
      "metadata": {
        "id": "GWUpDPiWzMCq"
      },
      "source": [
        ""
      ],
      "execution_count": null,
      "outputs": []
    },
    {
      "cell_type": "code",
      "metadata": {
        "id": "dV8sK5VczL9i"
      },
      "source": [
        ""
      ],
      "execution_count": null,
      "outputs": []
    },
    {
      "cell_type": "code",
      "metadata": {
        "id": "ti1eiD-qzL4L"
      },
      "source": [
        ""
      ],
      "execution_count": null,
      "outputs": []
    },
    {
      "cell_type": "code",
      "metadata": {
        "id": "S5yloYiwg6gc"
      },
      "source": [
        "from sklearn.ensemble import GradientBoostingRegressor\n",
        "model= GradientBoostingRegressor()"
      ],
      "execution_count": null,
      "outputs": []
    },
    {
      "cell_type": "code",
      "metadata": {
        "id": "3Bdj7IKKg-QW"
      },
      "source": [
        "## Hyper Parameter Optimization\n",
        "\n",
        "n_estimators = [100,200,300,400,500,600, 700,800, 900,1000, 1100,1200, 1300,1400,1500]\n",
        "max_depth = [2, 3,4, 5, 6,7, 8,9, 10,11,12,13,14, 15]\n",
        "booster=['gbtree','gblinear']\n",
        "learning_rate=[0.05,0.1,0.15,0.20,0.30, 0.40]\n",
        "min_samples_split=[1,2,3,4,5]\n",
        "\n",
        "# Define the grid of hyperparameters to search\n",
        "hyperparameter_grid = {\n",
        "    'n_estimators': n_estimators,\n",
        "    'max_depth':max_depth,\n",
        "    'learning_rate':learning_rate,\n",
        "    'min_samples_split':min_samples_split,\n",
        "    }"
      ],
      "execution_count": null,
      "outputs": []
    },
    {
      "cell_type": "code",
      "metadata": {
        "id": "XI7ZmsvOhQ4_"
      },
      "source": [
        "from sklearn.model_selection import RandomizedSearchCV\n",
        "# Set up the random search with 4-fold cross validation\n",
        "random_cv2 = RandomizedSearchCV(estimator=model,\n",
        "            param_distributions=hyperparameter_grid,\n",
        "            cv=5, n_iter=50,\n",
        "            scoring = 'neg_mean_absolute_error',n_jobs = 6,\n",
        "            verbose = 5, \n",
        "            return_train_score = True,\n",
        "            random_state=42)"
      ],
      "execution_count": null,
      "outputs": []
    },
    {
      "cell_type": "code",
      "metadata": {
        "id": "0y2TFdBPhYqD",
        "colab": {
          "base_uri": "https://localhost:8080/",
          "height": 595
        },
        "outputId": "da979f0a-865d-44ac-bb4e-dcb2e7348459"
      },
      "source": [
        "random_cv2.fit(bf,y)"
      ],
      "execution_count": null,
      "outputs": [
        {
          "output_type": "stream",
          "text": [
            "Fitting 5 folds for each of 50 candidates, totalling 250 fits\n"
          ],
          "name": "stdout"
        },
        {
          "output_type": "stream",
          "text": [
            "[Parallel(n_jobs=6)]: Using backend LokyBackend with 6 concurrent workers.\n",
            "[Parallel(n_jobs=6)]: Done   6 tasks      | elapsed:   14.7s\n",
            "[Parallel(n_jobs=6)]: Done  60 tasks      | elapsed:   59.6s\n",
            "[Parallel(n_jobs=6)]: Done 150 tasks      | elapsed:  3.3min\n",
            "[Parallel(n_jobs=6)]: Done 250 out of 250 | elapsed:  4.9min finished\n"
          ],
          "name": "stderr"
        },
        {
          "output_type": "execute_result",
          "data": {
            "text/plain": [
              "RandomizedSearchCV(cv=5, error_score=nan,\n",
              "                   estimator=GradientBoostingRegressor(alpha=0.9, ccp_alpha=0.0,\n",
              "                                                       criterion='friedman_mse',\n",
              "                                                       init=None,\n",
              "                                                       learning_rate=0.1,\n",
              "                                                       loss='ls', max_depth=3,\n",
              "                                                       max_features=None,\n",
              "                                                       max_leaf_nodes=None,\n",
              "                                                       min_impurity_decrease=0.0,\n",
              "                                                       min_impurity_split=None,\n",
              "                                                       min_samples_leaf=1,\n",
              "                                                       min_samples_split=2,\n",
              "                                                       min_weight_fraction_leaf=0.0,\n",
              "                                                       n_estimators=100,\n",
              "                                                       n_...\n",
              "                   iid='deprecated', n_iter=50, n_jobs=6,\n",
              "                   param_distributions={'learning_rate': [0.05, 0.1, 0.15, 0.2,\n",
              "                                                          0.3, 0.4],\n",
              "                                        'max_depth': [2, 3, 4, 5, 6, 7, 8, 9,\n",
              "                                                      10, 11, 12, 13, 14, 15],\n",
              "                                        'min_samples_split': [1, 2, 3, 4, 5],\n",
              "                                        'n_estimators': [100, 200, 300, 400,\n",
              "                                                         500, 600, 700, 800,\n",
              "                                                         900, 1000, 1100, 1200,\n",
              "                                                         1300, 1400, 1500]},\n",
              "                   pre_dispatch='2*n_jobs', random_state=42, refit=True,\n",
              "                   return_train_score=True, scoring='neg_mean_absolute_error',\n",
              "                   verbose=5)"
            ]
          },
          "metadata": {
            "tags": []
          },
          "execution_count": 183
        }
      ]
    },
    {
      "cell_type": "code",
      "metadata": {
        "id": "qY7A9Oa5hbuL",
        "colab": {
          "base_uri": "https://localhost:8080/",
          "height": 170
        },
        "outputId": "6cad7ae3-97b9-44b1-f392-7cacb817a7c2"
      },
      "source": [
        "random_cv2.best_estimator_"
      ],
      "execution_count": null,
      "outputs": [
        {
          "output_type": "execute_result",
          "data": {
            "text/plain": [
              "GradientBoostingRegressor(alpha=0.9, ccp_alpha=0.0, criterion='friedman_mse',\n",
              "                          init=None, learning_rate=0.1, loss='ls', max_depth=2,\n",
              "                          max_features=None, max_leaf_nodes=None,\n",
              "                          min_impurity_decrease=0.0, min_impurity_split=None,\n",
              "                          min_samples_leaf=1, min_samples_split=3,\n",
              "                          min_weight_fraction_leaf=0.0, n_estimators=300,\n",
              "                          n_iter_no_change=None, presort='deprecated',\n",
              "                          random_state=None, subsample=1.0, tol=0.0001,\n",
              "                          validation_fraction=0.1, verbose=0, warm_start=False)"
            ]
          },
          "metadata": {
            "tags": []
          },
          "execution_count": 184
        }
      ]
    },
    {
      "cell_type": "code",
      "metadata": {
        "id": "FCBeliILhfXq"
      },
      "source": [
        "model = GradientBoostingRegressor(alpha=0.9, ccp_alpha=0.0, criterion='friedman_mse',\n",
        "                          init=None, learning_rate=0.1, loss='ls', max_depth=2,\n",
        "                          max_features=None, max_leaf_nodes=None,\n",
        "                          min_impurity_decrease=0.0, min_impurity_split=None,\n",
        "                          min_samples_leaf=1, min_samples_split=3,\n",
        "                          min_weight_fraction_leaf=0.0, n_estimators=300,\n",
        "                          n_iter_no_change=None, presort='deprecated',\n",
        "                          random_state=None, subsample=1.0, tol=0.0001,\n",
        "                          validation_fraction=0.1, verbose=0, warm_start=False)"
      ],
      "execution_count": null,
      "outputs": []
    },
    {
      "cell_type": "code",
      "metadata": {
        "id": "Eq6YnfhYoYbZ",
        "colab": {
          "base_uri": "https://localhost:8080/",
          "height": 170
        },
        "outputId": "7eff891d-0a44-487d-b3ba-5a5fd0b4ceb9"
      },
      "source": [
        "model.fit(bf,y)"
      ],
      "execution_count": null,
      "outputs": [
        {
          "output_type": "execute_result",
          "data": {
            "text/plain": [
              "GradientBoostingRegressor(alpha=0.9, ccp_alpha=0.0, criterion='friedman_mse',\n",
              "                          init=None, learning_rate=0.1, loss='ls', max_depth=2,\n",
              "                          max_features=None, max_leaf_nodes=None,\n",
              "                          min_impurity_decrease=0.0, min_impurity_split=None,\n",
              "                          min_samples_leaf=1, min_samples_split=3,\n",
              "                          min_weight_fraction_leaf=0.0, n_estimators=300,\n",
              "                          n_iter_no_change=None, presort='deprecated',\n",
              "                          random_state=None, subsample=1.0, tol=0.0001,\n",
              "                          validation_fraction=0.1, verbose=0, warm_start=False)"
            ]
          },
          "metadata": {
            "tags": []
          },
          "execution_count": 186
        }
      ]
    },
    {
      "cell_type": "code",
      "metadata": {
        "id": "i31GRMiaobMZ",
        "colab": {
          "base_uri": "https://localhost:8080/",
          "height": 51
        },
        "outputId": "638e5f79-d94e-446f-c741-c2c3e3aba2e8"
      },
      "source": [
        "preds_tr = model.predict(bf)\n",
        "rmse = np.sqrt(mean_squared_error(y, preds_tr))\n",
        "print(\"RMSE: %f\" % (rmse))\n",
        "score = 100*max(0,1-rmse)\n",
        "score"
      ],
      "execution_count": null,
      "outputs": [
        {
          "output_type": "stream",
          "text": [
            "RMSE: 0.184996\n"
          ],
          "name": "stdout"
        },
        {
          "output_type": "execute_result",
          "data": {
            "text/plain": [
              "81.50039991906894"
            ]
          },
          "metadata": {
            "tags": []
          },
          "execution_count": 187
        }
      ]
    },
    {
      "cell_type": "code",
      "metadata": {
        "id": "jlmH3WF7ohWQ"
      },
      "source": [
        "gb_preds = model.predict(tf)"
      ],
      "execution_count": null,
      "outputs": []
    },
    {
      "cell_type": "code",
      "metadata": {
        "id": "dslYD9L_ooTA",
        "colab": {
          "base_uri": "https://localhost:8080/",
          "height": 51
        },
        "outputId": "9f1e38fb-2429-46a2-9676-1cc1e0c2a3b9"
      },
      "source": [
        "gb_preds"
      ],
      "execution_count": null,
      "outputs": [
        {
          "output_type": "execute_result",
          "data": {
            "text/plain": [
              "array([0.20047427, 0.18611459, 0.18619441, ..., 0.1837075 , 0.17547414,\n",
              "       0.18821671])"
            ]
          },
          "metadata": {
            "tags": []
          },
          "execution_count": 189
        }
      ]
    },
    {
      "cell_type": "code",
      "metadata": {
        "id": "W_o_CYCRop4o",
        "colab": {
          "base_uri": "https://localhost:8080/",
          "height": 204
        },
        "outputId": "b3a8f11c-bb5b-4b8b-8e4d-b1ea59727154"
      },
      "source": [
        "sam = pd.DataFrame()\n",
        "sam['Employee_ID'] = ids\n",
        "sam['Attrition_rate'] = gb_preds\n",
        "sam.head()"
      ],
      "execution_count": null,
      "outputs": [
        {
          "output_type": "execute_result",
          "data": {
            "text/html": [
              "<div>\n",
              "<style scoped>\n",
              "    .dataframe tbody tr th:only-of-type {\n",
              "        vertical-align: middle;\n",
              "    }\n",
              "\n",
              "    .dataframe tbody tr th {\n",
              "        vertical-align: top;\n",
              "    }\n",
              "\n",
              "    .dataframe thead th {\n",
              "        text-align: right;\n",
              "    }\n",
              "</style>\n",
              "<table border=\"1\" class=\"dataframe\">\n",
              "  <thead>\n",
              "    <tr style=\"text-align: right;\">\n",
              "      <th></th>\n",
              "      <th>Employee_ID</th>\n",
              "      <th>Attrition_rate</th>\n",
              "    </tr>\n",
              "  </thead>\n",
              "  <tbody>\n",
              "    <tr>\n",
              "      <th>0</th>\n",
              "      <td>EID_22713</td>\n",
              "      <td>0.200474</td>\n",
              "    </tr>\n",
              "    <tr>\n",
              "      <th>1</th>\n",
              "      <td>EID_9658</td>\n",
              "      <td>0.186115</td>\n",
              "    </tr>\n",
              "    <tr>\n",
              "      <th>2</th>\n",
              "      <td>EID_22203</td>\n",
              "      <td>0.186194</td>\n",
              "    </tr>\n",
              "    <tr>\n",
              "      <th>3</th>\n",
              "      <td>EID_7652</td>\n",
              "      <td>0.270951</td>\n",
              "    </tr>\n",
              "    <tr>\n",
              "      <th>4</th>\n",
              "      <td>EID_6516</td>\n",
              "      <td>0.200474</td>\n",
              "    </tr>\n",
              "  </tbody>\n",
              "</table>\n",
              "</div>"
            ],
            "text/plain": [
              "  Employee_ID  Attrition_rate\n",
              "0   EID_22713        0.200474\n",
              "1    EID_9658        0.186115\n",
              "2   EID_22203        0.186194\n",
              "3    EID_7652        0.270951\n",
              "4    EID_6516        0.200474"
            ]
          },
          "metadata": {
            "tags": []
          },
          "execution_count": 190
        }
      ]
    },
    {
      "cell_type": "code",
      "metadata": {
        "id": "MdiVqgxGouts"
      },
      "source": [
        "sam.to_csv(\"hck_grd_bf_1.csv\", index=False)"
      ],
      "execution_count": null,
      "outputs": []
    },
    {
      "cell_type": "code",
      "metadata": {
        "id": "Gr-Ih83fo1uy",
        "colab": {
          "base_uri": "https://localhost:8080/",
          "height": 34
        },
        "outputId": "672ae5da-abaf-4cdc-bd64-1bca25c3645f"
      },
      "source": [
        "joblib.dump(model,'grd_model1')"
      ],
      "execution_count": null,
      "outputs": [
        {
          "output_type": "execute_result",
          "data": {
            "text/plain": [
              "['grd_model1']"
            ]
          },
          "metadata": {
            "tags": []
          },
          "execution_count": 204
        }
      ]
    },
    {
      "cell_type": "code",
      "metadata": {
        "id": "OdF6lB71o_oa"
      },
      "source": [
        "xm = joblib.load('grd_model1')"
      ],
      "execution_count": null,
      "outputs": []
    },
    {
      "cell_type": "code",
      "metadata": {
        "id": "SYylm04IzfXt",
        "colab": {
          "base_uri": "https://localhost:8080/",
          "height": 170
        },
        "outputId": "5a905077-ee4c-490b-ea62-e5a7c2a13252"
      },
      "source": [
        "xm.fit(X_ss,y)"
      ],
      "execution_count": null,
      "outputs": [
        {
          "output_type": "execute_result",
          "data": {
            "text/plain": [
              "GradientBoostingRegressor(alpha=0.9, ccp_alpha=0.0, criterion='friedman_mse',\n",
              "                          init=None, learning_rate=0.1, loss='ls', max_depth=2,\n",
              "                          max_features=None, max_leaf_nodes=None,\n",
              "                          min_impurity_decrease=0.0, min_impurity_split=None,\n",
              "                          min_samples_leaf=1, min_samples_split=3,\n",
              "                          min_weight_fraction_leaf=0.0, n_estimators=300,\n",
              "                          n_iter_no_change=None, presort='deprecated',\n",
              "                          random_state=None, subsample=1.0, tol=0.0001,\n",
              "                          validation_fraction=0.1, verbose=0, warm_start=False)"
            ]
          },
          "metadata": {
            "tags": []
          },
          "execution_count": 226
        }
      ]
    },
    {
      "cell_type": "code",
      "metadata": {
        "id": "jczFI8eFpipP",
        "colab": {
          "base_uri": "https://localhost:8080/",
          "height": 51
        },
        "outputId": "9e3583c1-e5d1-4ce6-8de5-5a4fbc611096"
      },
      "source": [
        "preds_tr = xm.predict(X_ss)\n",
        "rmse = np.sqrt(mean_squared_error(y, preds_tr))\n",
        "print(\"RMSE: %f\" % (rmse))\n",
        "score = 100*max(0,1-rmse)\n",
        "score"
      ],
      "execution_count": null,
      "outputs": [
        {
          "output_type": "stream",
          "text": [
            "RMSE: 0.180228\n"
          ],
          "name": "stdout"
        },
        {
          "output_type": "execute_result",
          "data": {
            "text/plain": [
              "81.97715177408172"
            ]
          },
          "metadata": {
            "tags": []
          },
          "execution_count": 227
        }
      ]
    },
    {
      "cell_type": "code",
      "metadata": {
        "id": "Ik9aHcWvplHv"
      },
      "source": [
        "preds = xm.predict(test_ss)"
      ],
      "execution_count": null,
      "outputs": []
    },
    {
      "cell_type": "code",
      "metadata": {
        "id": "S_WfkPPmzbLk",
        "colab": {
          "base_uri": "https://localhost:8080/",
          "height": 51
        },
        "outputId": "2d12451f-00da-455e-a7e4-051f3c6c88b1"
      },
      "source": [
        "preds"
      ],
      "execution_count": null,
      "outputs": [
        {
          "output_type": "execute_result",
          "data": {
            "text/plain": [
              "array([0.21765393, 0.21217961, 0.16246589, ..., 0.16785953, 0.16756976,\n",
              "       0.22603936])"
            ]
          },
          "metadata": {
            "tags": []
          },
          "execution_count": 229
        }
      ]
    },
    {
      "cell_type": "code",
      "metadata": {
        "id": "UTeTjCiQzbGN",
        "colab": {
          "base_uri": "https://localhost:8080/",
          "height": 51
        },
        "outputId": "cae7a059-b2fe-4765-9a6a-9ea20d021eb2"
      },
      "source": [
        "rmse = np.sqrt(mean_squared_error(gb_preds, preds))\n",
        "print(\"RMSE: %f\" % (rmse))\n",
        "score = 100*max(0,1-rmse)\n",
        "score"
      ],
      "execution_count": null,
      "outputs": [
        {
          "output_type": "stream",
          "text": [
            "RMSE: 0.006004\n"
          ],
          "name": "stdout"
        },
        {
          "output_type": "execute_result",
          "data": {
            "text/plain": [
              "99.39963527085726"
            ]
          },
          "metadata": {
            "tags": []
          },
          "execution_count": 230
        }
      ]
    },
    {
      "cell_type": "code",
      "metadata": {
        "id": "DKkvw-BSzbAF",
        "colab": {
          "base_uri": "https://localhost:8080/",
          "height": 204
        },
        "outputId": "b0ea46a3-ed62-49cb-b601-7dc25af4d21b"
      },
      "source": [
        "sam = pd.DataFrame()\n",
        "sam['Employee_ID'] = ids\n",
        "sam['Attrition_rate'] = preds\n",
        "sam.head()"
      ],
      "execution_count": null,
      "outputs": [
        {
          "output_type": "execute_result",
          "data": {
            "text/html": [
              "<div>\n",
              "<style scoped>\n",
              "    .dataframe tbody tr th:only-of-type {\n",
              "        vertical-align: middle;\n",
              "    }\n",
              "\n",
              "    .dataframe tbody tr th {\n",
              "        vertical-align: top;\n",
              "    }\n",
              "\n",
              "    .dataframe thead th {\n",
              "        text-align: right;\n",
              "    }\n",
              "</style>\n",
              "<table border=\"1\" class=\"dataframe\">\n",
              "  <thead>\n",
              "    <tr style=\"text-align: right;\">\n",
              "      <th></th>\n",
              "      <th>Employee_ID</th>\n",
              "      <th>Attrition_rate</th>\n",
              "    </tr>\n",
              "  </thead>\n",
              "  <tbody>\n",
              "    <tr>\n",
              "      <th>0</th>\n",
              "      <td>EID_22713</td>\n",
              "      <td>0.217654</td>\n",
              "    </tr>\n",
              "    <tr>\n",
              "      <th>1</th>\n",
              "      <td>EID_9658</td>\n",
              "      <td>0.212180</td>\n",
              "    </tr>\n",
              "    <tr>\n",
              "      <th>2</th>\n",
              "      <td>EID_22203</td>\n",
              "      <td>0.162466</td>\n",
              "    </tr>\n",
              "    <tr>\n",
              "      <th>3</th>\n",
              "      <td>EID_7652</td>\n",
              "      <td>0.217505</td>\n",
              "    </tr>\n",
              "    <tr>\n",
              "      <th>4</th>\n",
              "      <td>EID_6516</td>\n",
              "      <td>0.238739</td>\n",
              "    </tr>\n",
              "  </tbody>\n",
              "</table>\n",
              "</div>"
            ],
            "text/plain": [
              "  Employee_ID  Attrition_rate\n",
              "0   EID_22713        0.217654\n",
              "1    EID_9658        0.212180\n",
              "2   EID_22203        0.162466\n",
              "3    EID_7652        0.217505\n",
              "4    EID_6516        0.238739"
            ]
          },
          "metadata": {
            "tags": []
          },
          "execution_count": 231
        }
      ]
    },
    {
      "cell_type": "code",
      "metadata": {
        "id": "sf7NtOegza6r"
      },
      "source": [
        "sam.to_csv(\"hck_ss_grdb_1.csv\", index=False)"
      ],
      "execution_count": null,
      "outputs": []
    },
    {
      "cell_type": "code",
      "metadata": {
        "id": "-V3jHrBlza1j"
      },
      "source": [
        ""
      ],
      "execution_count": null,
      "outputs": []
    },
    {
      "cell_type": "code",
      "metadata": {
        "id": "XdP9zeOIzavq"
      },
      "source": [
        ""
      ],
      "execution_count": null,
      "outputs": []
    },
    {
      "cell_type": "code",
      "metadata": {
        "id": "pOic9nKXplC-"
      },
      "source": [
        "final_preds = gb_preds*0.75 + xgb_preds*0.25"
      ],
      "execution_count": null,
      "outputs": []
    },
    {
      "cell_type": "code",
      "metadata": {
        "id": "t_2691hopy4r",
        "colab": {
          "base_uri": "https://localhost:8080/",
          "height": 51
        },
        "outputId": "1884d27e-67a5-4d66-8bb7-5e6f600a1bc0"
      },
      "source": [
        "final_preds"
      ],
      "execution_count": null,
      "outputs": [
        {
          "output_type": "execute_result",
          "data": {
            "text/plain": [
              "array([0.21232212, 0.20697444, 0.16707524, ..., 0.17084977, 0.16897587,\n",
              "       0.21797882])"
            ]
          },
          "metadata": {
            "tags": []
          },
          "execution_count": 214
        }
      ]
    },
    {
      "cell_type": "code",
      "metadata": {
        "id": "QUGJib22pi0a",
        "colab": {
          "base_uri": "https://localhost:8080/",
          "height": 204
        },
        "outputId": "cdba1d4e-1d90-4f2a-eccb-2ee430e58add"
      },
      "source": [
        "sam = pd.DataFrame()\n",
        "sam['Employee_ID'] = ids\n",
        "sam['Attrition_rate'] = final_preds\n",
        "sam.head()"
      ],
      "execution_count": null,
      "outputs": [
        {
          "output_type": "execute_result",
          "data": {
            "text/html": [
              "<div>\n",
              "<style scoped>\n",
              "    .dataframe tbody tr th:only-of-type {\n",
              "        vertical-align: middle;\n",
              "    }\n",
              "\n",
              "    .dataframe tbody tr th {\n",
              "        vertical-align: top;\n",
              "    }\n",
              "\n",
              "    .dataframe thead th {\n",
              "        text-align: right;\n",
              "    }\n",
              "</style>\n",
              "<table border=\"1\" class=\"dataframe\">\n",
              "  <thead>\n",
              "    <tr style=\"text-align: right;\">\n",
              "      <th></th>\n",
              "      <th>Employee_ID</th>\n",
              "      <th>Attrition_rate</th>\n",
              "    </tr>\n",
              "  </thead>\n",
              "  <tbody>\n",
              "    <tr>\n",
              "      <th>0</th>\n",
              "      <td>EID_22713</td>\n",
              "      <td>0.212322</td>\n",
              "    </tr>\n",
              "    <tr>\n",
              "      <th>1</th>\n",
              "      <td>EID_9658</td>\n",
              "      <td>0.206974</td>\n",
              "    </tr>\n",
              "    <tr>\n",
              "      <th>2</th>\n",
              "      <td>EID_22203</td>\n",
              "      <td>0.167075</td>\n",
              "    </tr>\n",
              "    <tr>\n",
              "      <th>3</th>\n",
              "      <td>EID_7652</td>\n",
              "      <td>0.212308</td>\n",
              "    </tr>\n",
              "    <tr>\n",
              "      <th>4</th>\n",
              "      <td>EID_6516</td>\n",
              "      <td>0.227894</td>\n",
              "    </tr>\n",
              "  </tbody>\n",
              "</table>\n",
              "</div>"
            ],
            "text/plain": [
              "  Employee_ID  Attrition_rate\n",
              "0   EID_22713        0.212322\n",
              "1    EID_9658        0.206974\n",
              "2   EID_22203        0.167075\n",
              "3    EID_7652        0.212308\n",
              "4    EID_6516        0.227894"
            ]
          },
          "metadata": {
            "tags": []
          },
          "execution_count": 215
        }
      ]
    },
    {
      "cell_type": "code",
      "metadata": {
        "id": "aLNs98oRp7k4"
      },
      "source": [
        "sam.to_csv(\"hck_comb_13.csv\", index=False)"
      ],
      "execution_count": null,
      "outputs": []
    },
    {
      "cell_type": "code",
      "metadata": {
        "id": "nCe1xLHvqEuM"
      },
      "source": [
        ""
      ],
      "execution_count": null,
      "outputs": []
    },
    {
      "cell_type": "code",
      "metadata": {
        "id": "72lSWWem0vbm"
      },
      "source": [
        ""
      ],
      "execution_count": null,
      "outputs": []
    },
    {
      "cell_type": "code",
      "metadata": {
        "id": "azYSaQD50vVZ"
      },
      "source": [
        "from sklearn.ensemble import AdaBoostRegressor\n",
        "model= AdaBoostRegressor()"
      ],
      "execution_count": null,
      "outputs": []
    },
    {
      "cell_type": "code",
      "metadata": {
        "id": "dVuNU8La0vSp"
      },
      "source": [
        "## Hyper Parameter Optimization\n",
        "\n",
        "n_estimators = [100,200,300,400,500,600, 700,800, 900,1000, 1100,1200, 1300,1400,1500]\n",
        "#max_depth = [2, 3,4, 5, 6,7, 8,9, 10,11,12,13,14, 15]\n",
        "#booster=['gbtree','gblinear']\n",
        "learning_rate=[0.05,0.1,0.15,0.20,0.30, 0.40]\n",
        "#min_samples_split=[1,2,3,4,5]\n",
        "\n",
        "# Define the grid of hyperparameters to search\n",
        "hyperparameter_grid = {\n",
        "    'n_estimators': n_estimators,\n",
        "    'learning_rate':learning_rate\n",
        "    }"
      ],
      "execution_count": null,
      "outputs": []
    },
    {
      "cell_type": "code",
      "metadata": {
        "id": "9MrNZ6M03ALV"
      },
      "source": [
        "from sklearn.model_selection import RandomizedSearchCV\n",
        "# Set up the random search with 4-fold cross validation\n",
        "random_cv3 = RandomizedSearchCV(estimator=model,\n",
        "            param_distributions=hyperparameter_grid,\n",
        "            cv=5, n_iter=50,\n",
        "            scoring = 'neg_mean_absolute_error',n_jobs = 6,\n",
        "            verbose = 5, \n",
        "            return_train_score = True,\n",
        "            random_state=42)"
      ],
      "execution_count": null,
      "outputs": []
    },
    {
      "cell_type": "code",
      "metadata": {
        "id": "QwIZAlkF3I21",
        "colab": {
          "base_uri": "https://localhost:8080/",
          "height": 374
        },
        "outputId": "bdfa1258-eb71-4d82-a1b2-81492d83859f"
      },
      "source": [
        "random_cv3.fit(bf,y)"
      ],
      "execution_count": null,
      "outputs": [
        {
          "output_type": "stream",
          "text": [
            "Fitting 5 folds for each of 50 candidates, totalling 250 fits\n"
          ],
          "name": "stdout"
        },
        {
          "output_type": "stream",
          "text": [
            "[Parallel(n_jobs=6)]: Using backend LokyBackend with 6 concurrent workers.\n",
            "[Parallel(n_jobs=6)]: Done   6 tasks      | elapsed:    2.2s\n",
            "[Parallel(n_jobs=6)]: Done  60 tasks      | elapsed:   14.8s\n",
            "[Parallel(n_jobs=6)]: Done 150 tasks      | elapsed:   35.3s\n",
            "[Parallel(n_jobs=6)]: Done 250 out of 250 | elapsed:  1.1min finished\n"
          ],
          "name": "stderr"
        },
        {
          "output_type": "execute_result",
          "data": {
            "text/plain": [
              "RandomizedSearchCV(cv=5, error_score=nan,\n",
              "                   estimator=AdaBoostRegressor(base_estimator=None,\n",
              "                                               learning_rate=1.0, loss='linear',\n",
              "                                               n_estimators=50,\n",
              "                                               random_state=None),\n",
              "                   iid='deprecated', n_iter=50, n_jobs=6,\n",
              "                   param_distributions={'learning_rate': [0.05, 0.1, 0.15, 0.2,\n",
              "                                                          0.3, 0.4],\n",
              "                                        'n_estimators': [100, 200, 300, 400,\n",
              "                                                         500, 600, 700, 800,\n",
              "                                                         900, 1000, 1100, 1200,\n",
              "                                                         1300, 1400, 1500]},\n",
              "                   pre_dispatch='2*n_jobs', random_state=42, refit=True,\n",
              "                   return_train_score=True, scoring='neg_mean_absolute_error',\n",
              "                   verbose=5)"
            ]
          },
          "metadata": {
            "tags": []
          },
          "execution_count": 195
        }
      ]
    },
    {
      "cell_type": "code",
      "metadata": {
        "id": "4jriJf3U3O3x",
        "colab": {
          "base_uri": "https://localhost:8080/",
          "height": 51
        },
        "outputId": "05c12a0f-cbfb-44f0-cde6-5f10dee88650"
      },
      "source": [
        "random_cv3.best_estimator_"
      ],
      "execution_count": null,
      "outputs": [
        {
          "output_type": "execute_result",
          "data": {
            "text/plain": [
              "AdaBoostRegressor(base_estimator=None, learning_rate=0.05, loss='linear',\n",
              "                  n_estimators=100, random_state=None)"
            ]
          },
          "metadata": {
            "tags": []
          },
          "execution_count": 196
        }
      ]
    },
    {
      "cell_type": "code",
      "metadata": {
        "id": "ZaZOXq6R4hcw"
      },
      "source": [
        "model = AdaBoostRegressor(base_estimator=None, learning_rate=0.05, loss='linear',\n",
        "                  n_estimators=100, random_state=None)"
      ],
      "execution_count": null,
      "outputs": []
    },
    {
      "cell_type": "code",
      "metadata": {
        "id": "QyDy70Ss4oSF",
        "colab": {
          "base_uri": "https://localhost:8080/",
          "height": 51
        },
        "outputId": "69a9292c-0550-4784-deb9-b41aebbdea23"
      },
      "source": [
        "model.fit(bf,y)"
      ],
      "execution_count": null,
      "outputs": [
        {
          "output_type": "execute_result",
          "data": {
            "text/plain": [
              "AdaBoostRegressor(base_estimator=None, learning_rate=0.05, loss='linear',\n",
              "                  n_estimators=100, random_state=None)"
            ]
          },
          "metadata": {
            "tags": []
          },
          "execution_count": 198
        }
      ]
    },
    {
      "cell_type": "code",
      "metadata": {
        "id": "CvXJDS7_4r3N",
        "colab": {
          "base_uri": "https://localhost:8080/",
          "height": 51
        },
        "outputId": "c4a412b9-efe2-4397-ac31-290191e8bbc3"
      },
      "source": [
        "preds_tr = model.predict(bf)\n",
        "rmse = np.sqrt(mean_squared_error(y, preds_tr))\n",
        "print(\"RMSE: %f\" % (rmse))\n",
        "score = 100*max(0,1-rmse)\n",
        "score"
      ],
      "execution_count": null,
      "outputs": [
        {
          "output_type": "stream",
          "text": [
            "RMSE: 0.193806\n"
          ],
          "name": "stdout"
        },
        {
          "output_type": "execute_result",
          "data": {
            "text/plain": [
              "80.6194466993714"
            ]
          },
          "metadata": {
            "tags": []
          },
          "execution_count": 199
        }
      ]
    },
    {
      "cell_type": "code",
      "metadata": {
        "id": "vMj60z5x43Xf"
      },
      "source": [
        "ad_preds = model.predict(tf)"
      ],
      "execution_count": null,
      "outputs": []
    },
    {
      "cell_type": "code",
      "metadata": {
        "id": "zMOZkXQN4_gM",
        "colab": {
          "base_uri": "https://localhost:8080/",
          "height": 204
        },
        "outputId": "9e34b935-ccd3-4be2-91b3-a1cd8018f794"
      },
      "source": [
        "sam = pd.DataFrame()\n",
        "sam['Employee_ID'] = ids\n",
        "sam['Attrition_rate'] = ad_preds\n",
        "sam.head()"
      ],
      "execution_count": null,
      "outputs": [
        {
          "output_type": "execute_result",
          "data": {
            "text/html": [
              "<div>\n",
              "<style scoped>\n",
              "    .dataframe tbody tr th:only-of-type {\n",
              "        vertical-align: middle;\n",
              "    }\n",
              "\n",
              "    .dataframe tbody tr th {\n",
              "        vertical-align: top;\n",
              "    }\n",
              "\n",
              "    .dataframe thead th {\n",
              "        text-align: right;\n",
              "    }\n",
              "</style>\n",
              "<table border=\"1\" class=\"dataframe\">\n",
              "  <thead>\n",
              "    <tr style=\"text-align: right;\">\n",
              "      <th></th>\n",
              "      <th>Employee_ID</th>\n",
              "      <th>Attrition_rate</th>\n",
              "    </tr>\n",
              "  </thead>\n",
              "  <tbody>\n",
              "    <tr>\n",
              "      <th>0</th>\n",
              "      <td>EID_22713</td>\n",
              "      <td>0.245524</td>\n",
              "    </tr>\n",
              "    <tr>\n",
              "      <th>1</th>\n",
              "      <td>EID_9658</td>\n",
              "      <td>0.238509</td>\n",
              "    </tr>\n",
              "    <tr>\n",
              "      <th>2</th>\n",
              "      <td>EID_22203</td>\n",
              "      <td>0.255636</td>\n",
              "    </tr>\n",
              "    <tr>\n",
              "      <th>3</th>\n",
              "      <td>EID_7652</td>\n",
              "      <td>0.286677</td>\n",
              "    </tr>\n",
              "    <tr>\n",
              "      <th>4</th>\n",
              "      <td>EID_6516</td>\n",
              "      <td>0.245524</td>\n",
              "    </tr>\n",
              "  </tbody>\n",
              "</table>\n",
              "</div>"
            ],
            "text/plain": [
              "  Employee_ID  Attrition_rate\n",
              "0   EID_22713        0.245524\n",
              "1    EID_9658        0.238509\n",
              "2   EID_22203        0.255636\n",
              "3    EID_7652        0.286677\n",
              "4    EID_6516        0.245524"
            ]
          },
          "metadata": {
            "tags": []
          },
          "execution_count": 201
        }
      ]
    },
    {
      "cell_type": "code",
      "metadata": {
        "id": "lPOd1Ees5DdZ"
      },
      "source": [
        "sam.to_csv(\"hck_ada_bf_1.csv\", index=False)"
      ],
      "execution_count": null,
      "outputs": []
    },
    {
      "cell_type": "code",
      "metadata": {
        "id": "nET4TzxQ5Jfj",
        "colab": {
          "base_uri": "https://localhost:8080/",
          "height": 34
        },
        "outputId": "17a15cae-7730-4d5f-da68-b9cad6a89501"
      },
      "source": [
        "joblib.dump(model,'ada_model1')"
      ],
      "execution_count": null,
      "outputs": [
        {
          "output_type": "execute_result",
          "data": {
            "text/plain": [
              "['ada_model1']"
            ]
          },
          "metadata": {
            "tags": []
          },
          "execution_count": 248
        }
      ]
    },
    {
      "cell_type": "code",
      "metadata": {
        "id": "24u3kHJp5nSH"
      },
      "source": [
        ""
      ],
      "execution_count": null,
      "outputs": []
    }
  ]
}